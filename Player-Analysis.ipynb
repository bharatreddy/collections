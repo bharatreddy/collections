{
 "metadata": {
  "name": "",
  "signature": "sha256:2e0f41530590b6ab26365b74dd8810c1cd7dc08e3713d1479ef08c6934193cb8"
 },
 "nbformat": 3,
 "nbformat_minor": 0,
 "worksheets": [
  {
   "cells": [
    {
     "cell_type": "markdown",
     "metadata": {},
     "source": [
      "Setup connection with the DB\n",
      "----------------------------"
     ]
    },
    {
     "cell_type": "code",
     "collapsed": false,
     "input": [
      "import pandas\n",
      "import mysql.connector\n",
      "# set up connections to the DB\n",
      "conn = mysql.connector.Connect(host='localhost',user='root',\\\n",
      "                        password='',database='cricdata')"
     ],
     "language": "python",
     "metadata": {},
     "outputs": [],
     "prompt_number": 1
    },
    {
     "cell_type": "markdown",
     "metadata": {},
     "source": [
      "Get data about a batsman\n",
      "------------------------"
     ]
    },
    {
     "cell_type": "code",
     "collapsed": false,
     "input": [
      "inpBatsman = '\"MS Dhoni\"'\n",
      "# retreive data from tables - \n",
      "# Deliveries, Innings, Game, PoM, Outcome\n",
      "qryBatsman = \"\"\"\n",
      "               SELECT Delvrs.MatchId, Delvrs.InnNum, Delvrs.Over,\n",
      "                   Delvrs.Batsman, Delvrs.NonStriker, Delvrs.Bowler,\n",
      "                   Delvrs.BatsmanRuns, Delvrs.ExtraRuns, Delvrs.NonBoundary,\n",
      "                   Delvrs.Substitution, Delvrs.Wicket, Delvrs.WicketFielder,\n",
      "                   Delvrs.WicketKind, Delvrs.WicketPlayerOut,\n",
      "                   Inn.Team, Game.MatchDate, Game.Venue, Outcome.Winner,\n",
      "                   PoM.Player, Toss.Decision, Toss.Winner\n",
      "               FROM Deliveries as Delvrs\n",
      "               INNER JOIN Innings as Inn\n",
      "                   ON (Inn.MatchId = Delvrs.MatchId\n",
      "                       AND Inn.InningsNum = Delvrs.InnNum)\n",
      "               INNER JOIN Game\n",
      "                   ON Game.Id = Delvrs.MatchId\n",
      "               INNER JOIN Outcome\n",
      "                   ON Outcome.MatchId = Delvrs.MatchId\n",
      "               INNER JOIN PlayerOfMatch as PoM\n",
      "                   ON PoM.MatchId = Delvrs.MatchId\n",
      "               INNER JOIN Toss\n",
      "                   ON Toss.MatchId = Delvrs.MatchId\n",
      "               WHERE Delvrs.Batsman = \n",
      "             \"\"\"\n",
      "qryBatsman += inpBatsman\n",
      "batsmanDF = pandas.read_sql( qryBatsman, conn )\n",
      "# Add an additional year column, for some reason the DatetimeIndex\n",
      "# function didnt work\n",
      "batsmanDF['year'] = batsmanDF['MatchDate'].values.astype( 'datetime64[Y]' )\n",
      "print batsmanDF.head(5)"
     ],
     "language": "python",
     "metadata": {},
     "outputs": [
      {
       "output_type": "stream",
       "stream": "stdout",
       "text": [
        "<class 'pandas.core.frame.DataFrame'>\n",
        "Int64Index: 5 entries, 0 to 4\n",
        "Data columns (total 22 columns):\n",
        "MatchId            5  non-null values\n",
        "InnNum             5  non-null values\n",
        "Over               5  non-null values\n",
        "Batsman            5  non-null values\n",
        "NonStriker         5  non-null values\n",
        "Bowler             5  non-null values\n",
        "BatsmanRuns        5  non-null values\n",
        "ExtraRuns          5  non-null values\n",
        "NonBoundary        0  non-null values\n",
        "Substitution       0  non-null values\n",
        "Wicket             1  non-null values\n",
        "WicketFielder      0  non-null values\n",
        "WicketKind         1  non-null values\n",
        "WicketPlayerOut    1  non-null values\n",
        "Team               5  non-null values\n",
        "MatchDate          5  non-null values\n",
        "Venue              5  non-null values\n",
        "Winner             5  non-null values\n",
        "Player             5  non-null values\n",
        "Decision           5  non-null values\n",
        "Winner             5  non-null values\n",
        "year               5  non-null values\n",
        "dtypes: datetime64[ns](2), float64(1), int64(4), object(15)\n"
       ]
      }
     ],
     "prompt_number": 52
    }
   ],
   "metadata": {}
  }
 ]
}
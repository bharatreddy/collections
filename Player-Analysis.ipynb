{
 "metadata": {
  "name": "",
  "signature": "sha256:32efcdb9268c811766e8ce0420d52422815fbefd4b5336a2cf54ab0f49c18e34"
 },
 "nbformat": 3,
 "nbformat_minor": 0,
 "worksheets": [
  {
   "cells": [
    {
     "cell_type": "markdown",
     "metadata": {},
     "source": [
      "Setup connection with the DB\n",
      "----------------------------"
     ]
    },
    {
     "cell_type": "code",
     "collapsed": false,
     "input": [
      "import pandas\n",
      "import mysql.connector\n",
      "# set up connections to the DB\n",
      "conn = mysql.connector.Connect(host='localhost',user='root',\\\n",
      "                        password='',database='cricdata')"
     ],
     "language": "python",
     "metadata": {},
     "outputs": [],
     "prompt_number": 1
    },
    {
     "cell_type": "markdown",
     "metadata": {},
     "source": [
      "Get data about a batsman\n",
      "------------------------"
     ]
    },
    {
     "cell_type": "code",
     "collapsed": false,
     "input": [
      "inpBatsman = 'MS Dhoni'\n",
      "qryBatsman = \"\"\"\n",
      "               SELECT * FROM Deliveries\n",
      "               WHERE Batsman = \n",
      "             \"\"\"\n",
      "qryBatsman += inpBatsman\n",
      "pomDF = pandas.read_sql( qryPoM, conn )\n",
      "# Add an additional year column\n",
      "pomDF['year'] = pandas.DatetimeIndex( pomDF['MatchDate'] ).year"
     ],
     "language": "python",
     "metadata": {},
     "outputs": []
    }
   ],
   "metadata": {}
  }
 ]
}
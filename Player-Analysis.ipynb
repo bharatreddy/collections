{
 "metadata": {
  "name": "",
  "signature": "sha256:d59f24fca8f6da92097dd01176f8c8e17f6e0c781f552a19ed57fe2a48302384"
 },
 "nbformat": 3,
 "nbformat_minor": 0,
 "worksheets": [
  {
   "cells": [
    {
     "cell_type": "markdown",
     "metadata": {},
     "source": [
      "Setup connection with the DB\n",
      "----------------------------"
     ]
    },
    {
     "cell_type": "code",
     "collapsed": false,
     "input": [
      "import pandas\n",
      "import mysql.connector\n",
      "# set up connections to the DB\n",
      "conn = mysql.connector.Connect(host='localhost',user='root',\\\n",
      "                        password='',database='cricdata')"
     ],
     "language": "python",
     "metadata": {},
     "outputs": [],
     "prompt_number": 1
    },
    {
     "cell_type": "markdown",
     "metadata": {},
     "source": [
      "Get data about a batsman\n",
      "------------------------"
     ]
    },
    {
     "cell_type": "code",
     "collapsed": false,
     "input": [
      "import dateutil\n",
      "inpBatsman = '\"MS Dhoni\"'\n",
      "# retreive data from tables - \n",
      "# Deliveries, Innings, Game, PoM, Outcome\n",
      "qryBatsman = \"\"\"\n",
      "               SELECT Delvrs.MatchId, Delvrs.InnNum, Delvrs.Over,Game.MatchDate,\n",
      "                   Delvrs.Batsman, Delvrs.NonStriker, Delvrs.Bowler,\n",
      "                   Delvrs.BatsmanRuns, Delvrs.ExtraRuns, Delvrs.NonBoundary,\n",
      "                   Delvrs.Substitution, Delvrs.Wicket, Delvrs.WicketFielder,\n",
      "                   Delvrs.WicketKind, Delvrs.WicketPlayerOut,\n",
      "                   Inn.Team, Game.Venue, Outcome.Winner\n",
      "               FROM Deliveries as Delvrs\n",
      "               INNER JOIN Innings as Inn\n",
      "                   ON (Inn.MatchId = Delvrs.MatchId\n",
      "                       AND Inn.InningsNum = Delvrs.InnNum)\n",
      "               INNER JOIN Game\n",
      "                   ON Game.Id = Delvrs.MatchId\n",
      "               INNER JOIN Outcome\n",
      "                   ON Outcome.MatchId = Delvrs.MatchId\n",
      "               WHERE Delvrs.Batsman = \n",
      "             \"\"\"\n",
      "qryBatsman += inpBatsman\n",
      "batsmanDF = pandas.read_sql( qryBatsman, conn )\n",
      "# Add an additional year column, for some reason the DatetimeIndex\n",
      "# function didnt work, we'll use a applymap func instead\n",
      "batsmanDF['year'] = batsmanDF['MatchDate'].map( lambda x: x.year ).reset_index(drop=True)\n",
      "print batsmanDF.head(5)"
     ],
     "language": "python",
     "metadata": {},
     "outputs": [
      {
       "output_type": "stream",
       "stream": "stdout",
       "text": [
        "   MatchId  InnNum  Over           MatchDate   Batsman  NonStriker     Bowler  \\\n",
        "0   335983       1   6.3 2008-04-19 00:00:00  MS Dhoni  MEK Hussey  IK Pathan   \n",
        "1   335983       1   6.6 2008-04-19 00:00:00  MS Dhoni  MEK Hussey  IK Pathan   \n",
        "2   335983       1   7.1 2008-04-19 00:00:00  MS Dhoni  MEK Hussey   JR Hopes   \n",
        "3   335989       1  15.1 2008-04-23 00:00:00  MS Dhoni   ML Hayden   DJ Bravo   \n",
        "4   335989       1  15.2 2008-04-23 00:00:00  MS Dhoni   ML Hayden   DJ Bravo   \n",
        "\n",
        "   BatsmanRuns  ExtraRuns NonBoundary Substitution Wicket WicketFielder  \\\n",
        "0            1          0        None         None   None          None   \n",
        "1            1          0        None         None   None          None   \n",
        "2            0          0        None         None   True          None   \n",
        "3            0          1        None         None   None          None   \n",
        "4            4          0        None         None   None          None   \n",
        "\n",
        "  WicketKind WicketPlayerOut                 Team  \\\n",
        "0       None            None  Chennai Super Kings   \n",
        "1       None            None  Chennai Super Kings   \n",
        "2        lbw        MS Dhoni  Chennai Super Kings   \n",
        "3       None            None  Chennai Super Kings   \n",
        "4       None            None  Chennai Super Kings   \n",
        "\n",
        "                                        Venue               Winner  year  \n",
        "0  Punjab Cricket Association Stadium, Mohali  Chennai Super Kings  2008  \n",
        "1  Punjab Cricket Association Stadium, Mohali  Chennai Super Kings  2008  \n",
        "2  Punjab Cricket Association Stadium, Mohali  Chennai Super Kings  2008  \n",
        "3             MA Chidambaram Stadium, Chepauk  Chennai Super Kings  2008  \n",
        "4             MA Chidambaram Stadium, Chepauk  Chennai Super Kings  2008  \n"
       ]
      }
     ],
     "prompt_number": 2
    },
    {
     "cell_type": "markdown",
     "metadata": {},
     "source": [
      "Stats by year\n",
      "-------------"
     ]
    },
    {
     "cell_type": "code",
     "collapsed": false,
     "input": [
      "# Group by year and get some details\n",
      "grpByYr = batsmanDF.groupby('year')\n",
      "# We get pandas series with aggregating on groupby funcs\n",
      "# concat those to form a DF\n",
      "plyrYearDF = pandas.concat( \\\n",
      "                           [grpByYr.BatsmanRuns.sum(), \\\n",
      "                            grpByYr.MatchId.nunique()], \\\n",
      "                           axis=1 )\n",
      "# Rename the columns\n",
      "plyrYearDF.columns = [ 'Runs', 'Matches' ]\n",
      "# make year a column rather than having it as index\n",
      "plyrYearDF['Year'] = plyrYearDF.index\n",
      "plyrYearDF.reset_index(drop=True,inplace=True)\n",
      "plyrYearDF['Avg'] = (plyrYearDF['Runs']*1./plyrYearDF['Matches'])\\\n",
      "                                .apply(lambda x: round(x, 2))\n",
      "# Also obtain balls played, strike rate, \n",
      "# num of boundaries, most common type of out etc\n",
      "print plyrYearDF"
     ],
     "language": "python",
     "metadata": {},
     "outputs": [
      {
       "output_type": "stream",
       "stream": "stdout",
       "text": [
        "   Runs  Matches  Year    Avg\n",
        "0   414       14  2008  29.57\n",
        "1   332       13  2009  25.54\n",
        "2   287       11  2010  26.09\n",
        "3   392       13  2011  30.15\n",
        "4   357       17  2012  21.00\n",
        "5   461       16  2013  28.81\n",
        "6   371       15  2014  24.73\n"
       ]
      }
     ],
     "prompt_number": 4
    },
    {
     "cell_type": "code",
     "collapsed": false,
     "input": [],
     "language": "python",
     "metadata": {},
     "outputs": []
    }
   ],
   "metadata": {}
  }
 ]
}
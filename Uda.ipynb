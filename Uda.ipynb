{
 "metadata": {
  "name": "",
  "signature": "sha256:ef9aa93d492a020ad7e8b367b179574824b35059cd2c4edb027211a6e57e5da0"
 },
 "nbformat": 3,
 "nbformat_minor": 0,
 "worksheets": [
  {
   "cells": [
    {
     "cell_type": "markdown",
     "metadata": {},
     "source": [
      "> Retreive and store data from Udacity API into a local mongo database"
     ]
    },
    {
     "cell_type": "code",
     "collapsed": false,
     "input": [
      "import json\n",
      "import urllib\n",
      "import pymongo\n",
      "# Establish a connection to mongo\n",
      "mClnt = pymongo.MongoClient()\n",
      "# Access the udacity database\n",
      "udacity = mClnt['Udacity']['course']\n",
      "# Get the data from Udacity API\n",
      "response = urllib.urlopen('https://udacity.com/public-api/v0/courses')\n",
      "json_response = json.loads(response.read())\n",
      "# Loop through each course and store the data into Mongo\n",
      "for course in json_response['courses']:\n",
      "    udacity.insert(course)"
     ],
     "language": "python",
     "metadata": {},
     "outputs": [],
     "prompt_number": 15
    },
    {
     "cell_type": "markdown",
     "metadata": {},
     "source": [
      "> Get the base info from the db and then crawl through the forums to get qstns discussed."
     ]
    },
    {
     "cell_type": "code",
     "collapsed": false,
     "input": [
      "import pymongo\n",
      "import urllib\n",
      "import bs4\n",
      "# Establish a connection to mongo\n",
      "mClnt = pymongo.MongoClient()\n",
      "# Access the udacity database\n",
      "udacity = mClnt['Udacity']['course']\n",
      "udaForum = mClnt['Udacity']['forum']\n",
      "# Now get the course info by looping through\n",
      "# each record in the DB\n",
      "recs = udacity.find({})\n",
      "# We'll loop through the recs and construct urls for forums\n",
      "forumUrl = 'http://forums.udacity.com/'\n",
      "for nr, rec in enumerate(recs):\n",
      "    # crawl through udacity website to get data\n",
      "    # now we'll sort the results by most voted. For\n",
      "    # now we'll just get the top 50 pages\n",
      "    # Have a dict to store all details\n",
      "    if nr < 7 :\n",
      "        continue\n",
      "    forumDict = {}\n",
      "    print \"currently working with course:->:\", rec['key']\n",
      "    forumDict['courseId'] = rec['key']\n",
      "    forumDict['fullText'] = []\n",
      "    for currPage in range(1,21):\n",
      "        print currPage, \n",
      "        currUrl = forumUrl + 'tags/' + rec['key'] + \\\n",
      "        '/?sort=mostvoted&page=' + str(currPage) + '#' + rec['key']\n",
      "        response = urllib.urlopen(currUrl)\n",
      "        # use beautiful soup for data parsing\n",
      "        soup = bs4.BeautifulSoup(response.read())\n",
      "        h2Tags = soup.findAll('h2')\n",
      "        # We'll need some more crawling, get the hrefs from the h2 data\n",
      "        # and crawl through them\n",
      "        qstnUrls =  [ forumUrl + x.find('a')['href'] \\\n",
      "                 for x in h2Tags if x.find('a') is not None ]\n",
      "        for qu in qstnUrls:\n",
      "            resp = urllib.urlopen(qu)\n",
      "            # use beautiful soup for data parsing\n",
      "            qSoup = bs4.BeautifulSoup(resp.read())\n",
      "            answersDiv = qSoup.findAll('div', attrs={'class' : 'answer-body'})\n",
      "            # get the qstn asked\n",
      "            qstn = qSoup.find('h2').text\n",
      "            # get the replies\n",
      "            try:\n",
      "                answers = [ ans.find('p').text for ans in answersDiv if ans.find('p') is not None ]\n",
      "            except:\n",
      "                print \"--------missed one----------\"\n",
      "                continue\n",
      "            forumDict['fullText'] += [qstn] + answers\n",
      "    udaForum.insert(forumDict)"
     ],
     "language": "python",
     "metadata": {},
     "outputs": [
      {
       "output_type": "stream",
       "stream": "stdout",
       "text": [
        " currently working with course:->: ud617\n",
        "1 "
       ]
      },
      {
       "output_type": "stream",
       "stream": "stdout",
       "text": [
        "2 "
       ]
      }
     ]
    },
    {
     "cell_type": "code",
     "collapsed": false,
     "input": [],
     "language": "python",
     "metadata": {},
     "outputs": []
    }
   ],
   "metadata": {}
  }
 ]
}
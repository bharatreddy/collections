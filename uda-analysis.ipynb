{
 "metadata": {
  "name": "",
  "signature": "sha256:2e93d3ccac1c23111f6ce023e5878d500ad4bc63cfb8285748f819cb0101f5ca"
 },
 "nbformat": 3,
 "nbformat_minor": 0,
 "worksheets": [
  {
   "cells": [
    {
     "cell_type": "markdown",
     "metadata": {},
     "source": [
      "> Use NLTK and scikit learn to train a classifier using movie review data from NLTK"
     ]
    },
    {
     "cell_type": "code",
     "collapsed": false,
     "input": [
      "from nltk.probability import FreqDist\n",
      "from nltk.classify import SklearnClassifier\n",
      "from sklearn.feature_extraction.text import TfidfTransformer\n",
      "from sklearn.feature_selection import SelectKBest, chi2\n",
      "from sklearn.naive_bayes import MultinomialNB\n",
      "from sklearn.pipeline import Pipeline\n",
      "from nltk.corpus import movie_reviews\n",
      "import numpy\n",
      "# Do TF-IDF weighting, chooses the 1000 best features,\n",
      "# based on a chi2 statistic, and then passes that into a \n",
      "# multinomial naive Bayes classifier.\n",
      "pipeline = Pipeline([('tfidf', TfidfTransformer()),\n",
      "                     ('chi2', SelectKBest(chi2, k=1000)),\n",
      "                     ('nb', MultinomialNB())])\n",
      "classfr = SklearnClassifier(pipeline)\n",
      "# train using the movie reviews data from NLTK\n",
      "pos = [FreqDist(movie_reviews.words(i)) for i in movie_reviews.fileids('pos')]\n",
      "neg = [FreqDist(movie_reviews.words(i)) for i in movie_reviews.fileids('neg')]\n",
      "addLabel = lambda lst, lab: [(x, lab) for x in lst]\n",
      "classfr.train(addLabel(pos[:5000], 'pos') + addLabel(neg[:5000], 'neg'))"
     ],
     "language": "python",
     "metadata": {},
     "outputs": [
      {
       "metadata": {},
       "output_type": "pyout",
       "prompt_number": 6,
       "text": [
        "<SklearnClassifier(Pipeline(steps=[('tfidf', TfidfTransformer(norm=u'l2', smooth_idf=True, sublinear_tf=False,\n",
        "         use_idf=True)), ('chi2', SelectKBest(k=1000, score_func=<function chi2 at 0x107b391b8>)), ('nb', MultinomialNB(alpha=1.0, class_prior=None, fit_prior=True))]))>"
       ]
      }
     ],
     "prompt_number": 6
    },
    {
     "cell_type": "markdown",
     "metadata": {},
     "source": [
      "> Now retrieve udacity forum data from MongoDB and try to classify"
     ]
    },
    {
     "cell_type": "code",
     "collapsed": false,
     "input": [
      "import pymongo\n",
      "import urllib\n",
      "from nltk.tokenize import word_tokenize\n",
      "from nltk.corpus import stopwords\n",
      "# get the english stop words\n",
      "stopWordsEng = set(stopwords.words('english'))\n",
      "# Establish a connection to mongo\n",
      "mClnt = pymongo.MongoClient()\n",
      "# Access the udacity database\n",
      "udacity = mClnt['Udacity']['course']\n",
      "udaForum = mClnt['Udacity']['forum']\n",
      "# Now get the course info by looping through\n",
      "# each record in the DB\n",
      "recs = udaForum.find({})\n",
      "# use a dict to seperate out pos and neg revs\n",
      "for rec in recs:\n",
      "    print \"course-->\", rec['courseId'],\n",
      "    # try getting the top 100 strings from the array\n",
      "    # get the text as a single string from udacity records\n",
      "    counter = 0\n",
      "    forumText = []\n",
      "    for r in rec['fullText']:\n",
      "        if counter < 1 : print r,\n",
      "        if counter > 500 : continue\n",
      "        tempTokens = word_tokenize(r)\n",
      "        forumText += [w for w in tempTokens if not w in stopWordsEng and len(w)>3]\n",
      "        counter += 1\n",
      "    # make it a freqDist\n",
      "    forumText = FreqDist( forumText )\n",
      "    print \"classified as-->\", classfr.classify( forumText )"
     ],
     "language": "python",
     "metadata": {},
     "outputs": [
      {
       "output_type": "stream",
       "stream": "stdout",
       "text": [
        "course--> ud015 quiz: setTimeout(); classified as--> neg\n",
        "course--> design101 where is the certificate? classified as--> neg\n",
        "course--> cs046 Great Course "
       ]
      },
      {
       "output_type": "stream",
       "stream": "stdout",
       "text": [
        "classified as--> neg\n",
        "course--> cs101 PageRank Clarified(?) "
       ]
      },
      {
       "output_type": "stream",
       "stream": "stdout",
       "text": [
        "classified as--> pos\n",
        "course--> ud304 This is what I love about Udacity "
       ]
      },
      {
       "output_type": "stream",
       "stream": "stdout",
       "text": [
        "classified as--> neg\n",
        "course--> ud804 Instructor's proposed solution incorrect? classified as--> "
       ]
      },
      {
       "output_type": "stream",
       "stream": "stdout",
       "text": [
        "neg\n",
        "course--> ud775 use git --stat instead of counting manually "
       ]
      },
      {
       "output_type": "stream",
       "stream": "stdout",
       "text": [
        "classified as--> pos\n",
        "course--> ud036 [INFO] How to format code $%\\color{magenta}{nicely}$% in the forums "
       ]
      },
      {
       "output_type": "stream",
       "stream": "stdout",
       "text": [
        "classified as--> neg\n",
        "course--> ud617 why doesn't the course end after final project ? "
       ]
      },
      {
       "output_type": "stream",
       "stream": "stdout",
       "text": [
        "classified as--> neg\n",
        "course--> ud359 28 is a different type than '28', and this is ignored. "
       ]
      },
      {
       "output_type": "stream",
       "stream": "stdout",
       "text": [
        "classified as--> pos\n",
        "course--> cs253 [HOW-TO] Use the Jinja2 template engine with AppEngine "
       ]
      },
      {
       "output_type": "stream",
       "stream": "stdout",
       "text": [
        "classified as--> neg\n",
        "course--> cs271 Why we desperately need a Linear Algebra class. "
       ]
      },
      {
       "output_type": "stream",
       "stream": "stdout",
       "text": [
        "classified as--> neg\n",
        "course--> ep245 Survey at the end of class "
       ]
      },
      {
       "output_type": "stream",
       "stream": "stdout",
       "text": [
        "classified as--> pos\n",
        "course--> ud849 I beg to differ with the \"correct answer\" of replacing the checkout form with pre-canned solutions! "
       ]
      },
      {
       "output_type": "stream",
       "stream": "stdout",
       "text": [
        "classified as--> pos\n",
        "course--> ud162 Petition! Stop the discontinuation of free certificates! "
       ]
      },
      {
       "output_type": "stream",
       "stream": "stdout",
       "text": [
        "classified as--> neg\n",
        "course--> ud859 Alternative to casting "
       ]
      },
      {
       "output_type": "stream",
       "stream": "stdout",
       "text": [
        "classified as--> neg\n",
        "course--> cs344 An intuition for finding the index for a given grid size and block size (HW1) "
       ]
      },
      {
       "output_type": "stream",
       "stream": "stdout",
       "text": [
        "classified as--> neg\n",
        "course--> ud827 Katie is a good teacher "
       ]
      },
      {
       "output_type": "stream",
       "stream": "stdout",
       "text": [
        "classified as--> pos\n",
        "course--> ud201 Standard Deviation of differences classified as--> pos\n",
        "course--> ud675 Loving the comedy show! "
       ]
      },
      {
       "output_type": "stream",
       "stream": "stdout",
       "text": [
        "classified as--> pos\n",
        "course--> ud820 Petition! Stop the discontinuation of free certificates! classified as--> pos\n",
        "course--> ud741 Utility Matrix Computation "
       ]
      },
      {
       "output_type": "stream",
       "stream": "stdout",
       "text": [
        "classified as--> neg\n",
        "course--> ud436 Assignment 2 "
       ]
      },
      {
       "output_type": "stream",
       "stream": "stdout",
       "text": [
        "classified as--> neg\n",
        "course--> ud805 where can we find the class notes? classified as--> neg\n",
        "course--> ud436 Assignment 2 "
       ]
      },
      {
       "output_type": "stream",
       "stream": "stdout",
       "text": [
        "classified as--> neg\n",
        "course--> ud805 where can we find the class notes? classified as--> neg\n",
        "course--> cs373 What are all those matrices for the Kalman filter? Part I: x, F, P, H, R, u "
       ]
      },
      {
       "output_type": "stream",
       "stream": "stdout",
       "text": [
        "classified as--> pos\n",
        "course--> ud032 Petition! Stop the discontinuation of free certificates! "
       ]
      },
      {
       "output_type": "stream",
       "stream": "stdout",
       "text": [
        "classified as--> neg\n",
        "course--> cs256 Petition! Stop the discontinuation of free certificates! "
       ]
      },
      {
       "output_type": "stream",
       "stream": "stdout",
       "text": [
        "classified as--> neg\n",
        "course--> ud884 Building the DOM "
       ]
      },
      {
       "output_type": "stream",
       "stream": "stdout",
       "text": [
        "classified as--> neg\n",
        "course--> ud884 Building the DOM "
       ]
      },
      {
       "output_type": "stream",
       "stream": "stdout",
       "text": [
        "classified as--> neg\n",
        "course--> ud248 Lesson 2: When will it be ready for 2048 course? "
       ]
      },
      {
       "output_type": "stream",
       "stream": "stdout",
       "text": [
        "classified as--> pos\n",
        "course--> cs255 Little Explanation about Trimming "
       ]
      },
      {
       "output_type": "stream",
       "stream": "stdout",
       "text": [
        "classified as--> neg\n",
        "course--> cs387 Why we desperately need a Linear Algebra class. "
       ]
      },
      {
       "output_type": "stream",
       "stream": "stdout",
       "text": [
        "classified as--> neg\n",
        "course--> st101 Explaining Solution to Problem Set 2 - Question 3 "
       ]
      },
      {
       "output_type": "stream",
       "stream": "stdout",
       "text": [
        "classified as--> pos\n",
        "course--> ma004 Correct & Incorrect Answers in Practice Quiz "
       ]
      },
      {
       "output_type": "stream",
       "stream": "stdout",
       "text": [
        "classified as--> neg\n",
        "course--> ma008 What kind of courses would you like Udacity to have in the future? "
       ]
      },
      {
       "output_type": "stream",
       "stream": "stdout",
       "text": [
        "classified as--> neg\n",
        "course--> cs259 Welcome to the class! "
       ]
      },
      {
       "output_type": "stream",
       "stream": "stdout",
       "text": [
        "classified as--> neg\n",
        "course--> ma006 What kind of courses would you like Udacity to have in the future? "
       ]
      },
      {
       "output_type": "stream",
       "stream": "stdout",
       "text": [
        "classified as--> neg\n",
        "course--> cs258 Please put code in the instructor comments during quizes that need it "
       ]
      },
      {
       "output_type": "stream",
       "stream": "stdout",
       "text": [
        "classified as--> neg\n",
        "course--> cs215 Hope to see an \"Algorithm 2\" class next hexamester "
       ]
      },
      {
       "output_type": "stream",
       "stream": "stdout",
       "text": [
        "classified as--> pos\n",
        "course--> cs291 really got lost on this one. "
       ]
      },
      {
       "output_type": "stream",
       "stream": "stdout",
       "text": [
        "classified as--> pos\n",
        "course--> cs262 My First (and second) impressions of Wesley "
       ]
      },
      {
       "output_type": "stream",
       "stream": "stdout",
       "text": [
        "classified as--> neg\n",
        "course--> cs212 Python Glossary Now Available "
       ]
      },
      {
       "output_type": "stream",
       "stream": "stdout",
       "text": [
        "classified as--> pos\n",
        "course--> cs222 Why we desperately need a Linear Algebra class. "
       ]
      },
      {
       "output_type": "stream",
       "stream": "stdout",
       "text": [
        "classified as--> pos\n",
        "course--> cs313 isn't x3 more obvious than x4? "
       ]
      },
      {
       "output_type": "stream",
       "stream": "stdout",
       "text": [
        "classified as--> neg\n",
        "course--> ph100 The LHC, the Higgs boson, and the average deviation "
       ]
      },
      {
       "output_type": "stream",
       "stream": "stdout",
       "text": [
        "classified as--> pos\n",
        "course--> bio110 What is the answer to life, the universe, and everything? "
       ]
      },
      {
       "output_type": "stream",
       "stream": "stdout",
       "text": [
        "classified as--> pos\n",
        "course--> ps001 Petition! Stop the discontinuation of free certificates! "
       ]
      },
      {
       "output_type": "stream",
       "stream": "stdout",
       "text": [
        "classified as--> pos\n"
       ]
      }
     ],
     "prompt_number": 39
    },
    {
     "cell_type": "code",
     "collapsed": false,
     "input": [
      "a = ['great', 'good', 'nice']\n",
      "b = ['bad', 'bad', 'excellent']\n",
      "a = FreqDist( a )\n",
      "b = FreqDist( b )\n",
      "print a\n",
      "print classfr.classify(a)\n",
      "print b\n",
      "print classfr.classify( b )"
     ],
     "language": "python",
     "metadata": {},
     "outputs": [
      {
       "output_type": "stream",
       "stream": "stdout",
       "text": [
        " <FreqDist: 'good': 1, 'great': 1, 'nice': 1>\n",
        "pos\n",
        "<FreqDist: 'bad': 2, 'excellent': 1>\n",
        "neg\n"
       ]
      }
     ],
     "prompt_number": 34
    },
    {
     "cell_type": "code",
     "collapsed": false,
     "input": [],
     "language": "python",
     "metadata": {},
     "outputs": []
    }
   ],
   "metadata": {}
  }
 ]
}
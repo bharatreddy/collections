{
 "metadata": {
  "name": "",
  "signature": "sha256:2963de28199860b8eeeee2f7954d89276dd93529481ad6f5197e9c6c70a7caf7"
 },
 "nbformat": 3,
 "nbformat_minor": 0,
 "worksheets": [
  {
   "cells": [
    {
     "cell_type": "code",
     "collapsed": false,
     "input": [
      "import pymongo\n",
      "import urllib\n",
      "# Establish a connection to mongo\n",
      "mClnt = pymongo.MongoClient()\n",
      "# Access the udacity database\n",
      "udacity = mClnt['Udacity']['course']\n",
      "udaForum = mClnt['Udacity']['forum']\n",
      "# Now get the course info by looping through\n",
      "# each record in the DB\n",
      "recs = udaForum.find({})\n",
      "rec = recs[0]\n",
      "print rec.keys()"
     ],
     "language": "python",
     "metadata": {},
     "outputs": [
      {
       "output_type": "stream",
       "stream": "stdout",
       "text": [
        "[u'courseId', u'fullText', u'_id']\n"
       ]
      }
     ],
     "prompt_number": 1
    },
    {
     "cell_type": "code",
     "collapsed": false,
     "input": [],
     "language": "python",
     "metadata": {},
     "outputs": []
    }
   ],
   "metadata": {}
  }
 ]
}
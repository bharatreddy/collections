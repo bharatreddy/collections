{
 "metadata": {
  "name": "",
  "signature": "sha256:494632d6938d6cf3ef9c4f82b5ee0f2975a5466278e3688d8b735ca66e37013f"
 },
 "nbformat": 3,
 "nbformat_minor": 0,
 "worksheets": [
  {
   "cells": [
    {
     "cell_type": "markdown",
     "metadata": {},
     "source": [
      "Setup connection with the DB\n",
      "----------------------------"
     ]
    },
    {
     "cell_type": "code",
     "collapsed": false,
     "input": [
      "import pandas\n",
      "import mysql.connector\n",
      "# set up connections to the DB\n",
      "conn = mysql.connector.Connect(host='localhost',user='root',\\\n",
      "                        password='',database='cricdata')"
     ],
     "language": "python",
     "metadata": {},
     "outputs": [],
     "prompt_number": 1
    },
    {
     "cell_type": "markdown",
     "metadata": {},
     "source": [
      "Get details about a bowler\n",
      "--------------------------"
     ]
    },
    {
     "cell_type": "code",
     "collapsed": false,
     "input": [
      "import dateutil\n",
      "inpBowler = 'DW Steyn'\n",
      "# retreive data from tables - \n",
      "# Deliveries, Innings, Game, PoM, Outcome\n",
      "# The main difference between batsmanDF and\n",
      "# bowlerDF is opposition and team are interchanged. \n",
      "qryBowler = \"\"\"\n",
      "               SELECT Delvrs.MatchId, Delvrs.InnNum, Delvrs.Over,Game.MatchDate,\n",
      "                   Delvrs.Batsman, Delvrs.NonStriker, Delvrs.Bowler,\n",
      "                   Delvrs.BatsmanRuns, Delvrs.ExtraRuns, Delvrs.Extra,\n",
      "                   Delvrs.Wicket, Delvrs.WicketFielder,\n",
      "                   Delvrs.WicketKind, Delvrs.WicketPlayerOut,\n",
      "                   Inn.Team as Opposition, Game.Venue, Outcome.Winner\n",
      "               FROM Deliveries as Delvrs\n",
      "               INNER JOIN Innings as Inn\n",
      "                   ON (Inn.MatchId = Delvrs.MatchId\n",
      "                       AND Inn.InningsNum = Delvrs.InnNum)\n",
      "               INNER JOIN Game\n",
      "                   ON Game.Id = Delvrs.MatchId\n",
      "               INNER JOIN Outcome\n",
      "                   ON Outcome.MatchId = Delvrs.MatchId\n",
      "               WHERE Delvrs.Bowler = \n",
      "             \"\"\"\n",
      "qryBowler += \"'\" + inpBowler + \"'\"\n",
      "bowlerDF = pandas.read_sql( qryBowler, conn )\n",
      "# We need to get the Team from \n",
      "# the SQL DB into a new DF and merge \n",
      "# it with the bowlerDF.\n",
      "qryTeam = \"\"\"\n",
      "               SELECT Delvrs.MatchId, Delvrs.Over,\n",
      "                   Inn.Team as Team\n",
      "               FROM Deliveries as Delvrs\n",
      "               INNER JOIN Innings as Inn\n",
      "                   ON (Inn.MatchId = Delvrs.MatchId\n",
      "                       AND Inn.InningsNum != Delvrs.InnNum)\n",
      "               WHERE Delvrs.Bowler = \n",
      "             \"\"\"\n",
      "qryTeam += \"'\" + inpBowler + \"'\"\n",
      "teamDF = pandas.read_sql( qryTeam, conn )\n",
      "bowlerDF = pandas.DataFrame(\\\n",
      "                             pandas.merge( bowlerDF, teamDF,\\\n",
      "                                          on=['MatchId', 'Over'], \\\n",
      "                                          how='inner' ) )\n",
      "# Add an additional year column, for some reason the DatetimeIndex\n",
      "# function didnt work, we'll use a applymap func instead\n",
      "bowlerDF['year'] = bowlerDF['MatchDate'].map( lambda x: x.year ).reset_index(drop=True)\n",
      "print bowlerDF.head(5)"
     ],
     "language": "python",
     "metadata": {},
     "outputs": [
      {
       "output_type": "stream",
       "stream": "stdout",
       "text": [
        "   MatchId  InnNum  Over           MatchDate    Batsman NonStriker    Bowler  \\\n",
        "0   335996       1   0.1 2008-04-28 00:00:00   PA Patel  ML Hayden  DW Steyn   \n",
        "1   335996       1   0.2 2008-04-28 00:00:00  ML Hayden   PA Patel  DW Steyn   \n",
        "2   335996       1   0.3 2008-04-28 00:00:00  ML Hayden   PA Patel  DW Steyn   \n",
        "3   335996       1   0.4 2008-04-28 00:00:00  ML Hayden   PA Patel  DW Steyn   \n",
        "4   335996       1   0.5 2008-04-28 00:00:00  ML Hayden   PA Patel  DW Steyn   \n",
        "\n",
        "   BatsmanRuns  ExtraRuns Extra Wicket WicketFielder WicketKind  \\\n",
        "0            1          0  None   None          None       None   \n",
        "1            0          0  None   None          None       None   \n",
        "2            0          0  None   None          None       None   \n",
        "3            0          0  None   None          None       None   \n",
        "4            0          0  None   None          None       None   \n",
        "\n",
        "  WicketPlayerOut           Opposition                  Venue  \\\n",
        "0            None  Chennai Super Kings  M Chinnaswamy Stadium   \n",
        "1            None  Chennai Super Kings  M Chinnaswamy Stadium   \n",
        "2            None  Chennai Super Kings  M Chinnaswamy Stadium   \n",
        "3            None  Chennai Super Kings  M Chinnaswamy Stadium   \n",
        "4            None  Chennai Super Kings  M Chinnaswamy Stadium   \n",
        "\n",
        "                Winner                         Team  year  \n",
        "0  Chennai Super Kings  Royal Challengers Bangalore  2008  \n",
        "1  Chennai Super Kings  Royal Challengers Bangalore  2008  \n",
        "2  Chennai Super Kings  Royal Challengers Bangalore  2008  \n",
        "3  Chennai Super Kings  Royal Challengers Bangalore  2008  \n",
        "4  Chennai Super Kings  Royal Challengers Bangalore  2008  \n"
       ]
      }
     ],
     "prompt_number": 3
    },
    {
     "cell_type": "code",
     "collapsed": false,
     "input": [],
     "language": "python",
     "metadata": {},
     "outputs": []
    }
   ],
   "metadata": {}
  }
 ]
}
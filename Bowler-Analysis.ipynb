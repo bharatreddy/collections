{
 "metadata": {
  "name": "",
  "signature": "sha256:889f7c8aefbb91b076831dbf25d019fd9bf3369c8c7eeb14a5907939d08970ee"
 },
 "nbformat": 3,
 "nbformat_minor": 0,
 "worksheets": [
  {
   "cells": [
    {
     "cell_type": "markdown",
     "metadata": {},
     "source": [
      "Setup connection with the DB\n",
      "----------------------------"
     ]
    },
    {
     "cell_type": "code",
     "collapsed": false,
     "input": [
      "import pandas\n",
      "import mysql.connector\n",
      "# set up connections to the DB\n",
      "conn = mysql.connector.Connect(host='localhost',user='root',\\\n",
      "                        password='',database='cricdata')"
     ],
     "language": "python",
     "metadata": {},
     "outputs": [],
     "prompt_number": 2
    },
    {
     "cell_type": "markdown",
     "metadata": {},
     "source": [
      "Get details about a bowler\n",
      "--------------------------"
     ]
    },
    {
     "cell_type": "code",
     "collapsed": false,
     "input": [
      "import dateutil\n",
      "inpBowler = 'DW Steyn'\n",
      "# retreive data from tables - \n",
      "# Deliveries, Innings, Game, PoM, Outcome\n",
      "# The main difference between batsmanDF and\n",
      "# bowlerDF is opposition and team are interchanged. \n",
      "qryBowler = \"\"\"\n",
      "               SELECT Delvrs.MatchId, Delvrs.InnNum, Delvrs.Over,Game.MatchDate,\n",
      "                   Delvrs.Batsman, Delvrs.NonStriker, Delvrs.Bowler,\n",
      "                   Delvrs.BatsmanRuns, Delvrs.ExtraRuns, Delvrs.Extra,\n",
      "                   Delvrs.Wicket, Delvrs.WicketFielder,\n",
      "                   Delvrs.WicketKind, Delvrs.WicketPlayerOut,\n",
      "                   Inn.Team as Opposition, Game.Venue, Outcome.Winner\n",
      "               FROM Deliveries as Delvrs\n",
      "               INNER JOIN Innings as Inn\n",
      "                   ON (Inn.MatchId = Delvrs.MatchId\n",
      "                       AND Inn.InningsNum = Delvrs.InnNum)\n",
      "               INNER JOIN Game\n",
      "                   ON Game.Id = Delvrs.MatchId\n",
      "               INNER JOIN Outcome\n",
      "                   ON Outcome.MatchId = Delvrs.MatchId\n",
      "               WHERE Delvrs.Bowler = \n",
      "             \"\"\"\n",
      "qryBowler += \"'\" + inpBowler + \"'\"\n",
      "bowlerDF = pandas.read_sql( qryBowler, conn )\n",
      "# We need to get the Team from \n",
      "# the SQL DB into a new DF and merge \n",
      "# it with the bowlerDF.\n",
      "qryTeam = \"\"\"\n",
      "               SELECT Delvrs.MatchId, Delvrs.Over,\n",
      "                   Inn.Team as Team\n",
      "               FROM Deliveries as Delvrs\n",
      "               INNER JOIN Innings as Inn\n",
      "                   ON (Inn.MatchId = Delvrs.MatchId\n",
      "                       AND Inn.InningsNum != Delvrs.InnNum)\n",
      "               WHERE Delvrs.Bowler = \n",
      "             \"\"\"\n",
      "qryTeam += \"'\" + inpBowler + \"'\"\n",
      "teamDF = pandas.read_sql( qryTeam, conn )\n",
      "bowlerDF = pandas.DataFrame(\\\n",
      "                             pandas.merge( bowlerDF, teamDF,\\\n",
      "                                          on=['MatchId', 'Over'], \\\n",
      "                                          how='inner' ) )\n",
      "# Add an additional year column, for some reason the DatetimeIndex\n",
      "# function didnt work, we'll use a applymap func instead\n",
      "bowlerDF['year'] = bowlerDF['MatchDate'].map( lambda x: x.year ).reset_index(drop=True)\n",
      "print bowlerDF.head(5)"
     ],
     "language": "python",
     "metadata": {},
     "outputs": [
      {
       "output_type": "stream",
       "stream": "stdout",
       "text": [
        "   MatchId  InnNum  Over           MatchDate    Batsman NonStriker    Bowler  \\\n",
        "0   335996       1   0.1 2008-04-28 00:00:00   PA Patel  ML Hayden  DW Steyn   \n",
        "1   335996       1   0.2 2008-04-28 00:00:00  ML Hayden   PA Patel  DW Steyn   \n",
        "2   335996       1   0.3 2008-04-28 00:00:00  ML Hayden   PA Patel  DW Steyn   \n",
        "3   335996       1   0.4 2008-04-28 00:00:00  ML Hayden   PA Patel  DW Steyn   \n",
        "4   335996       1   0.5 2008-04-28 00:00:00  ML Hayden   PA Patel  DW Steyn   \n",
        "\n",
        "   BatsmanRuns  ExtraRuns Extra Wicket WicketFielder WicketKind  \\\n",
        "0            1          0  None   None          None       None   \n",
        "1            0          0  None   None          None       None   \n",
        "2            0          0  None   None          None       None   \n",
        "3            0          0  None   None          None       None   \n",
        "4            0          0  None   None          None       None   \n",
        "\n",
        "  WicketPlayerOut           Opposition                  Venue  \\\n",
        "0            None  Chennai Super Kings  M Chinnaswamy Stadium   \n",
        "1            None  Chennai Super Kings  M Chinnaswamy Stadium   \n",
        "2            None  Chennai Super Kings  M Chinnaswamy Stadium   \n",
        "3            None  Chennai Super Kings  M Chinnaswamy Stadium   \n",
        "4            None  Chennai Super Kings  M Chinnaswamy Stadium   \n",
        "\n",
        "                Winner                         Team  year  \n",
        "0  Chennai Super Kings  Royal Challengers Bangalore  2008  \n",
        "1  Chennai Super Kings  Royal Challengers Bangalore  2008  \n",
        "2  Chennai Super Kings  Royal Challengers Bangalore  2008  \n",
        "3  Chennai Super Kings  Royal Challengers Bangalore  2008  \n",
        "4  Chennai Super Kings  Royal Challengers Bangalore  2008  \n"
       ]
      }
     ],
     "prompt_number": 3
    },
    {
     "cell_type": "markdown",
     "metadata": {},
     "source": [
      "Stats by year\n",
      "-------------"
     ]
    },
    {
     "cell_type": "code",
     "collapsed": false,
     "input": [
      "# Group by year and get details\n",
      "grpByYr = bowlerDF.groupby('year')\n",
      "# We get pandas series with aggregating on groupby funcs\n",
      "# concat those to form a DF\n",
      "# Also obtain balls played, strike rate, \n",
      "# For the balls played, we need to take out extra's \n",
      "# that are wides, noballs.\n",
      "# get the number of deliveries\n",
      "nballs = grpByYr.MatchId.size()\n",
      "# get the deliveries that were extras by year\n",
      "grpExtrByYr = bowlerDF[bowlerDF['Extra'].isin([ 'wides', 'noballs' ])].\\\n",
      "                groupby('year')\n",
      "# Remove extras from num balls\n",
      "# Note the fill_value=0 is imp, otherwise\n",
      "# we'll get NaN values because not all teams\n",
      "# may have bowled extras to the selected batsman\n",
      "nballs = nballs.sub( grpExtrByYr.MatchId.count(), fill_value=0 )\n",
      "# get Num of boundaries conceded\n",
      "bndryDF = bowlerDF[bowlerDF['BatsmanRuns'].isin( [4,6] )]\n",
      "plyrYearDF = pandas.concat( \\\n",
      "                           [grpByYr.BatsmanRuns.sum(), \\\n",
      "                            grpByYr.MatchId.nunique(),\n",
      "                            grpByYr.Wicket.count(),grpExtrByYr.ExtraRuns.sum(),\n",
      "                            nballs, bndryDF.groupby('year').MatchId.count()], \\\n",
      "                           axis=1 )\n",
      "# Replace some NaN values with 0\n",
      "plyrYearDF = plyrYearDF.fillna(0)\n",
      "# Rename the columns\n",
      "plyrYearDF.columns = [ 'Runs', 'Matches', 'Wickets', 'Wides/noballs'\\\n",
      "                      , 'Balls', 'Boundaries' ]\n",
      "# make year a column rather than having it as index\n",
      "plyrYearDF['Year'] = plyrYearDF.index\n",
      "plyrYearDF.reset_index(drop=True,inplace=True)\n",
      "plyrYearDF['Runrate'] = (plyrYearDF['Runs']/(plyrYearDF['Balls']/6.))\\\n",
      "                                .apply(lambda x: round(x, 2))\n",
      "plyrYearDF['Overs'] = (plyrYearDF['Balls']/6.)\\\n",
      "                                .astype('int')\n",
      "plyrYearDF['Wickets/Over'] = (plyrYearDF['Wickets']*1./(plyrYearDF['Overs']))\\\n",
      "                                .apply(lambda x: round(x, 2))\n",
      "print plyrYearDF"
     ],
     "language": "python",
     "metadata": {},
     "outputs": [
      {
       "output_type": "stream",
       "stream": "stdout",
       "text": [
        "   Runs  Matches  Wickets  Wides/noballs  Balls  Boundaries  Year  Runrate  \\\n",
        "0   228       10       13             24    228          34  2008     6.00   \n",
        "1    57        3        3              5     54           7  2009     6.33   \n",
        "2   377       15       17             29    354          51  2010     6.39   \n",
        "3   286       12       14             13    273          44  2011     6.29   \n",
        "4   275       12       18             10    280          37  2012     5.89   \n",
        "5   368       17       20             32    417          44  2013     5.29   \n",
        "6   425       14       12              6    336          62  2014     7.59   \n",
        "\n",
        "   Overs  Wickets/Over  \n",
        "0     38          0.34  \n",
        "1      9          0.33  \n",
        "2     59          0.29  \n",
        "3     45          0.31  \n",
        "4     46          0.39  \n",
        "5     69          0.29  \n",
        "6     56          0.21  \n"
       ]
      }
     ],
     "prompt_number": 4
    },
    {
     "cell_type": "markdown",
     "metadata": {},
     "source": [
      "Stats By Venue\n",
      "--------------"
     ]
    },
    {
     "cell_type": "code",
     "collapsed": false,
     "input": [
      "# Group by Venue and get details\n",
      "grpByVenue = bowlerDF.groupby('Venue')\n",
      "# We get pandas series with aggregating on groupby funcs\n",
      "# concat those to form a DF\n",
      "# Also obtain balls played, strike rate, \n",
      "# For the balls played, we need to take out extra's \n",
      "# that are wides, noballs.\n",
      "# get the number of deliveries\n",
      "nballs = grpByVenue.MatchId.size()\n",
      "# get the deliveries that were extras by year\n",
      "grpExtrByVenue = bowlerDF[bowlerDF['Extra'].isin([ 'wides', 'noballs' ])].\\\n",
      "                groupby('Venue')\n",
      "# Remove extras from num balls\n",
      "# Note the fill_value=0 is imp, otherwise\n",
      "# we'll get NaN values because not all teams\n",
      "# may have bowled extras to the selected batsman\n",
      "nballs = nballs.sub( grpExtrByVenue.MatchId.count(), fill_value=0 )\n",
      "# get Num of boundaries conceded\n",
      "bndryDF = bowlerDF[bowlerDF['BatsmanRuns'].isin( [4,6] )]\n",
      "plyrVenueDF = pandas.concat( \\\n",
      "                           [grpByVenue.BatsmanRuns.sum(), \\\n",
      "                            grpByVenue.MatchId.nunique(),\n",
      "                            grpByVenue.Wicket.count(),grpExtrByVenue.ExtraRuns.sum(),\n",
      "                            nballs, bndryDF.groupby('Venue').MatchId.count()], \\\n",
      "                           axis=1 )\n",
      "# Replace some NaN values with 0\n",
      "plyrVenueDF = plyrVenueDF.fillna(0)\n",
      "# Rename the columns\n",
      "plyrVenueDF.columns = [ 'Runs', 'Matches', 'Wickets', 'Wides/noballs'\\\n",
      "                      , 'Balls', 'Boundaries' ]\n",
      "# make year a column rather than having it as index\n",
      "plyrVenueDF['Venue'] = plyrVenueDF.index\n",
      "plyrVenueDF.reset_index(drop=True,inplace=True)\n",
      "plyrVenueDF['Runrate'] = (plyrVenueDF['Runs']/(plyrVenueDF['Balls']/6.))\\\n",
      "                                .apply(lambda x: round(x, 2))\n",
      "plyrVenueDF['Overs'] = (plyrVenueDF['Balls']/6.)\\\n",
      "                                .astype('int')\n",
      "plyrVenueDF['Wickets/Over'] = (plyrVenueDF['Wickets']*1./(plyrVenueDF['Overs']))\\\n",
      "                                .apply(lambda x: round(x, 2))\n",
      "print plyrVenueDF"
     ],
     "language": "python",
     "metadata": {},
     "outputs": [
      {
       "output_type": "stream",
       "stream": "stdout",
       "text": [
        "    Runs  Matches  Wickets  Wides/noballs  Balls  Boundaries  \\\n",
        "0     68        2        2              2     48          12   \n",
        "1     23        1        3              3     24           4   \n",
        "2     71        3        5              6     66          10   \n",
        "3     32        2        5              5     48           2   \n",
        "4     52        2        4              1     48           8   \n",
        "5    164        5        5              6    120          27   \n",
        "6    118        6        9              8    144          14   \n",
        "7     13        1        1              0     18           2   \n",
        "8     43        1        0              0     24           8   \n",
        "9    381       15        6             24    354          52   \n",
        "10   108        4        5             10     96          14   \n",
        "11    14        1        3              2     21           3   \n",
        "12    24        2        2              3     30           3   \n",
        "13   105        4        5              5     84          15   \n",
        "14   512       22       29             32    531          62   \n",
        "15    29        1        2              2     24           5   \n",
        "16    72        3        2              2     70          13   \n",
        "17    45        2        0              1     48           6   \n",
        "18    29        1        2              0     24           5   \n",
        "19    33        1        1              2     24           4   \n",
        "20    34        1        1              0     24           5   \n",
        "21    16        1        3              2     24           2   \n",
        "22    30        2        2              3     48           3   \n",
        "\n",
        "                                                Venue  Runrate  Overs  \\\n",
        "0                                    Barabati Stadium     8.50      8   \n",
        "1                                   Brabourne Stadium     5.75      4   \n",
        "2                          Dr DY Patil Sports Academy     6.45     11   \n",
        "3   Dr. Y.S. Rajasekhara Reddy ACA-VDCA Cricket St...     4.00      8   \n",
        "4                 Dubai International Cricket Stadium     6.50      8   \n",
        "5                                        Eden Gardens     8.20     20   \n",
        "6                                    Feroz Shah Kotla     4.92     24   \n",
        "7        Himachal Pradesh Cricket Association Stadium     4.33      3   \n",
        "8                  JSCA International Stadium Complex    10.75      4   \n",
        "9                               M Chinnaswamy Stadium     6.46     59   \n",
        "10                    MA Chidambaram Stadium, Chepauk     6.75     16   \n",
        "11                                      Nehru Stadium     4.00      3   \n",
        "12                                           Newlands     4.80      5   \n",
        "13         Punjab Cricket Association Stadium, Mohali     7.50     14   \n",
        "14          Rajiv Gandhi International Stadium, Uppal     5.79     88   \n",
        "15                       Sardar Patel Stadium, Motera     7.25      4   \n",
        "16                             Sawai Mansingh Stadium     6.17     11   \n",
        "17                            Sharjah Cricket Stadium     5.63      8   \n",
        "18                               Sheikh Zayed Stadium     7.25      4   \n",
        "19                                   St George's Park     8.25      4   \n",
        "20                         Subrata Roy Sahara Stadium     8.50      4   \n",
        "21       Vidarbha Cricket Association Stadium, Jamtha     4.00      4   \n",
        "22                                   Wankhede Stadium     3.75      8   \n",
        "\n",
        "    Wickets/Over  \n",
        "0           0.25  \n",
        "1           0.75  \n",
        "2           0.45  \n",
        "3           0.63  \n",
        "4           0.50  \n",
        "5           0.25  \n",
        "6           0.38  \n",
        "7           0.33  \n",
        "8           0.00  \n",
        "9           0.10  \n",
        "10          0.31  \n",
        "11          1.00  \n",
        "12          0.40  \n",
        "13          0.36  \n",
        "14          0.33  \n",
        "15          0.50  \n",
        "16          0.18  \n",
        "17          0.00  \n",
        "18          0.50  \n",
        "19          0.25  \n",
        "20          0.25  \n",
        "21          0.75  \n",
        "22          0.25  \n"
       ]
      }
     ],
     "prompt_number": 5
    },
    {
     "cell_type": "markdown",
     "metadata": {},
     "source": [
      "Stats by opposition\n",
      "-------------------"
     ]
    },
    {
     "cell_type": "code",
     "collapsed": false,
     "input": [
      "# Group by Opposition and get details\n",
      "grpByOpstn = bowlerDF.groupby('Opposition')\n",
      "# We get pandas series with aggregating on groupby funcs\n",
      "# concat those to form a DF\n",
      "# Also obtain balls played, strike rate, \n",
      "# For the balls played, we need to take out extra's \n",
      "# that are wides, noballs.\n",
      "# get the number of deliveries\n",
      "nballs = grpByOpstn.MatchId.size()\n",
      "# get the deliveries that were extras by year\n",
      "grpExtrByOpstn = bowlerDF[bowlerDF['Extra'].isin([ 'wides', 'noballs' ])].\\\n",
      "                groupby('Opposition')\n",
      "# Remove extras from num balls\n",
      "# Note the fill_value=0 is imp, otherwise\n",
      "# we'll get NaN values because not all teams\n",
      "# may have bowled extras to the selected batsman\n",
      "nballs = nballs.sub( grpExtrByOpstn.MatchId.count(), fill_value=0 )\n",
      "# get Num of boundaries conceded\n",
      "bndryDF = bowlerDF[bowlerDF['BatsmanRuns'].isin( [4,6] )]\n",
      "plyrOpstnDF = pandas.concat( \\\n",
      "                           [grpByOpstn.BatsmanRuns.sum(), \\\n",
      "                            grpByOpstn.MatchId.nunique(),\n",
      "                            grpByOpstn.Wicket.count(),grpExtrByOpstn.ExtraRuns.sum(),\n",
      "                            nballs, bndryDF.groupby('Opposition').MatchId.count()], \\\n",
      "                           axis=1 )\n",
      "# Replace some NaN values with 0\n",
      "plyrOpstnDF = plyrOpstnDF.fillna(0)\n",
      "# Rename the columns\n",
      "plyrOpstnDF.columns = [ 'Runs', 'Matches', 'Wickets', 'Wides/noballs'\\\n",
      "                      , 'Balls', 'Boundaries' ]\n",
      "# make year a column rather than having it as index\n",
      "plyrOpstnDF['Opposition'] = plyrOpstnDF.index\n",
      "plyrOpstnDF.reset_index(drop=True,inplace=True)\n",
      "plyrOpstnDF['Runrate'] = (plyrOpstnDF['Runs']/(plyrOpstnDF['Balls']/6.))\\\n",
      "                                .apply(lambda x: round(x, 2))\n",
      "plyrOpstnDF['Overs'] = (plyrOpstnDF['Balls']/6.)\\\n",
      "                                .astype('int')\n",
      "plyrOpstnDF['Wickets/Over'] = (plyrOpstnDF['Wickets']*1./(plyrOpstnDF['Overs']))\\\n",
      "                                .apply(lambda x: round(x, 2))\n",
      "print plyrOpstnDF"
     ],
     "language": "python",
     "metadata": {},
     "outputs": [
      {
       "output_type": "stream",
       "stream": "stdout",
       "text": [
        "   Runs  Matches  Wickets  Wides/noballs  Balls  Boundaries  \\\n",
        "0   300       11        8             23    264          41   \n",
        "1   117        6        9             10    132          17   \n",
        "2   241       10       17              8    240          32   \n",
        "3   278       11        8             12    240          37   \n",
        "4    14        1        3              2     21           3   \n",
        "5   287       10       12             13    240          44   \n",
        "6   245       11       14             16    264          32   \n",
        "7   141        5        5              3    119          20   \n",
        "8   219       11       13             13    250          33   \n",
        "9   174        7        8             19    172          20   \n",
        "\n",
        "                    Opposition  Runrate  Overs  Wickets/Over  \n",
        "0          Chennai Super Kings     6.82     44          0.18  \n",
        "1              Deccan Chargers     5.32     22          0.41  \n",
        "2             Delhi Daredevils     6.03     40          0.42  \n",
        "3              Kings XI Punjab     6.95     40          0.20  \n",
        "4         Kochi Tuskers Kerala     4.00      3          1.00  \n",
        "5        Kolkata Knight Riders     7.17     40          0.30  \n",
        "6               Mumbai Indians     5.57     44          0.32  \n",
        "7                Pune Warriors     7.11     19          0.26  \n",
        "8             Rajasthan Royals     5.26     41          0.32  \n",
        "9  Royal Challengers Bangalore     6.07     28          0.29  \n"
       ]
      }
     ],
     "prompt_number": 6
    },
    {
     "cell_type": "markdown",
     "metadata": {},
     "source": [
      "Stats by Innings\n",
      "----------------"
     ]
    },
    {
     "cell_type": "code",
     "collapsed": false,
     "input": [
      "# Group by Innings and get details\n",
      "grpByInn = bowlerDF.groupby('InnNum')\n",
      "# We get pandas series with aggregating on groupby funcs\n",
      "# concat those to form a DF\n",
      "# Also obtain balls played, strike rate, \n",
      "# For the balls played, we need to take out extra's \n",
      "# that are wides, noballs.\n",
      "# get the number of deliveries\n",
      "nballs = grpByInn.MatchId.size()\n",
      "# get the deliveries that were extras by year\n",
      "grpExtrByInn = bowlerDF[bowlerDF['Extra'].isin([ 'wides', 'noballs' ])].\\\n",
      "                groupby('InnNum')\n",
      "# Remove extras from num balls\n",
      "# Note the fill_value=0 is imp, otherwise\n",
      "# we'll get NaN values because not all teams\n",
      "# may have bowled extras to the selected batsman\n",
      "nballs = nballs.sub( grpExtrByInn.MatchId.count(), fill_value=0 )\n",
      "# get Num of boundaries conceded\n",
      "bndryDF = bowlerDF[bowlerDF['BatsmanRuns'].isin( [4,6] )]\n",
      "plyrInnDF = pandas.concat( \\\n",
      "                           [grpByInn.BatsmanRuns.sum(), \\\n",
      "                            grpByInn.MatchId.nunique(),\n",
      "                            grpByInn.Wicket.count(),grpExtrByInn.ExtraRuns.sum(),\n",
      "                            nballs, bndryDF.groupby('InnNum').MatchId.count()], \\\n",
      "                           axis=1 )\n",
      "# Replace some NaN values with 0\n",
      "plyrInnDF = plyrInnDF.fillna(0)\n",
      "# Rename the columns\n",
      "plyrInnDF.columns = [ 'Runs', 'Matches', 'Wickets', 'Wides/noballs'\\\n",
      "                      , 'Balls', 'Boundaries' ]\n",
      "# make year a column rather than having it as index\n",
      "plyrInnDF['InnNum'] = plyrInnDF.index\n",
      "plyrInnDF.reset_index(drop=True,inplace=True)\n",
      "plyrInnDF['Runrate'] = (plyrInnDF['Runs']/(plyrInnDF['Balls']/6.))\\\n",
      "                                .apply(lambda x: round(x, 2))\n",
      "plyrInnDF['Overs'] = (plyrInnDF['Balls']/6.)\\\n",
      "                                .astype('int')\n",
      "plyrInnDF['Wickets/Over'] = (plyrInnDF['Wickets']*1./(plyrInnDF['Overs']))\\\n",
      "                                .apply(lambda x: round(x, 2))\n",
      "print plyrInnDF"
     ],
     "language": "python",
     "metadata": {},
     "outputs": [
      {
       "output_type": "stream",
       "stream": "stdout",
       "text": [
        "   Runs  Matches  Wickets  Wides/noballs  Balls  Boundaries  InnNum  Runrate  \\\n",
        "0   895       36       46             61    862         116       1     6.23   \n",
        "1  1121       47       51             58   1080         163       2     6.23   \n",
        "\n",
        "   Overs  Wickets/Over  \n",
        "0    143          0.32  \n",
        "1    180          0.28  \n"
       ]
      }
     ],
     "prompt_number": 7
    },
    {
     "cell_type": "markdown",
     "metadata": {},
     "source": [
      "Stats by Overs\n",
      "--------------\n",
      "\n",
      "> In a way this can also be a proxy to batting position.\n",
      "> We'll have 4 groups of 5 over chunks each."
     ]
    },
    {
     "cell_type": "code",
     "collapsed": false,
     "input": [
      "# Divide the overs into groups of 5 overs each.\n",
      "bowlerDF['overGroups'] = ( (bowlerDF['Over']/5.).astype('int') + 1 )\n",
      "# Groupby overGroups.\n",
      "grpByOvrs = bowlerDF.groupby('overGroups')\n",
      "# We get pandas series with aggregating on groupby funcs\n",
      "# concat those to form a DF\n",
      "# Also obtain balls played, strike rate, \n",
      "# For the balls played, we need to take out extra's \n",
      "# that are wides, noballs.\n",
      "# get the number of deliveries\n",
      "nballs = grpByOvrs.MatchId.size()\n",
      "# get the deliveries that were extras by year\n",
      "grpExtrByOvrs = bowlerDF[bowlerDF['Extra'].isin([ 'wides', 'noballs' ])].\\\n",
      "                groupby('overGroups')\n",
      "# Remove extras from num balls\n",
      "# Note the fill_value=0 is imp, otherwise\n",
      "# we'll get NaN values because not all teams\n",
      "# may have bowled extras to the selected batsman\n",
      "nballs = nballs.sub( grpExtrByOvrs.MatchId.count(), fill_value=0 )\n",
      "# get Num of boundaries conceded\n",
      "bndryDF = bowlerDF[bowlerDF['BatsmanRuns'].isin( [4,6] )]\n",
      "plyrOvrDF = pandas.concat( \\\n",
      "                           [grpByOvrs.BatsmanRuns.sum(), \\\n",
      "                            grpByOvrs.MatchId.nunique(),\n",
      "                            grpByOvrs.Wicket.count(),grpExtrByOvrs.ExtraRuns.sum(),\n",
      "                            nballs, bndryDF.groupby('overGroups').MatchId.count()], \\\n",
      "                           axis=1 )\n",
      "# Replace some NaN values with 0\n",
      "plyrOvrDF = plyrOvrDF.fillna(0)\n",
      "# Rename the columns\n",
      "plyrOvrDF.columns = [ 'Runs', 'Matches', 'Wickets', 'Wides/noballs'\\\n",
      "                      , 'Balls', 'Boundaries' ]\n",
      "# make year a column rather than having it as index\n",
      "plyrOvrDF['overGroups'] = plyrOvrDF.index\n",
      "plyrOvrDF.reset_index(drop=True,inplace=True)\n",
      "plyrOvrDF['Runrate'] = (plyrOvrDF['Runs']/(plyrOvrDF['Balls']/6.))\\\n",
      "                                .apply(lambda x: round(x, 2))\n",
      "plyrOvrDF['Overs'] = (plyrOvrDF['Balls']/6.)\\\n",
      "                                .astype('int')\n",
      "plyrOvrDF['Wickets/Over'] = (plyrOvrDF['Wickets']*1./(plyrOvrDF['Overs']))\\\n",
      "                                .apply(lambda x: round(x, 2))\n",
      "print plyrOvrDF"
     ],
     "language": "python",
     "metadata": {},
     "outputs": [
      {
       "output_type": "stream",
       "stream": "stdout",
       "text": [
        "   Runs  Matches  Wickets  Wides/noballs  Balls  Boundaries  overGroups  \\\n",
        "0   882       83       30             75    964         137           1   \n",
        "1    88       16        3              8     96          11           2   \n",
        "2   323       45       11             10    306          40           3   \n",
        "3   723       73       53             26    576          91           4   \n",
        "\n",
        "   Runrate  Overs  Wickets/Over  \n",
        "0     5.49    160          0.19  \n",
        "1     5.50     16          0.19  \n",
        "2     6.33     51          0.22  \n",
        "3     7.53     96          0.55  \n"
       ]
      }
     ],
     "prompt_number": 8
    },
    {
     "cell_type": "markdown",
     "metadata": {},
     "source": [
      "Build a predictive model for the bowler\n",
      "---------------------------------------\n",
      "\n",
      "> Predict runrate, wickets/over.\n",
      ">> Inputs : Year, Venue, Opposition, Innings, Over(groups)"
     ]
    },
    {
     "cell_type": "markdown",
     "metadata": {},
     "source": [
      "> Create training, test datasets."
     ]
    },
    {
     "cell_type": "code",
     "collapsed": false,
     "input": [
      "bowlerDF['overGroups'] = ( (bowlerDF['Over']/5.).astype('int') + 1 )\n",
      "grpByMatch = bowlerDF.groupby('MatchId')\n",
      "# Get num balls and other stats similar to\n",
      "# the stats by year analysis above.\n",
      "nballs = grpByMatch.MatchId.size()\n",
      "# get the deliveries that were extras by year\n",
      "grpExtrByMatch = bowlerDF[bowlerDF['Extra'].isin([ 'wides', 'noballs' ])].\\\n",
      "                groupby('MatchId')\n",
      "# Remove extras from num balls\n",
      "# Note the fill_value=0 is imp, otherwise\n",
      "# we'll get NaN values because not all teams\n",
      "# may have bowled extras to the selected batsman\n",
      "nballs = nballs.sub( grpExtrByMatch.MatchId.count(), fill_value=0 )\n",
      "# Get different features from the grouped DF like venue, opposition, year\n",
      "# Innings, overgroup etc by using the first() function of grouped object.\n",
      "# The first() function returns the first row of the group. Note we'll\n",
      "# only have 1 row for venue, year etc, so its fine. For overgroup, we'll\n",
      "# most likely have multiple groups but for now we consider only the first\n",
      "# group since its indicative of when the batsman came into bat.\n",
      "# Also, note for year we subtract the min value because we'd like \n",
      "# to use it as an age feature where as age increases the batsman's\n",
      "# potential might increase or decrease.\n",
      "plyrMatchDF = pandas.concat( \\\n",
      "                           [grpByMatch.BatsmanRuns.sum(), nballs,\\\n",
      "                            grpByMatch.overGroups.first(), grpByMatch.Venue.first(),\\\n",
      "                            grpByMatch.Opposition.first(), \\\n",
      "                            grpByMatch.Wicket.count(),\\\n",
      "                            grpByMatch.year.first()-bowlerDF['year'].min(),\\\n",
      "                            grpByMatch.InnNum.first()], \\\n",
      "                           axis=1 )\n",
      "# Replace some NaN values with 0\n",
      "plyrMatchDF = plyrMatchDF.fillna(0)\n",
      "# Rename the columns\n",
      "plyrMatchDF.columns = [ 'Runs', 'Balls', 'OverGroup',\\\n",
      "                       'Venue', 'Opposition', 'Wickets', 'years', 'Innings' ]\n",
      "plyrMatchDF['MatchId'] = plyrMatchDF.index\n",
      "plyrMatchDF.reset_index(drop=True,inplace=True)\n",
      "plyrMatchDF['Runrate'] = (plyrMatchDF['Runs']/(plyrMatchDF['Balls']/6.))\\\n",
      "                                .apply(lambda x: round(x, 2))\n",
      "plyrMatchDF['Overs'] = (plyrMatchDF['Balls']/6.)\\\n",
      "                                .astype('int')\n",
      "plyrMatchDF['Wickets/Over'] = (plyrMatchDF['Wickets']*1./(plyrMatchDF['Overs']))\\\n",
      "                                .apply(lambda x: round(x, 2))\n",
      "# The sklearn classifier doesn't deal well with strings\n",
      "# so convert the strings to nums, basically we'll\n",
      "# assign an id to the opposition and venues.\n",
      "# use the categorical functions of pandas to convert our\n",
      "# string type teams into numeric values\n",
      "venueIdx = pandas.Index( plyrMatchDF['Venue'].unique() )\n",
      "cVenue = pandas.Categorical( \\\n",
      "                venueIdx.get_indexer(plyrMatchDF['Venue']), venueIdx )\n",
      "plyrMatchDF['Venue_Id'] = cVenue.labels\n",
      "opstnIdx = pandas.Index( plyrMatchDF['Opposition'].unique() )\n",
      "cOpposition = pandas.Categorical( \\\n",
      "                opstnIdx.get_indexer(plyrMatchDF['Opposition']), opstnIdx )\n",
      "plyrMatchDF['Opposition_Id'] = cOpposition.labels\n",
      "print plyrMatchDF.head(5)"
     ],
     "language": "python",
     "metadata": {},
     "outputs": [
      {
       "output_type": "stream",
       "stream": "stdout",
       "text": [
        "   Runs  Balls  OverGroup                                      Venue  \\\n",
        "0    37     24          1                      M Chinnaswamy Stadium   \n",
        "1    27     24          1                           Feroz Shah Kotla   \n",
        "2    18     24          1  Rajiv Gandhi International Stadium, Uppal   \n",
        "3    14     24          1                      M Chinnaswamy Stadium   \n",
        "4    26     24          1                               Eden Gardens   \n",
        "\n",
        "              Opposition  Wickets  years  Innings  MatchId  Runrate  Overs  \\\n",
        "0    Chennai Super Kings        0      0        1   335996     9.25      4   \n",
        "1       Delhi Daredevils        2      0        1   335998     6.75      4   \n",
        "2        Deccan Chargers        3      0        1   336002     4.50      4   \n",
        "3        Kings XI Punjab        0      0        2   336006     3.50      4   \n",
        "4  Kolkata Knight Riders        3      0        1   336010     6.50      4   \n",
        "\n",
        "   Wickets/Over  Venue_Id  Opposition_Id  \n",
        "0          0.00         0              0  \n",
        "1          0.50         1              1  \n",
        "2          0.75         2              2  \n",
        "3          0.00         0              3  \n",
        "4          0.75         3              4  \n"
       ]
      }
     ],
     "prompt_number": 13
    },
    {
     "cell_type": "markdown",
     "metadata": {},
     "source": [
      "Random Forest Regression.\n",
      "------------------------"
     ]
    },
    {
     "cell_type": "code",
     "collapsed": false,
     "input": [
      "# Import the random forest package\n",
      "import numpy\n",
      "from sklearn.ensemble import RandomForestRegressor \n",
      "# Create the random forest object which will include\n",
      "# all the parameters for regression.\n",
      "forest = RandomForestRegressor(n_estimators = 1000)\n",
      "# Divide into test and training sets\n",
      "plyrMatchDF['is_train'] = numpy.random.uniform( 0, 1, len(plyrMatchDF) ) <= .6\n",
      "# Divide the data into training and test sets\n",
      "train, test = plyrMatchDF[plyrMatchDF['is_train']==True],\\\n",
      "plyrMatchDF[plyrMatchDF['is_train']==False]\n",
      "# # The features which we'll take in as inputs\n",
      "inpFeatures = plyrMatchDF.columns[ [ 2, 6, 7, 12, 13 ] ]\n",
      "outFeatures = plyrMatchDF.columns[ [ 9, 11 ] ]\n",
      "# Fit the data using random forests\n",
      "rfFit = forest.fit( train[inpFeatures], train[outFeatures] )"
     ],
     "language": "python",
     "metadata": {},
     "outputs": [],
     "prompt_number": 17
    },
    {
     "cell_type": "markdown",
     "metadata": {},
     "source": [
      "Test the model.\n",
      "--------------"
     ]
    },
    {
     "cell_type": "code",
     "collapsed": false,
     "input": [
      "rfTestOut = rfFit.predict(test[inpFeatures])\n",
      "# reset the index for test DF\n",
      "test.reset_index(drop=True,inplace=True)\n",
      "test[ ['Pred-Runrate', 'Pred-Wickets/Over'] ] = pandas.DataFrame(rfTestOut)\n",
      "test[ 'Dfrnc-Wickets/Over' ] = abs(test['Pred-Wickets/Over'] - test[ 'Wickets/Over' ])\n",
      "test[ 'Dfrnc-Runrate' ] = abs(test['Pred-Runrate'] - test[ 'Runrate' ])\n",
      "print test['Dfrnc-Wickets/Over'].mean()\n",
      "print test['Dfrnc-Runrate'].mean()"
     ],
     "language": "python",
     "metadata": {},
     "outputs": [
      {
       "output_type": "stream",
       "stream": "stdout",
       "text": [
        "0.265738461538\n",
        "2.44026794872\n"
       ]
      }
     ],
     "prompt_number": 23
    },
    {
     "cell_type": "markdown",
     "metadata": {},
     "source": [
      "Feature Importance.\n",
      "------------------"
     ]
    },
    {
     "cell_type": "code",
     "collapsed": false,
     "input": [
      "print \" Random Forest Feature Importances \"\n",
      "for nfea, fea in enumerate(inpFeatures):\n",
      "    print fea, '--->', rfFit.feature_importances_[nfea]\n",
      "print \" Random Forest Feature Importances \""
     ],
     "language": "python",
     "metadata": {},
     "outputs": [
      {
       "output_type": "stream",
       "stream": "stdout",
       "text": [
        " Random Forest Feature Importances \n",
        "OverGroup ---> "
       ]
      },
      {
       "output_type": "stream",
       "stream": "stdout",
       "text": [
        "0.0\n",
        "years ---> 0.335833688302\n",
        "Innings ---> "
       ]
      },
      {
       "output_type": "stream",
       "stream": "stdout",
       "text": [
        "0.036303466808\n",
        "Venue_Id ---> 0.348736588746\n",
        "Opposition_Id ---> "
       ]
      },
      {
       "output_type": "stream",
       "stream": "stdout",
       "text": [
        "0.279126256144\n",
        " Random Forest Feature Importances \n"
       ]
      }
     ],
     "prompt_number": 24
    }
   ],
   "metadata": {}
  }
 ]
}
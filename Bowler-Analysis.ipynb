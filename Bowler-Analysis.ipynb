{
 "metadata": {
  "name": "",
  "signature": "sha256:11e3ddb097eb452122d4fa229f37a7f806e90669bc1a3c741e3cf64fc2c29f8a"
 },
 "nbformat": 3,
 "nbformat_minor": 0,
 "worksheets": [
  {
   "cells": [
    {
     "cell_type": "markdown",
     "metadata": {},
     "source": [
      "Setup connection with the DB\n",
      "----------------------------"
     ]
    },
    {
     "cell_type": "code",
     "collapsed": false,
     "input": [
      "import pandas\n",
      "import mysql.connector\n",
      "# set up connections to the DB\n",
      "conn = mysql.connector.Connect(host='localhost',user='root',\\\n",
      "                        password='',database='cricdata')"
     ],
     "language": "python",
     "metadata": {},
     "outputs": [],
     "prompt_number": 1
    },
    {
     "cell_type": "markdown",
     "metadata": {},
     "source": [
      "Get details about a bowler\n",
      "--------------------------"
     ]
    },
    {
     "cell_type": "code",
     "collapsed": false,
     "input": [
      "import dateutil\n",
      "inpBowler = 'DW Steyn'\n",
      "# retreive data from tables - \n",
      "# Deliveries, Innings, Game, PoM, Outcome\n",
      "# The main difference between batsmanDF and\n",
      "# bowlerDF is opposition and team are interchanged. \n",
      "qryBowler = \"\"\"\n",
      "               SELECT Delvrs.MatchId, Delvrs.InnNum, Delvrs.Over,Game.MatchDate,\n",
      "                   Delvrs.Batsman, Delvrs.NonStriker, Delvrs.Bowler,\n",
      "                   Delvrs.BatsmanRuns, Delvrs.ExtraRuns, Delvrs.Extra,\n",
      "                   Delvrs.Wicket, Delvrs.WicketFielder,\n",
      "                   Delvrs.WicketKind, Delvrs.WicketPlayerOut,\n",
      "                   Inn.Team as Opposition, Game.Venue, Outcome.Winner\n",
      "               FROM Deliveries as Delvrs\n",
      "               INNER JOIN Innings as Inn\n",
      "                   ON (Inn.MatchId = Delvrs.MatchId\n",
      "                       AND Inn.InningsNum = Delvrs.InnNum)\n",
      "               INNER JOIN Game\n",
      "                   ON Game.Id = Delvrs.MatchId\n",
      "               INNER JOIN Outcome\n",
      "                   ON Outcome.MatchId = Delvrs.MatchId\n",
      "               WHERE Delvrs.Bowler = \n",
      "             \"\"\"\n",
      "qryBowler += \"'\" + inpBowler + \"'\"\n",
      "bowlerDF = pandas.read_sql( qryBowler, conn )\n",
      "# We need to get the Team from \n",
      "# the SQL DB into a new DF and merge \n",
      "# it with the bowlerDF.\n",
      "qryTeam = \"\"\"\n",
      "               SELECT Delvrs.MatchId, Delvrs.Over,\n",
      "                   Inn.Team as Team\n",
      "               FROM Deliveries as Delvrs\n",
      "               INNER JOIN Innings as Inn\n",
      "                   ON (Inn.MatchId = Delvrs.MatchId\n",
      "                       AND Inn.InningsNum != Delvrs.InnNum)\n",
      "               WHERE Delvrs.Bowler = \n",
      "             \"\"\"\n",
      "qryTeam += \"'\" + inpBowler + \"'\"\n",
      "teamDF = pandas.read_sql( qryTeam, conn )\n",
      "bowlerDF = pandas.DataFrame(\\\n",
      "                             pandas.merge( bowlerDF, teamDF,\\\n",
      "                                          on=['MatchId', 'Over'], \\\n",
      "                                          how='inner' ) )\n",
      "# Add an additional year column, for some reason the DatetimeIndex\n",
      "# function didnt work, we'll use a applymap func instead\n",
      "bowlerDF['year'] = bowlerDF['MatchDate'].map( lambda x: x.year ).reset_index(drop=True)\n",
      "print bowlerDF.head(5)"
     ],
     "language": "python",
     "metadata": {},
     "outputs": [
      {
       "output_type": "stream",
       "stream": "stdout",
       "text": [
        "   MatchId  InnNum  Over           MatchDate    Batsman NonStriker    Bowler  \\\n",
        "0   335996       1   0.1 2008-04-28 00:00:00   PA Patel  ML Hayden  DW Steyn   \n",
        "1   335996       1   0.2 2008-04-28 00:00:00  ML Hayden   PA Patel  DW Steyn   \n",
        "2   335996       1   0.3 2008-04-28 00:00:00  ML Hayden   PA Patel  DW Steyn   \n",
        "3   335996       1   0.4 2008-04-28 00:00:00  ML Hayden   PA Patel  DW Steyn   \n",
        "4   335996       1   0.5 2008-04-28 00:00:00  ML Hayden   PA Patel  DW Steyn   \n",
        "\n",
        "   BatsmanRuns  ExtraRuns Extra Wicket WicketFielder WicketKind  \\\n",
        "0            1          0  None   None          None       None   \n",
        "1            0          0  None   None          None       None   \n",
        "2            0          0  None   None          None       None   \n",
        "3            0          0  None   None          None       None   \n",
        "4            0          0  None   None          None       None   \n",
        "\n",
        "  WicketPlayerOut           Opposition                  Venue  \\\n",
        "0            None  Chennai Super Kings  M Chinnaswamy Stadium   \n",
        "1            None  Chennai Super Kings  M Chinnaswamy Stadium   \n",
        "2            None  Chennai Super Kings  M Chinnaswamy Stadium   \n",
        "3            None  Chennai Super Kings  M Chinnaswamy Stadium   \n",
        "4            None  Chennai Super Kings  M Chinnaswamy Stadium   \n",
        "\n",
        "                Winner                         Team  year  \n",
        "0  Chennai Super Kings  Royal Challengers Bangalore  2008  \n",
        "1  Chennai Super Kings  Royal Challengers Bangalore  2008  \n",
        "2  Chennai Super Kings  Royal Challengers Bangalore  2008  \n",
        "3  Chennai Super Kings  Royal Challengers Bangalore  2008  \n",
        "4  Chennai Super Kings  Royal Challengers Bangalore  2008  \n"
       ]
      }
     ],
     "prompt_number": 4
    },
    {
     "cell_type": "markdown",
     "metadata": {},
     "source": [
      "Stats by year\n",
      "-------------"
     ]
    },
    {
     "cell_type": "code",
     "collapsed": false,
     "input": [
      "# Group by year and get details\n",
      "grpByYr = bowlerDF.groupby('year')\n",
      "# We get pandas series with aggregating on groupby funcs\n",
      "# concat those to form a DF\n",
      "# Also obtain balls played, strike rate, \n",
      "# For the balls played, we need to take out extra's \n",
      "# that are wides, noballs.\n",
      "# get the number of deliveries\n",
      "nballs = grpByYr.MatchId.size()\n",
      "# get the deliveries that were extras by year\n",
      "grpExtrByYr = bowlerDF[bowlerDF['Extra'].isin([ 'wides', 'noballs' ])].\\\n",
      "                groupby('year')\n",
      "# Remove extras from num balls\n",
      "# Note the fill_value=0 is imp, otherwise\n",
      "# we'll get NaN values because not all teams\n",
      "# may have bowled extras to the selected batsman\n",
      "nballs = nballs.sub( grpExtrByYr.MatchId.count(), fill_value=0 )\n",
      "# get Num of boundaries conceded\n",
      "bndryDF = bowlerDF[bowlerDF['BatsmanRuns'].isin( [4,6] )]\n",
      "plyrYearDF = pandas.concat( \\\n",
      "                           [grpByYr.BatsmanRuns.sum(), \\\n",
      "                            grpByYr.MatchId.nunique(),\n",
      "                            grpByYr.Wicket.count(),grpExtrByYr.ExtraRuns.sum(),\n",
      "                            nballs, bndryDF.groupby('year').MatchId.count()], \\\n",
      "                           axis=1 )\n",
      "# Replace some NaN values with 0\n",
      "plyrYearDF = plyrYearDF.fillna(0)\n",
      "# Rename the columns\n",
      "plyrYearDF.columns = [ 'Runs', 'Matches', 'Wickets', 'Wides/noballs'\\\n",
      "                      , 'Balls', 'Boundaries' ]\n",
      "# make year a column rather than having it as index\n",
      "plyrYearDF['Year'] = plyrYearDF.index\n",
      "plyrYearDF.reset_index(drop=True,inplace=True)\n",
      "plyrYearDF['Runrate'] = (plyrYearDF['Runs']/(plyrYearDF['Balls']/6.))\\\n",
      "                                .apply(lambda x: round(x, 2))\n",
      "plyrYearDF['Overs'] = (plyrYearDF['Balls']/6.)\\\n",
      "                                .astype('int')\n",
      "print plyrYearDF"
     ],
     "language": "python",
     "metadata": {},
     "outputs": [
      {
       "output_type": "stream",
       "stream": "stdout",
       "text": [
        "   Runs  Matches  Wickets  Wides/noballs  Balls  Boundaries  Year  Runrate  \\\n",
        "0   228       10       13             24    228          34  2008     6.00   \n",
        "1    57        3        3              5     54           7  2009     6.33   \n",
        "2   377       15       17             29    354          51  2010     6.39   \n",
        "3   286       12       14             13    273          44  2011     6.29   \n",
        "4   275       12       18             10    280          37  2012     5.89   \n",
        "5   580       17       22             44    525          72  2013     6.63   \n",
        "6   425       14       12              6    336          62  2014     7.59   \n",
        "\n",
        "   Overs  \n",
        "0     38  \n",
        "1      9  \n",
        "2     59  \n",
        "3     45  \n",
        "4     46  \n",
        "5     87  \n",
        "6     56  \n"
       ]
      }
     ],
     "prompt_number": 34
    },
    {
     "cell_type": "code",
     "collapsed": false,
     "input": [],
     "language": "python",
     "metadata": {},
     "outputs": []
    }
   ],
   "metadata": {}
  }
 ]
}
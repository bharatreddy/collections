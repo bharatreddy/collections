{
 "metadata": {
  "name": "",
  "signature": "sha256:1e42dd7ac01686f9bcb376b2a4e22e31826c30d4c5f2815a81477c3f6759351d"
 },
 "nbformat": 3,
 "nbformat_minor": 0,
 "worksheets": [
  {
   "cells": [
    {
     "cell_type": "markdown",
     "metadata": {},
     "source": [
      "Setup connection with the DB\n",
      "----------------------------"
     ]
    },
    {
     "cell_type": "code",
     "collapsed": false,
     "input": [
      "import pandas\n",
      "import mysql.connector\n",
      "# set up connections to the DB\n",
      "conn = mysql.connector.Connect(host='localhost',user='root',\\\n",
      "                        password='',database='cricdata')"
     ],
     "language": "python",
     "metadata": {},
     "outputs": [],
     "prompt_number": 10
    },
    {
     "cell_type": "markdown",
     "metadata": {},
     "source": [
      "Get data about a batsman\n",
      "------------------------"
     ]
    },
    {
     "cell_type": "code",
     "collapsed": false,
     "input": [
      "import dateutil\n",
      "inpBatsman = 'MS Dhoni'\n",
      "# retreive data from tables - \n",
      "# Deliveries, Innings, Game, PoM, Outcome\n",
      "qryBatsman = \"\"\"\n",
      "               SELECT Delvrs.MatchId, Delvrs.InnNum, Delvrs.Over,Game.MatchDate,\n",
      "                   Delvrs.Batsman, Delvrs.NonStriker, Delvrs.Bowler,\n",
      "                   Delvrs.BatsmanRuns, Delvrs.ExtraRuns, Delvrs.Extra,\n",
      "                   Delvrs.Wicket, Delvrs.WicketFielder,\n",
      "                   Delvrs.WicketKind, Delvrs.WicketPlayerOut,\n",
      "                   Inn.Team, Game.Venue, Outcome.Winner\n",
      "               FROM Deliveries as Delvrs\n",
      "               INNER JOIN Innings as Inn\n",
      "                   ON (Inn.MatchId = Delvrs.MatchId\n",
      "                       AND Inn.InningsNum = Delvrs.InnNum)\n",
      "               INNER JOIN Game\n",
      "                   ON Game.Id = Delvrs.MatchId\n",
      "               INNER JOIN Outcome\n",
      "                   ON Outcome.MatchId = Delvrs.MatchId\n",
      "               WHERE Delvrs.Batsman = \n",
      "             \"\"\"\n",
      "qryBatsman += \"'\" + inpBatsman + \"'\"\n",
      "batsmanDF = pandas.read_sql( qryBatsman, conn )\n",
      "# Add an additional year column, for some reason the DatetimeIndex\n",
      "# function didnt work, we'll use a applymap func instead\n",
      "batsmanDF['year'] = batsmanDF['MatchDate'].map( lambda x: x.year ).reset_index(drop=True)\n",
      "print batsmanDF.head(5)"
     ],
     "language": "python",
     "metadata": {},
     "outputs": [
      {
       "output_type": "stream",
       "stream": "stdout",
       "text": [
        "   MatchId  InnNum  Over           MatchDate   Batsman  NonStriker     Bowler  \\\n",
        "0   335983       1   6.3 2008-04-19 00:00:00  MS Dhoni  MEK Hussey  IK Pathan   \n",
        "1   335983       1   6.6 2008-04-19 00:00:00  MS Dhoni  MEK Hussey  IK Pathan   \n",
        "2   335983       1   7.1 2008-04-19 00:00:00  MS Dhoni  MEK Hussey   JR Hopes   \n",
        "3   335989       1  15.1 2008-04-23 00:00:00  MS Dhoni   ML Hayden   DJ Bravo   \n",
        "4   335989       1  15.2 2008-04-23 00:00:00  MS Dhoni   ML Hayden   DJ Bravo   \n",
        "\n",
        "   BatsmanRuns  ExtraRuns  Extra Wicket WicketFielder WicketKind  \\\n",
        "0            1          0   None   None          None       None   \n",
        "1            1          0   None   None          None       None   \n",
        "2            0          0   None   True          None        lbw   \n",
        "3            0          1  wides   None          None       None   \n",
        "4            4          0   None   None          None       None   \n",
        "\n",
        "  WicketPlayerOut                 Team  \\\n",
        "0            None  Chennai Super Kings   \n",
        "1            None  Chennai Super Kings   \n",
        "2        MS Dhoni  Chennai Super Kings   \n",
        "3            None  Chennai Super Kings   \n",
        "4            None  Chennai Super Kings   \n",
        "\n",
        "                                        Venue               Winner  year  \n",
        "0  Punjab Cricket Association Stadium, Mohali  Chennai Super Kings  2008  \n",
        "1  Punjab Cricket Association Stadium, Mohali  Chennai Super Kings  2008  \n",
        "2  Punjab Cricket Association Stadium, Mohali  Chennai Super Kings  2008  \n",
        "3             MA Chidambaram Stadium, Chepauk  Chennai Super Kings  2008  \n",
        "4             MA Chidambaram Stadium, Chepauk  Chennai Super Kings  2008  \n"
       ]
      }
     ],
     "prompt_number": 11
    },
    {
     "cell_type": "markdown",
     "metadata": {},
     "source": [
      "Stats by year\n",
      "-------------"
     ]
    },
    {
     "cell_type": "code",
     "collapsed": false,
     "input": [
      "# Group by year and get details\n",
      "grpByYr = batsmanDF.groupby('year')\n",
      "# We get pandas series with aggregating on groupby funcs\n",
      "# concat those to form a DF\n",
      "# Also obtain balls played, strike rate, \n",
      "# For the balls played, we need to take out extra's \n",
      "# that are wides, noballs.\n",
      "# get the number of deliveries\n",
      "nballs = grpByYr.MatchId.size()\n",
      "# get the deliveries that were extras by year\n",
      "grpExtrByYr = batsmanDF[batsmanDF['Extra'].isin([ 'wides', 'noballs' ])].\\\n",
      "                groupby('year')\n",
      "# Remove extras from num balls\n",
      "nballs = nballs - grpExtrByYr.MatchId.count()\n",
      "# get Num of boundaries\n",
      "bndryDF = batsmanDF[batsmanDF['BatsmanRuns'].isin( [4,6] )]\n",
      "plyrYearDF = pandas.concat( \\\n",
      "                           [grpByYr.BatsmanRuns.sum(), \\\n",
      "                            grpByYr.MatchId.nunique(), \n",
      "                            nballs, bndryDF.groupby('year').MatchId.count()], \\\n",
      "                           axis=1 )\n",
      "# Rename the columns\n",
      "plyrYearDF.columns = [ 'Runs', 'Matches', 'Balls', 'Boundaries' ]\n",
      "# make year a column rather than having it as index\n",
      "plyrYearDF['Year'] = plyrYearDF.index\n",
      "plyrYearDF.reset_index(drop=True,inplace=True)\n",
      "plyrYearDF['Avg'] = (plyrYearDF['Runs']*1./plyrYearDF['Matches'])\\\n",
      "                                .apply(lambda x: round(x, 2))\n",
      "plyrYearDF['Strikerate'] = (plyrYearDF['Runs']*100./plyrYearDF['Balls'])\\\n",
      "                                .apply(lambda x: round(x, 2))\n",
      "# get most frequent wicket type\n",
      "# get the deliveries when the input batsman was out\n",
      "wicketDF = batsmanDF[batsmanDF['WicketPlayerOut'] == inpBatsman ]\n",
      "# group by year and type and get the count\n",
      "wicketByYear = pandas.DataFrame( \\\n",
      "                                wicketDF.groupby(['year','WicketKind']).\\\n",
      "                                size() )\n",
      "# convert the multi level index to columns\n",
      "wicketByYear.reset_index( inplace=True )\n",
      "# Now groupby year and get max count\n",
      "wicketByYear.columns = ['Year','WicketKind', 'NumTimes']\n",
      "# get the index where the number of times \n",
      "# of a particular wicketkind is max\n",
      "idxMax = wicketByYear.groupby(['Year'])['NumTimes'].\\\n",
      "            transform(max) == wicketByYear['NumTimes']\n",
      "wicketByYear = wicketByYear[idxMax].reset_index(drop=True)\n",
      "# Merge with playerDF\n",
      "plyrYearDF = pandas.merge( plyrYearDF, wicketByYear, on='Year' )\n",
      "print plyrYearDF"
     ],
     "language": "python",
     "metadata": {},
     "outputs": [
      {
       "output_type": "stream",
       "stream": "stdout",
       "text": [
        "   Runs  Matches  Balls  Boundaries  Year    Avg  Strikerate WicketKind  \\\n",
        "0   414       14    310          53  2008  29.57      133.55     caught   \n",
        "1   332       13    261          31  2009  25.54      127.20     caught   \n",
        "2   287       11    210          34  2010  26.09      136.67     caught   \n",
        "3   392       13    245          48  2011  30.15      160.00     caught   \n",
        "4   357       17    275          35  2012  21.00      129.82     caught   \n",
        "5   461       16    280          57  2013  28.81      164.64     caught   \n",
        "6   371       15    247          42  2014  24.73      150.20     caught   \n",
        "\n",
        "   NumTimes  \n",
        "0         9  \n",
        "1         5  \n",
        "2         5  \n",
        "3         6  \n",
        "4         8  \n",
        "5         9  \n",
        "6         5  \n"
       ]
      }
     ],
     "prompt_number": 12
    },
    {
     "cell_type": "markdown",
     "metadata": {},
     "source": [
      "Stats by venue\n",
      "--------------"
     ]
    },
    {
     "cell_type": "code",
     "collapsed": false,
     "input": [
      "# Group by Venue\n",
      "grpByVenue = batsmanDF.groupby('Venue')\n",
      "# Get num balls and other stats similar to\n",
      "# the stats by year analysis above.\n",
      "nballs = grpByVenue.MatchId.size()\n",
      "# get the deliveries that were extras by year\n",
      "grpExtrByVenue = batsmanDF[batsmanDF['Extra'].isin([ 'wides', 'noballs' ])].\\\n",
      "                groupby('Venue')\n",
      "# Remove extras from num balls\n",
      "nballs = nballs - grpExtrByVenue.MatchId.count()\n",
      "# get Num of boundaries\n",
      "bndryDF = batsmanDF[batsmanDF['BatsmanRuns'].isin( [4,6] )]\n",
      "plyrVenueDF = pandas.concat( \\\n",
      "                           [grpByVenue.BatsmanRuns.sum(), \\\n",
      "                            grpByVenue.MatchId.nunique(), \n",
      "                            nballs, bndryDF.groupby('Venue').MatchId.count()], \\\n",
      "                           axis=1 )\n",
      "# Rename the columns\n",
      "plyrVenueDF.columns = [ 'Runs', 'Matches', 'Balls', 'Boundaries' ]\n",
      "# make year a column rather than having it as index\n",
      "plyrVenueDF['Venue'] = plyrVenueDF.index\n",
      "plyrVenueDF.reset_index(drop=True,inplace=True)\n",
      "plyrVenueDF['Avg'] = (plyrVenueDF['Runs']*1./plyrVenueDF['Matches'])\\\n",
      "                                .apply(lambda x: round(x, 2))\n",
      "plyrVenueDF['Strikerate'] = (plyrVenueDF['Runs']*100./plyrVenueDF['Balls'])\\\n",
      "                                .apply(lambda x: round(x, 2))\n",
      "# use only those venues where the player more than 2 matches\n",
      "plyrVenueDF = plyrVenueDF[plyrVenueDF['Matches'] > 2]\n",
      "print plyrVenueDF"
     ],
     "language": "python",
     "metadata": {},
     "outputs": [
      {
       "output_type": "stream",
       "stream": "stdout",
       "text": [
        "    Runs  Matches  Balls  Boundaries                               Venue  \\\n",
        "2     81        3     64           9          Dr DY Patil Sports Academy   \n",
        "5    187        5    120          23                        Eden Gardens   \n",
        "6    100        4     79          11                    Feroz Shah Kotla   \n",
        "8    112        4     80          11  JSCA International Stadium Complex   \n",
        "9     47        4     51           3                           Kingsmead   \n",
        "10   259        5    128          40               M Chinnaswamy Stadium   \n",
        "11   936       36    653         102     MA Chidambaram Stadium, Chepauk   \n",
        "18    54        4     45           7              Sawai Mansingh Stadium   \n",
        "23   118        3     74          15                     SuperSport Park   \n",
        "25   174        7    129          23                    Wankhede Stadium   \n",
        "\n",
        "      Avg  Strikerate  \n",
        "2   27.00      126.56  \n",
        "5   37.40      155.83  \n",
        "6   25.00      126.58  \n",
        "8   28.00      140.00  \n",
        "9   11.75       92.16  \n",
        "10  51.80      202.34  \n",
        "11  26.00      143.34  \n",
        "18  13.50      120.00  \n",
        "23  39.33      159.46  \n",
        "25  24.86      134.88  \n"
       ]
      }
     ],
     "prompt_number": 16
    },
    {
     "cell_type": "code",
     "collapsed": false,
     "input": [
      "# We'll also calculate stats by venue, opposition, bowler, overs, position batted"
     ],
     "language": "python",
     "metadata": {},
     "outputs": [],
     "prompt_number": 14
    }
   ],
   "metadata": {}
  }
 ]
}
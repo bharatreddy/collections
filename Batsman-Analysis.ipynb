{
 "metadata": {
  "name": "",
  "signature": "sha256:c2d85f5571a8551e2ecb0f0ae0c7ab659e88c7da274b63d9481cf30da17ccd4f"
 },
 "nbformat": 3,
 "nbformat_minor": 0,
 "worksheets": [
  {
   "cells": [
    {
     "cell_type": "markdown",
     "metadata": {},
     "source": [
      "Setup connection with the DB\n",
      "----------------------------"
     ]
    },
    {
     "cell_type": "code",
     "collapsed": false,
     "input": [
      "import pandas\n",
      "import mysql.connector\n",
      "# set up connections to the DB\n",
      "conn = mysql.connector.Connect(host='localhost',user='root',\\\n",
      "                        password='',database='cricdata')"
     ],
     "language": "python",
     "metadata": {},
     "outputs": [],
     "prompt_number": 2
    },
    {
     "cell_type": "markdown",
     "metadata": {},
     "source": [
      "Get data about a batsman\n",
      "------------------------"
     ]
    },
    {
     "cell_type": "code",
     "collapsed": false,
     "input": [
      "import dateutil\n",
      "inpBatsman = '\"MS Dhoni\"'\n",
      "# retreive data from tables - \n",
      "# Deliveries, Innings, Game, PoM, Outcome\n",
      "qryBatsman = \"\"\"\n",
      "               SELECT Delvrs.MatchId, Delvrs.InnNum, Delvrs.Over,Game.MatchDate,\n",
      "                   Delvrs.Batsman, Delvrs.NonStriker, Delvrs.Bowler,\n",
      "                   Delvrs.BatsmanRuns, Delvrs.ExtraRuns, Delvrs.Extra,\n",
      "                   Delvrs.Wicket, Delvrs.WicketFielder,\n",
      "                   Delvrs.WicketKind, Delvrs.WicketPlayerOut,\n",
      "                   Inn.Team, Game.Venue, Outcome.Winner\n",
      "               FROM Deliveries as Delvrs\n",
      "               INNER JOIN Innings as Inn\n",
      "                   ON (Inn.MatchId = Delvrs.MatchId\n",
      "                       AND Inn.InningsNum = Delvrs.InnNum)\n",
      "               INNER JOIN Game\n",
      "                   ON Game.Id = Delvrs.MatchId\n",
      "               INNER JOIN Outcome\n",
      "                   ON Outcome.MatchId = Delvrs.MatchId\n",
      "               WHERE Delvrs.Batsman = \n",
      "             \"\"\"\n",
      "qryBatsman += inpBatsman\n",
      "batsmanDF = pandas.read_sql( qryBatsman, conn )\n",
      "# Add an additional year column, for some reason the DatetimeIndex\n",
      "# function didnt work, we'll use a applymap func instead\n",
      "batsmanDF['year'] = batsmanDF['MatchDate'].map( lambda x: x.year ).reset_index(drop=True)\n",
      "print batsmanDF.head(5)"
     ],
     "language": "python",
     "metadata": {},
     "outputs": [
      {
       "output_type": "stream",
       "stream": "stdout",
       "text": [
        "   MatchId  InnNum  Over           MatchDate   Batsman  NonStriker     Bowler  \\\n",
        "0   335983       1   6.3 2008-04-19 00:00:00  MS Dhoni  MEK Hussey  IK Pathan   \n",
        "1   335983       1   6.6 2008-04-19 00:00:00  MS Dhoni  MEK Hussey  IK Pathan   \n",
        "2   335983       1   7.1 2008-04-19 00:00:00  MS Dhoni  MEK Hussey   JR Hopes   \n",
        "3   335989       1  15.1 2008-04-23 00:00:00  MS Dhoni   ML Hayden   DJ Bravo   \n",
        "4   335989       1  15.2 2008-04-23 00:00:00  MS Dhoni   ML Hayden   DJ Bravo   \n",
        "\n",
        "   BatsmanRuns  ExtraRuns  Extra Wicket WicketFielder WicketKind  \\\n",
        "0            1          0   None   None          None       None   \n",
        "1            1          0   None   None          None       None   \n",
        "2            0          0   None   True          None        lbw   \n",
        "3            0          1  wides   None          None       None   \n",
        "4            4          0   None   None          None       None   \n",
        "\n",
        "  WicketPlayerOut                 Team  \\\n",
        "0            None  Chennai Super Kings   \n",
        "1            None  Chennai Super Kings   \n",
        "2        MS Dhoni  Chennai Super Kings   \n",
        "3            None  Chennai Super Kings   \n",
        "4            None  Chennai Super Kings   \n",
        "\n",
        "                                        Venue               Winner  year  \n",
        "0  Punjab Cricket Association Stadium, Mohali  Chennai Super Kings  2008  \n",
        "1  Punjab Cricket Association Stadium, Mohali  Chennai Super Kings  2008  \n",
        "2  Punjab Cricket Association Stadium, Mohali  Chennai Super Kings  2008  \n",
        "3             MA Chidambaram Stadium, Chepauk  Chennai Super Kings  2008  \n",
        "4             MA Chidambaram Stadium, Chepauk  Chennai Super Kings  2008  \n"
       ]
      }
     ],
     "prompt_number": 3
    },
    {
     "cell_type": "markdown",
     "metadata": {},
     "source": [
      "Stats by year\n",
      "-------------"
     ]
    },
    {
     "cell_type": "code",
     "collapsed": false,
     "input": [
      "# Group by year and get some details\n",
      "grpByYr = batsmanDF.groupby('year')\n",
      "# We get pandas series with aggregating on groupby funcs\n",
      "# concat those to form a DF\n",
      "# Also obtain balls played, strike rate, \n",
      "# For the balls played, we need to take out extra's \n",
      "# that are wides, noballs.\n",
      "remExtraType = [ 'wides', 'noballs' ]\n",
      "# get the number of deliveries\n",
      "nballs = grpByYr.MatchId.size()\n",
      "# get the deliveries that were extras by year\n",
      "grpExtrByYr = batsmanDF[batsmanDF['Extra'].isin(remExtraType)].\\\n",
      "                groupby('year')\n",
      "# Remove from num balls\n",
      "nballs = nballs - grpExtrByYr.MatchId.count()\n",
      "plyrYearDF = pandas.concat( \\\n",
      "                           [grpByYr.BatsmanRuns.sum(), \\\n",
      "                            grpByYr.MatchId.nunique(), \n",
      "                            nballs], \\\n",
      "                           axis=1 )\n",
      "# Rename the columns\n",
      "plyrYearDF.columns = [ 'Runs', 'Matches', 'Balls' ]\n",
      "# make year a column rather than having it as index\n",
      "plyrYearDF['Year'] = plyrYearDF.index\n",
      "plyrYearDF.reset_index(drop=True,inplace=True)\n",
      "plyrYearDF['Avg'] = (plyrYearDF['Runs']*1./plyrYearDF['Matches'])\\\n",
      "                                .apply(lambda x: round(x, 2))\n",
      "plyrYearDF['Strikerate'] = (plyrYearDF['Runs']*100./plyrYearDF['Balls'])\\\n",
      "                                .apply(lambda x: round(x, 2))\n",
      "# num of boundaries, most common type of out etc\n",
      "print plyrYearDF"
     ],
     "language": "python",
     "metadata": {},
     "outputs": [
      {
       "output_type": "stream",
       "stream": "stdout",
       "text": [
        "   Runs  Matches  Balls  Year    Avg  Strikerate\n",
        "0   414       14    310  2008  29.57      133.55\n",
        "1   332       13    261  2009  25.54      127.20\n",
        "2   287       11    210  2010  26.09      136.67\n",
        "3   392       13    245  2011  30.15      160.00\n",
        "4   357       17    275  2012  21.00      129.82\n",
        "5   461       16    280  2013  28.81      164.64\n",
        "6   371       15    247  2014  24.73      150.20\n"
       ]
      }
     ],
     "prompt_number": 7
    },
    {
     "cell_type": "code",
     "collapsed": false,
     "input": [],
     "language": "python",
     "metadata": {},
     "outputs": []
    }
   ],
   "metadata": {}
  }
 ]
}
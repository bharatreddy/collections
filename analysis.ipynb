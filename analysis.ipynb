{
 "metadata": {
  "name": "",
  "signature": "sha256:d75c244face1f8419da42373645a7576df29bc87496d826e6768ac980ef3086a"
 },
 "nbformat": 3,
 "nbformat_minor": 0,
 "worksheets": [
  {
   "cells": [
    {
     "cell_type": "code",
     "collapsed": false,
     "input": [
      "import pymongo\n",
      "import urllib\n",
      "# Establish a connection to mongo\n",
      "mClnt = pymongo.MongoClient()\n",
      "# Access the udacity database\n",
      "udacity = mClnt['Udacity']['course']\n",
      "udaForum = mClnt['Udacity']['forum']\n",
      "# Now get the course info by looping through\n",
      "# each record in the DB\n",
      "recs = udaForum.find({})"
     ],
     "language": "python",
     "metadata": {},
     "outputs": []
    }
   ],
   "metadata": {}
  }
 ]
}
{
 "metadata": {
  "name": "",
  "signature": "sha256:9373cd110d61086da4431658a39523a63af730dd9caf95c6d0ddbc9f3e721044"
 },
 "nbformat": 3,
 "nbformat_minor": 0,
 "worksheets": [
  {
   "cells": [
    {
     "cell_type": "markdown",
     "metadata": {},
     "source": [
      "Setup connection with MySQL.\n",
      "----------------------------"
     ]
    },
    {
     "cell_type": "code",
     "collapsed": false,
     "input": [
      "import pandas\n",
      "import mysql.connector\n",
      "# set up connections to the DB\n",
      "conn = mysql.connector.Connect(host='localhost',user='root',\\\n",
      "                        password='',database='cricdata')"
     ],
     "language": "python",
     "metadata": {},
     "outputs": [],
     "prompt_number": 1
    },
    {
     "cell_type": "markdown",
     "metadata": {},
     "source": [
      "Player of match analysis.\n",
      "------------------------"
     ]
    },
    {
     "cell_type": "code",
     "collapsed": false,
     "input": [
      "# Retreive matchId, team, year, playerofmatch data\n",
      "qryPoM = \"\"\"\n",
      "          SELECT Game.Id, Game.MatchDate,\n",
      "              PlayerOfMatch.Player\n",
      "          FROM Game\n",
      "          INNER JOIN PlayerOfMatch\n",
      "              ON PlayerOfMatch.MatchId = Game.Id\n",
      "         \"\"\"\n",
      "pomDF = pandas.read_sql( qryPoM, conn )\n",
      "# Add an additional year column\n",
      "pomDF['year'] = pandas.DatetimeIndex( pomDF['MatchDate'] ).year\n",
      "# Groupby the players and check who won max awards\n",
      "pomGroups = pomDF.groupby(\"Player\").size().order( ascending=False )\n",
      "print \"######## Top 10 player of match winners (all years) ########\"\n",
      "# print pomGroups.head(10)\n",
      "print \"######## Top 10 player of match winners (all years) ########\"\n",
      "# Groupby the players and year\n",
      "pomYearGrp = pomDF.groupby( [ \"Player\", \"year\" ] ).size().order( ascending=False )\n",
      "print \"######## Top 10 player of match winners by year ########\"\n",
      "print pomYearGrp.head(10)\n",
      "print \"######## Top 10 player of match winners by year ########\""
     ],
     "language": "python",
     "metadata": {},
     "outputs": [
      {
       "output_type": "stream",
       "stream": "stdout",
       "text": [
        "######## Top 10 player of matches ########\n",
        "######## Top 10 player of matches ########\n",
        "Player        year\n",
        "CH Gayle      2011    6\n",
        "SE Marsh      2008    5\n",
        "MEK Hussey    2013    5\n",
        "CH Gayle      2012    5\n",
        "YK Pathan     2008    4\n",
        "SR Watson     2008    4\n",
        "SR Tendulkar  2010    4\n",
        "GJ Maxwell    2014    4\n",
        "A Mishra      2013    4\n",
        "YK Pathan     2009    3\n",
        "dtype: int64\n"
       ]
      }
     ],
     "prompt_number": 11
    },
    {
     "cell_type": "code",
     "collapsed": false,
     "input": [],
     "language": "python",
     "metadata": {},
     "outputs": [],
     "prompt_number": 2
    }
   ],
   "metadata": {}
  }
 ]
}
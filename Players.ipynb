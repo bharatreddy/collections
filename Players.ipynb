{
 "metadata": {
  "name": "",
  "signature": "sha256:bd0bb6cfde66397cc7d7e7abe9bb2386e99091eaf9570d79bf63fcf7f0b999dd"
 },
 "nbformat": 3,
 "nbformat_minor": 0,
 "worksheets": [
  {
   "cells": [
    {
     "cell_type": "markdown",
     "metadata": {},
     "source": [
      "Setup connection with MySQL.\n",
      "----------------------------"
     ]
    },
    {
     "cell_type": "code",
     "collapsed": false,
     "input": [
      "import pandas\n",
      "import mysql.connector\n",
      "# set up connections to the DB\n",
      "conn = mysql.connector.Connect(host='localhost',user='root',\\\n",
      "                        password='',database='cricdata')"
     ],
     "language": "python",
     "metadata": {},
     "outputs": []
    },
    {
     "cell_type": "markdown",
     "metadata": {},
     "source": [
      "Player of match analysis.\n",
      "------------------------"
     ]
    },
    {
     "cell_type": "code",
     "collapsed": false,
     "input": [
      "# Retreive matchId, team, year, playerofmatch data\n",
      "qryPoM = \"\"\"\n",
      "          SELECT Game.Id, Game.MatchDate,\n",
      "              PlayerOfMatch.Player\n",
      "          FROM Game\n",
      "          INNER JOIN PlayerOfMatch\n",
      "              ON PlayerOfMatch.MatchId = Game.Id\n",
      "         \"\"\"\n",
      "pomDF = pandas.read_sql( qryPoM, conn )\n",
      "# Groupby the players and check who won max awards\n",
      "pomGroups = pomDF.groupby(\"Player\").size().order( ascending=False )\n",
      "print pomGroups"
     ],
     "language": "python",
     "metadata": {},
     "outputs": []
    },
    {
     "cell_type": "code",
     "collapsed": false,
     "input": [],
     "language": "python",
     "metadata": {},
     "outputs": []
    }
   ],
   "metadata": {}
  }
 ]
}
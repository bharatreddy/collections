{
 "metadata": {
  "name": "",
  "signature": "sha256:0be50649025d234d04cadecdeb2160328efe6525a2707af739c3910fa6ee2847"
 },
 "nbformat": 3,
 "nbformat_minor": 0,
 "worksheets": [
  {
   "cells": [
    {
     "cell_type": "markdown",
     "metadata": {},
     "source": [
      "> Set up connections to the SQL DB through Pandas"
     ]
    },
    {
     "cell_type": "code",
     "collapsed": false,
     "input": [
      "import pandas\n",
      "import mysql.connector\n",
      "# set up connections to the DB\n",
      "conn = mysql.connector.Connect(host='localhost',user='root',\\\n",
      "                        password='',database='cricdata')"
     ],
     "language": "python",
     "metadata": {},
     "outputs": [],
     "prompt_number": 1
    },
    {
     "cell_type": "markdown",
     "metadata": {},
     "source": [
      "> Retreive necessary data from the DB"
     ]
    },
    {
     "cell_type": "code",
     "collapsed": false,
     "input": [
      "# Retreive Data teams, Outcome data from the DB\n",
      "qryTeamWin = \"\"\"\n",
      "                SELECT Game.Id, Game.MatchDate, Game.Venue, Game.Overs,\n",
      "                    Teams.Team1, Teams.Team2,\n",
      "                    Outcome.Winner, Outcome.Runs, Outcome.Wickets, Outcome.Result,\n",
      "                    Outcome.Eliminator, Outcome.Method\n",
      "                FROM Game INNER JOIN Outcome\n",
      "                    ON Game.Id = OutCome.MatchId\n",
      "                INNER JOIN Teams\n",
      "                    ON Game.Id = Teams.MatchId\n",
      "             \"\"\"\n",
      "winTeamDF = pandas.read_sql( qryTeamWin, conn )\n",
      "# print a sample of the data\n",
      "print winTeamDF.head(5)"
     ],
     "language": "python",
     "metadata": {},
     "outputs": [
      {
       "output_type": "stream",
       "stream": "stdout",
       "text": [
        "       Id           MatchDate                                       Venue  \\\n",
        "0  335982 2008-04-18 00:00:00                       M Chinnaswamy Stadium   \n",
        "1  335983 2008-04-19 00:00:00  Punjab Cricket Association Stadium, Mohali   \n",
        "2  335984 2008-04-19 00:00:00                            Feroz Shah Kotla   \n",
        "3  335985 2008-04-20 00:00:00                            Wankhede Stadium   \n",
        "4  335986 2008-04-20 00:00:00                                Eden Gardens   \n",
        "\n",
        "   Overs                        Team1                        Team2  \\\n",
        "0     20  Royal Challengers Bangalore        Kolkata Knight Riders   \n",
        "1     20              Kings XI Punjab          Chennai Super Kings   \n",
        "2     20             Delhi Daredevils             Rajasthan Royals   \n",
        "3     20               Mumbai Indians  Royal Challengers Bangalore   \n",
        "4     20        Kolkata Knight Riders              Deccan Chargers   \n",
        "\n",
        "                        Winner  Runs  Wickets Result Eliminator Method  \n",
        "0        Kolkata Knight Riders   140      NaN   None       None   None  \n",
        "1          Chennai Super Kings    33      NaN   None       None   None  \n",
        "2             Delhi Daredevils   NaN        9   None       None   None  \n",
        "3  Royal Challengers Bangalore   NaN        5   None       None   None  \n",
        "4        Kolkata Knight Riders   NaN        5   None       None   None  \n"
       ]
      }
     ],
     "prompt_number": 2
    },
    {
     "cell_type": "markdown",
     "metadata": {},
     "source": [
      "> Get some basic stats - like win/loss percentage by team, stadium and toss."
     ]
    },
    {
     "cell_type": "code",
     "collapsed": false,
     "input": [
      "# We'll begin with the win/loss percent of teams.\n",
      "# get the matches won/lost by each team.\n",
      "# By grouping the DF according to the winning team.\n",
      "bywinner = winTeamDF.groupby('Winner')\n",
      "numWins = bywinner.size()\n",
      "# Now we'll need the total number of matches\n",
      "# played by each team. \n",
      "teamList = bywinner.groups.keys()\n",
      "# Loop through each team and identify the number of times\n",
      "# the team appears either in the Team1 or Team2 col.\n",
      "# we'll store this data in a seperate DF\n",
      "teamMatchDF = pandas.DataFrame( columns=('team', 'matches', 'wins'),\\\n",
      "                               index=range(len(teamList)) )\n",
      "for n, t in enumerate(teamList):\n",
      "    nGames = winTeamDF[ (winTeamDF['Team1'] == t) |\\\n",
      "              (winTeamDF['Team2'] == t) ]\\\n",
      "            ['Id'].shape[0]\n",
      "    teamMatchDF.ix[n] = [ t, nGames, numWins[t] ]\n",
      "# We now have the DF with team, num of matches and wins\n",
      "# we'll now add an additional column win_percent\n",
      "teamMatchDF['win_percent'] = (teamMatchDF['wins']*100./teamMatchDF['matches'])\\\n",
      "                                .apply(lambda x: round(x, 2))\n",
      "print teamMatchDF.sort( 'win_percent', ascending=False ).reset_index(drop=True)"
     ],
     "language": "python",
     "metadata": {},
     "outputs": [
      {
       "output_type": "stream",
       "stream": "stdout",
       "text": [
        "                           team matches wins  win_percent\n",
        "0           Chennai Super Kings     114   69        60.53\n",
        "1                Mumbai Indians     110   63        57.27\n",
        "2              Rajasthan Royals     104   54        51.92\n",
        "3               Kings XI Punjab     106   55        51.89\n",
        "4         Kolkata Knight Riders     104   53        50.96\n",
        "5   Royal Challengers Bangalore     107   52        48.60\n",
        "6           Sunrisers Hyderabad      31   15        48.39\n",
        "7          Kochi Tuskers Kerala      14    6        42.86\n",
        "8              Delhi Daredevils     105   44        41.90\n",
        "9               Deccan Chargers      75   29        38.67\n",
        "10                Pune Warriors      46   12        26.09\n"
       ]
      }
     ],
     "prompt_number": 5
    },
    {
     "cell_type": "code",
     "collapsed": false,
     "input": [],
     "language": "python",
     "metadata": {},
     "outputs": [],
     "prompt_number": 3
    }
   ],
   "metadata": {}
  }
 ]
}
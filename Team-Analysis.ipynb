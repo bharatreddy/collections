{
 "metadata": {
  "name": "",
  "signature": "sha256:288e3e2e350a6421229676ada333ed608b0c56a504c0b7d47a7f16b218453458"
 },
 "nbformat": 3,
 "nbformat_minor": 0,
 "worksheets": [
  {
   "cells": [
    {
     "cell_type": "markdown",
     "metadata": {},
     "source": [
      "> Set up connections to the SQL DB through Pandas"
     ]
    },
    {
     "cell_type": "code",
     "collapsed": false,
     "input": [
      "import pandas\n",
      "import mysql.connector\n",
      "# set up connections to the DB\n",
      "conn = mysql.connector.Connect(host='localhost',user='root',\\\n",
      "                        password='',database='cricdata')"
     ],
     "language": "python",
     "metadata": {},
     "outputs": [],
     "prompt_number": 5
    },
    {
     "cell_type": "markdown",
     "metadata": {},
     "source": [
      "> Retreive necessary data from the DB"
     ]
    },
    {
     "cell_type": "code",
     "collapsed": false,
     "input": [
      "# Retreive Data teams, Outcome data from the DB\n",
      "qryTeamWin = \"\"\"\n",
      "                SELECT Game.Id, Game.MatchDate, Game.Venue, Game.Overs,\n",
      "                    Teams.Team1, Teams.Team2,\n",
      "                    Outcome.Winner, Outcome.Runs, Outcome.Wickets, Outcome.Result,\n",
      "                    Outcome.Eliminator, Outcome.Method\n",
      "                FROM Game INNER JOIN Outcome\n",
      "                    ON Game.Id = OutCome.MatchId\n",
      "                INNER JOIN Teams\n",
      "                    ON Game.Id = Teams.MatchId\n",
      "             \"\"\"\n",
      "gameDF = pandas.read_sql( qryTeamWin, conn )\n",
      "# print a sample of the data\n",
      "print gameDF.head(5)"
     ],
     "language": "python",
     "metadata": {},
     "outputs": [
      {
       "output_type": "stream",
       "stream": "stdout",
       "text": [
        "       Id           MatchDate                                       Venue  \\\n",
        "0  335982 2008-04-18 00:00:00                       M Chinnaswamy Stadium   \n",
        "1  335983 2008-04-19 00:00:00  Punjab Cricket Association Stadium, Mohali   \n",
        "2  335984 2008-04-19 00:00:00                            Feroz Shah Kotla   \n",
        "3  335985 2008-04-20 00:00:00                            Wankhede Stadium   \n",
        "4  335986 2008-04-20 00:00:00                                Eden Gardens   \n",
        "\n",
        "   Overs                        Team1                        Team2  \\\n",
        "0     20  Royal Challengers Bangalore        Kolkata Knight Riders   \n",
        "1     20              Kings XI Punjab          Chennai Super Kings   \n",
        "2     20             Delhi Daredevils             Rajasthan Royals   \n",
        "3     20               Mumbai Indians  Royal Challengers Bangalore   \n",
        "4     20        Kolkata Knight Riders              Deccan Chargers   \n",
        "\n",
        "                        Winner  Runs  Wickets Result Eliminator Method  \n",
        "0        Kolkata Knight Riders   140      NaN   None       None   None  \n",
        "1          Chennai Super Kings    33      NaN   None       None   None  \n",
        "2             Delhi Daredevils   NaN        9   None       None   None  \n",
        "3  Royal Challengers Bangalore   NaN        5   None       None   None  \n",
        "4        Kolkata Knight Riders   NaN        5   None       None   None  \n"
       ]
      }
     ],
     "prompt_number": 7
    },
    {
     "cell_type": "markdown",
     "metadata": {},
     "source": []
    }
   ],
   "metadata": {}
  }
 ]
}
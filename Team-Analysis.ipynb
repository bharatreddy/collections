{
 "metadata": {
  "name": "",
  "signature": "sha256:c0f51a4903a27683c276f8daa856631dcc158f74896a0d74a19a12f02571bf02"
 },
 "nbformat": 3,
 "nbformat_minor": 0,
 "worksheets": [
  {
   "cells": [
    {
     "cell_type": "markdown",
     "metadata": {},
     "source": [
      "Building a random forest classifier to predict outcome of IPL matches.\n",
      "======================================================================\n",
      "\n",
      "Tools used : Python (Pandas), MySQL.\n",
      "-----------------------------------\n",
      "\n",
      "Data source : http://cricsheet.org/\n"
     ]
    },
    {
     "cell_type": "markdown",
     "metadata": {},
     "source": [
      "Set up connections to the SQL DB.\n",
      "-----------------------------------"
     ]
    },
    {
     "cell_type": "code",
     "collapsed": false,
     "input": [
      "import pandas\n",
      "import mysql.connector\n",
      "# set up connections to the DB\n",
      "conn = mysql.connector.Connect(host='localhost',user='root',\\\n",
      "                        password='',database='cricdata')"
     ],
     "language": "python",
     "metadata": {},
     "outputs": [],
     "prompt_number": 40
    },
    {
     "cell_type": "markdown",
     "metadata": {},
     "source": [
      "Retreive necessary data from the DB.\n",
      "-----------------------------------"
     ]
    },
    {
     "cell_type": "code",
     "collapsed": false,
     "input": [
      "# Retreive Data teams, Outcome data from the DB\n",
      "qryTeamWin = \"\"\"\n",
      "                SELECT Game.Id, Game.MatchDate, Game.Venue, Game.Overs,\n",
      "                    Teams.Team1, Teams.Team2,\n",
      "                    Outcome.Winner, Outcome.Runs, Outcome.Wickets, Outcome.Result,\n",
      "                    Outcome.Eliminator, Outcome.Method\n",
      "                FROM Game INNER JOIN Outcome\n",
      "                    ON Game.Id = OutCome.MatchId\n",
      "                INNER JOIN Teams\n",
      "                    ON Game.Id = Teams.MatchId\n",
      "             \"\"\"\n",
      "winTeamDF = pandas.read_sql( qryTeamWin, conn )\n",
      "# print a sample of the data\n",
      "print winTeamDF.head(5)"
     ],
     "language": "python",
     "metadata": {},
     "outputs": [
      {
       "output_type": "stream",
       "stream": "stdout",
       "text": [
        "       Id           MatchDate                                       Venue  \\\n",
        "0  335982 2008-04-18 00:00:00                       M Chinnaswamy Stadium   \n",
        "1  335983 2008-04-19 00:00:00  Punjab Cricket Association Stadium, Mohali   \n",
        "2  335984 2008-04-19 00:00:00                            Feroz Shah Kotla   \n",
        "3  335985 2008-04-20 00:00:00                            Wankhede Stadium   \n",
        "4  335986 2008-04-20 00:00:00                                Eden Gardens   \n",
        "\n",
        "   Overs                        Team1                        Team2  \\\n",
        "0     20  Royal Challengers Bangalore        Kolkata Knight Riders   \n",
        "1     20              Kings XI Punjab          Chennai Super Kings   \n",
        "2     20             Delhi Daredevils             Rajasthan Royals   \n",
        "3     20               Mumbai Indians  Royal Challengers Bangalore   \n",
        "4     20        Kolkata Knight Riders              Deccan Chargers   \n",
        "\n",
        "                        Winner  Runs  Wickets Result Eliminator Method  \n",
        "0        Kolkata Knight Riders   140      NaN   None       None   None  \n",
        "1          Chennai Super Kings    33      NaN   None       None   None  \n",
        "2             Delhi Daredevils   NaN        9   None       None   None  \n",
        "3  Royal Challengers Bangalore   NaN        5   None       None   None  \n",
        "4        Kolkata Knight Riders   NaN        5   None       None   None  \n"
       ]
      }
     ],
     "prompt_number": 41
    },
    {
     "cell_type": "markdown",
     "metadata": {},
     "source": [
      "Get some basic stats - win/loss percentage by team.\n",
      "-----------------------------------"
     ]
    },
    {
     "cell_type": "code",
     "collapsed": false,
     "input": [
      "import numpy\n",
      "# We'll begin with the win/loss percent of teams.\n",
      "# get the matches won/lost by each team.\n",
      "# By grouping the DF according to the winning team.\n",
      "bywinner = winTeamDF.groupby('Winner')\n",
      "numWins = bywinner.size()\n",
      "# Now we'll need the total number of matches\n",
      "# played by each team. \n",
      "teamList = bywinner.groups.keys()\n",
      "# Loop through each team and identify the number of times\n",
      "# the team appears either in the Team1 or Team2 col.\n",
      "# we'll store this data in a seperate DF\n",
      "teamMatchDF = pandas.DataFrame( columns=('team', 'short_name','matches', 'wins'),\\\n",
      "                               index=range(len(teamList)) )\n",
      "for n, t in enumerate(teamList):\n",
      "    nGames = winTeamDF[ (winTeamDF['Team1'] == t) |\\\n",
      "              (winTeamDF['Team2'] == t) ]\\\n",
      "            ['Id'].shape[0]\n",
      "    # get the short name for plotting purposes\n",
      "    shortName = ''.join( [ x[0] for x in t.split() ] )\n",
      "    teamMatchDF.ix[n] = [ t, shortName, nGames, numWins[t] ]\n",
      "# We now have the DF with team, num of matches and wins\n",
      "# we'll now add an additional column win_percent\n",
      "teamMatchDF['win_percent'] = (teamMatchDF['wins']*100./teamMatchDF['matches'])\\\n",
      "                                .apply(lambda x: round(x, 2))\n",
      "print \"--------------- Total team wins ------------------\"\n",
      "print teamMatchDF.sort( 'win_percent', ascending=False ).reset_index(drop=True)\n",
      "print \"--------------- Total team wins ------------------\"\n",
      "# Lets get the wins of each team by year\n",
      "# we'll get the year from the MatchDate col\n",
      "winTeamDF['year'] = pandas.DatetimeIndex( winTeamDF['MatchDate'] ).year\n",
      "byYearWinner = winTeamDF.groupby( ['Winner','year'] )\n",
      "numWinsYear = byYearWinner.size()\n",
      "# we'll use a different DF to store wins by year.\n",
      "teamYearList = byYearWinner.groups.keys()\n",
      "teamWinYearDF = pandas.DataFrame( columns=('team', 'short_name', 'year', 'matches', 'wins'),\\\n",
      "                               index=range(len(teamYearList)) )\n",
      "# Loop through the data populate the DB\n",
      "for ny, ty in enumerate(teamYearList):\n",
      "    # skip some None's\n",
      "    if ty[0] is None:\n",
      "        continue\n",
      "    nGames = winTeamDF[ ( (winTeamDF['Team1'] == ty[0]) |\\\n",
      "              (winTeamDF['Team2'] == ty[0]) ) & ( winTeamDF['year'] == ty[1] )]\\\n",
      "            ['Id'].shape[0]\n",
      "    shortName = ''.join( [ x[0] for x in ty[0].split() ] )\n",
      "    teamWinYearDF.ix[ny] = [ ty[0], shortName, ty[1], nGames, numWinsYear[ty] ]\n",
      "# get the win percent\n",
      "print \n",
      "print \"--------------- Team wins by year ------------------\"\n",
      "teamWinYearDF['win_percent'] = (teamWinYearDF['wins']*100./teamWinYearDF['matches'])\\\n",
      "                                .apply(lambda x: round(x, 2))\n",
      "# Drop NaN Vals\n",
      "teamWinYearDF = teamWinYearDF[ numpy.isfinite( teamWinYearDF['win_percent'] ) ]\n",
      "print teamWinYearDF.sort( 'win_percent', ascending=False ).reset_index(drop=True).head(10)\n",
      "print \"--------------- Team wins by year ------------------\""
     ],
     "language": "python",
     "metadata": {},
     "outputs": [
      {
       "output_type": "stream",
       "stream": "stdout",
       "text": [
        "--------------- Total team wins ------------------\n",
        "                           team short_name matches wins  win_percent\n",
        "0           Chennai Super Kings        CSK     114   69        60.53\n",
        "1                Mumbai Indians         MI     110   63        57.27\n",
        "2              Rajasthan Royals         RR     104   54        51.92\n",
        "3               Kings XI Punjab        KXP     106   55        51.89\n",
        "4         Kolkata Knight Riders        KKR     104   53        50.96\n",
        "5   Royal Challengers Bangalore        RCB     107   52        48.60\n",
        "6           Sunrisers Hyderabad         SH      31   15        48.39\n",
        "7          Kochi Tuskers Kerala        KTK      14    6        42.86\n",
        "8              Delhi Daredevils         DD     105   44        41.90\n",
        "9               Deccan Chargers         DC      75   29        38.67\n",
        "10                Pune Warriors         PW      46   12        26.09\n",
        "--------------- Total team wins ------------------\n",
        "\n"
       ]
      },
      {
       "output_type": "stream",
       "stream": "stdout",
       "text": [
        "--------------- Team wins by year ------------------\n",
        "                    team short_name  year matches wins  win_percent\n",
        "0       Rajasthan Royals         RR  2008      16   13        81.25\n",
        "1        Kings XI Punjab        KXP  2014      17   12        70.59\n",
        "2  Kolkata Knight Riders        KKR  2012      17   12        70.59\n",
        "3  Kolkata Knight Riders        KKR  2014      16   11        68.75\n",
        "4    Chennai Super Kings        CSK  2011      16   11        68.75\n",
        "5         Mumbai Indians         MI  2010      16   11        68.75\n",
        "6         Mumbai Indians         MI  2013      19   13        68.42\n",
        "7        Kings XI Punjab        KXP  2008      15   10        66.67\n",
        "8    Chennai Super Kings        CSK  2013      18   12        66.67\n",
        "9       Delhi Daredevils         DD  2009      15   10        66.67\n",
        "--------------- Team wins by year ------------------\n"
       ]
      }
     ],
     "prompt_number": 42
    },
    {
     "cell_type": "markdown",
     "metadata": {},
     "source": [
      "Plot of win% of teams over all years.\n",
      "-----------------------------------"
     ]
    },
    {
     "cell_type": "code",
     "collapsed": false,
     "input": [
      "import matplotlib.pyplot as plt\n",
      "import datetime\n",
      "fig = plt.figure(figsize=(8,6))\n",
      "ax1 = fig.add_subplot(111)\n",
      "# plot total team wins\n",
      "ax1 = teamMatchDF.plot(x='short_name', y='win_percent', kind='bar',\\\n",
      "                 ylim=[0,100], fontsize = 14, color='#1E90FF' )\n",
      "ax1.set_ylabel( 'Win Percent', fontsize=16 )\n",
      "yticks = [20, 40, 60, 80, 100]\n",
      "ax1.yaxis.set_ticks(yticks)\n",
      "ax1.set_yticklabels(yticks, fontsize=14)\n",
      "ax1.set_xlabel( 'Team', fontsize=14 )\n",
      "ax1.set_title( 'Win percent by teams', fontsize=16 )\n",
      "ax1.patch.set_facecolor('gray')\n",
      "ax1.patch.set_alpha(0.75)"
     ],
     "language": "python",
     "metadata": {},
     "outputs": [
      {
       "metadata": {},
       "output_type": "display_data",
       "png": "[encoded data removed]",
       "text": [
        "<matplotlib.figure.Figure at 0x10903aad0>"
       ]
      }
     ],
     "prompt_number": 43
    },
    {
     "cell_type": "markdown",
     "metadata": {},
     "source": [
      "Win% of teams by year - consistency.\n",
      "-----------------------------------"
     ]
    },
    {
     "cell_type": "code",
     "collapsed": false,
     "input": [
      "import numpy\n",
      "fig = plt.figure(figsize=(8,6))\n",
      "ax2 = fig.add_subplot(111)\n",
      "# Set different colors\n",
      "colormap = plt.cm.jet\n",
      "plt.gca().set_color_cycle([colormap(i) for i in np.linspace(0, 0.9, len(teamList))])\n",
      "labList = []\n",
      "meanList = []\n",
      "stdList = []\n",
      "xDataList = [] # Holder for xaxis\n",
      "for n, t in enumerate(teamList):\n",
      "    currYears = list( teamWinYearDF[ teamWinYearDF['team'] == t ]['year'] )\n",
      "    shortName = list( teamWinYearDF[ teamWinYearDF['team'] == t ]['short_name'] )[0]\n",
      "    currDate = [ datetime.datetime.strptime(str(c), '%Y') for  c in currYears ]\n",
      "    # Need to sort both date and win_percent according to date\n",
      "    # We'll do it by zipping the values\n",
      "    currWinPercnt = list( teamWinYearDF[ teamWinYearDF['team'] == t ]['win_percent'] )\n",
      "    wdSort = zip( currDate, currWinPercnt )\n",
      "    wdSort.sort()\n",
      "    currDate = [y for y, x in wdSort]\n",
      "    currWinPercnt = [x for y, x in wdSort]\n",
      "    stats = numpy.array( currWinPercnt )\n",
      "    labList.append( shortName )\n",
      "    meanList.append( numpy.mean(stats) )\n",
      "    stdList.append( numpy.std(stats) )\n",
      "    xDataList.append( n )\n",
      "# Plot the means, Std.Dev\n",
      "ax2.errorbar(xDataList, meanList, yerr=stdList,\\\n",
      "             linestyle='None', marker='x', linewidth=3, \\\n",
      "             markersize=12, mew=2, color='#1E90FF')\n",
      "#     ax2.plot( currDate, currWinPercnt, linewidth=2, label=t )\n",
      "ax2.set_ylabel( 'Win Percent', fontsize=14 )\n",
      "ax2.set_xlabel( 'Team', fontsize=14 )\n",
      "ax2.set_title( 'Avg wins/year', fontsize=16 )\n",
      "ax2.set_ylim( [0,100] )\n",
      "ax2.set_xlim( [-1,11] )\n",
      "ax2.xaxis.set_ticks(arange(11))\n",
      "ax2.set_xticklabels(labList, fontsize=14)\n",
      "ax2.tick_params(axis='y', labelsize=14)\n",
      "ax2.grid()\n",
      "ax2.patch.set_facecolor('gray')\n",
      "ax2.patch.set_alpha(0.75)"
     ],
     "language": "python",
     "metadata": {},
     "outputs": [
      {
       "metadata": {},
       "output_type": "display_data",
       "png": "[encoded data removed]",
       "text": [
        "<matplotlib.figure.Figure at 0x1095e55d0>"
       ]
      }
     ],
     "prompt_number": 44
    },
    {
     "cell_type": "markdown",
     "metadata": {},
     "source": [
      "Performance by Venues - Home Advantage.\n",
      "-----------------------------------"
     ]
    },
    {
     "cell_type": "code",
     "collapsed": false,
     "input": [
      "byVenueWinner = winTeamDF.groupby( ['Winner','Venue'] )\n",
      "numWinsVenue = byVenueWinner.size()\n",
      "# we'll use a different DF to store wins by year.\n",
      "teamVenueList = byVenueWinner.groups.keys()\n",
      "teamWinVenueDF = pandas.DataFrame( columns=('team', 'short_name', 'venue', 'matches', 'wins'),\\\n",
      "                               index=range(len(teamVenueList)) )\n",
      "# we'll have a DF to just store home results (automatically identified by num matches)\n",
      "homeAdvDF = pandas.DataFrame( columns=('team', 'home_venue', 'home_matches', 'home_wins'),\\\n",
      "                               index=range(len(teamVenueList)) )\n",
      "# Loop through the data populate the DB\n",
      "for ny, ty in enumerate(teamVenueList):\n",
      "    # skip some None's\n",
      "    if ty[0] is None:\n",
      "        continue\n",
      "    nGames = winTeamDF[ ( (winTeamDF['Team1'] == ty[0]) |\\\n",
      "              (winTeamDF['Team2'] == ty[0]) ) & ( winTeamDF['Venue'] == ty[1] )]\\\n",
      "            ['Id'].shape[0]\n",
      "    shortName = ''.join( [ x[0] for x in ty[0].split() ] )\n",
      "    teamWinVenueDF.ix[ny] = [ ty[0], shortName, ty[1], nGames, numWinsVenue[ty] ]\n",
      "    # Get the home adv factor\n",
      "    if nGames > 10:\n",
      "        homeAdvDF.ix[ny] = [ ty[0], ty[1], nGames, numWinsVenue[ty] ]\n",
      "# get the win percent\n",
      "teamWinVenueDF['win_percent'] = (teamWinVenueDF['wins']*100./teamWinVenueDF['matches'])\\\n",
      "                                .apply(lambda x: round(x, 2))\n",
      "homeAdvDF['home_win_percent'] = (homeAdvDF['home_wins']*100./homeAdvDF['home_matches'])\\\n",
      "                                .apply(lambda x: round(x, 2))\n",
      "# Drop NaN Vals\n",
      "teamWinVenueDF = teamWinVenueDF[ numpy.isfinite( teamWinVenueDF['win_percent'] ) ]\n",
      "homeAdvDF = homeAdvDF[ numpy.isfinite( homeAdvDF['home_win_percent'] ) ]\n",
      "# Now let's get the away wins as well by merging this DF\n",
      "# with the DF containing all wins (teamMatchDF)\n",
      "homeAwayDF = pandas.DataFrame( pandas.merge(teamMatchDF, homeAdvDF, on='team', how='inner') )\n",
      "# Get Away matches and wins and %wins\n",
      "homeAwayDF['away_matches'] = homeAwayDF['matches'] - homeAwayDF['home_matches']\n",
      "homeAwayDF['away_wins'] = homeAwayDF['wins'] - homeAwayDF['home_wins']\n",
      "homeAwayDF['away_win_percent'] = (homeAwayDF['away_wins']*100./homeAwayDF['away_matches'])\\\n",
      "                                .apply(lambda x: round(x, 2))\n",
      "print \"--------------- Home/Away team wins ------------------\"\n",
      "print homeAwayDF.sort( 'win_percent', ascending=False ).reset_index(drop=True).head(10)\n",
      "print \"--------------- Home/Away team wins ------------------\""
     ],
     "language": "python",
     "metadata": {},
     "outputs": [
      {
       "output_type": "stream",
       "stream": "stdout",
       "text": [
        "--------------- Home/Away team wins ------------------\n",
        "                          team short_name matches wins  win_percent  \\\n",
        "0          Chennai Super Kings        CSK     114   69        60.53   \n",
        "1               Mumbai Indians         MI     110   63        57.27   \n",
        "2             Rajasthan Royals         RR     104   54        51.92   \n",
        "3              Kings XI Punjab        KXP     106   55        51.89   \n",
        "4        Kolkata Knight Riders        KKR     104   53        50.96   \n",
        "5  Royal Challengers Bangalore        RCB     107   52        48.60   \n",
        "6          Sunrisers Hyderabad         SH      31   15        48.39   \n",
        "7             Delhi Daredevils         DD     105   44        41.90   \n",
        "8              Deccan Chargers         DC      75   29        38.67   \n",
        "9                Pune Warriors         PW      46   12        26.09   \n",
        "\n",
        "                                   home_venue home_matches home_wins  \\\n",
        "0             MA Chidambaram Stadium, Chepauk           40        27   \n",
        "1                            Wankhede Stadium           33        22   \n",
        "2                      Sawai Mansingh Stadium           33        24   \n",
        "3  Punjab Cricket Association Stadium, Mohali           31        17   \n",
        "4                                Eden Gardens           38        24   \n",
        "5                       M Chinnaswamy Stadium           40        21   \n",
        "6   Rajiv Gandhi International Stadium, Uppal           12         7   \n",
        "7                            Feroz Shah Kotla           39        14   \n",
        "8   Rajiv Gandhi International Stadium, Uppal           18         3   \n",
        "9                  Subrata Roy Sahara Stadium           16         4   \n",
        "\n",
        "   home_win_percent away_matches away_wins  away_win_percent  \n",
        "0             67.50           74        42             56.76  \n",
        "1             66.67           77        41             53.25  \n",
        "2             72.73           71        30             42.25  \n",
        "3             54.84           75        38             50.67  \n",
        "4             63.16           66        29             43.94  \n",
        "5             52.50           67        31             46.27  \n",
        "6             58.33           19         8             42.11  \n",
        "7             35.90           66        30             45.45  \n",
        "8             16.67           57        26             45.61  \n",
        "9             25.00           30         8             26.67  \n",
        "--------------- Home/Away team wins ------------------\n"
       ]
      }
     ],
     "prompt_number": 45
    },
    {
     "cell_type": "markdown",
     "metadata": {},
     "source": [
      "Home/Away win% plots.\n",
      "-----------------------------------"
     ]
    },
    {
     "cell_type": "code",
     "collapsed": false,
     "input": [
      "plotDF2 = homeAwayDF[ ['short_name', 'win_percent','home_win_percent', 'away_win_percent' ] ]\n",
      "fig = plt.figure(figsize=(8,6))\n",
      "ax = fig.add_subplot(111)\n",
      "# plot total team wins\n",
      "plotDF2[['win_percent','home_win_percent', 'away_win_percent']].\\\n",
      "                                                    plot( kind='bar', use_index=True,\\\n",
      "                                                       ax=ax, alpha=0.75,\\\n",
      "                                                       grid=True, color=['#1E90FF','#DC143C','green'])\n",
      "ax.set_xlabel( 'Team', fontsize=14 )\n",
      "ax.set_ylabel( 'Win Percent', fontsize=14 )\n",
      "ax.set_title( 'Home/Away Win percent by teams', fontsize=16 )\n",
      "ax.set_ylim( [0,100] )\n",
      "ax.set_xticklabels(homeAwayDF['short_name'].values, fontsize=14)\n",
      "ax.tick_params(axis='y', labelsize=14)\n",
      "ax.grid()\n",
      "ax.patch.set_facecolor('gray')\n",
      "ax.patch.set_alpha(0.75)\n",
      "ax.yaxis.grid() #vertical lines\n",
      "ax.xaxis.grid() #horizontal lines"
     ],
     "language": "python",
     "metadata": {},
     "outputs": [
      {
       "metadata": {},
       "output_type": "display_data",
       "png": "[encoded data removed]",
       "text": [
        "<matplotlib.figure.Figure at 0x10964ab10>"
       ]
      }
     ],
     "prompt_number": 46
    },
    {
     "cell_type": "markdown",
     "metadata": {},
     "source": [
      "Influence of toss.\n",
      "-----------------------------------"
     ]
    },
    {
     "cell_type": "code",
     "collapsed": false,
     "input": [
      "# Need a new query, retreive the toss data as well.\n",
      "qryTeamToss = \"\"\"\n",
      "                SELECT Game.Id, Game.MatchDate, Game.Venue, Game.Overs,\n",
      "                    Teams.Team1, Teams.Team2,\n",
      "                    Outcome.Winner, Outcome.Runs, Outcome.Wickets, Outcome.Result,\n",
      "                    Toss.Decision as tossDec, Toss.Winner as tossWin\n",
      "                FROM Game INNER JOIN Outcome\n",
      "                    ON Game.Id = OutCome.MatchId\n",
      "                INNER JOIN Teams\n",
      "                    ON Game.Id = Teams.MatchId\n",
      "                INNER JOIN Toss\n",
      "                    ON Game.Id = Toss.MatchId\n",
      "             \"\"\"\n",
      "tossTeamDF = pandas.read_sql( qryTeamToss, conn )\n",
      "# print a sample of the data\n",
      "print tossTeamDF.head(5)"
     ],
     "language": "python",
     "metadata": {},
     "outputs": [
      {
       "output_type": "stream",
       "stream": "stdout",
       "text": [
        "       Id           MatchDate                                       Venue  \\\n",
        "0  335982 2008-04-18 00:00:00                       M Chinnaswamy Stadium   \n",
        "1  335983 2008-04-19 00:00:00  Punjab Cricket Association Stadium, Mohali   \n",
        "2  335984 2008-04-19 00:00:00                            Feroz Shah Kotla   \n",
        "3  335985 2008-04-20 00:00:00                            Wankhede Stadium   \n",
        "4  335986 2008-04-20 00:00:00                                Eden Gardens   \n",
        "\n",
        "   Overs                        Team1                        Team2  \\\n",
        "0     20  Royal Challengers Bangalore        Kolkata Knight Riders   \n",
        "1     20              Kings XI Punjab          Chennai Super Kings   \n",
        "2     20             Delhi Daredevils             Rajasthan Royals   \n",
        "3     20               Mumbai Indians  Royal Challengers Bangalore   \n",
        "4     20        Kolkata Knight Riders              Deccan Chargers   \n",
        "\n",
        "                        Winner  Runs  Wickets Result tossDec  \\\n",
        "0        Kolkata Knight Riders   140      NaN   None   field   \n",
        "1          Chennai Super Kings    33      NaN   None     bat   \n",
        "2             Delhi Daredevils   NaN        9   None     bat   \n",
        "3  Royal Challengers Bangalore   NaN        5   None     bat   \n",
        "4        Kolkata Knight Riders   NaN        5   None     bat   \n",
        "\n",
        "                       tossWin  \n",
        "0  Royal Challengers Bangalore  \n",
        "1          Chennai Super Kings  \n",
        "2             Rajasthan Royals  \n",
        "3               Mumbai Indians  \n",
        "4              Deccan Chargers  \n"
       ]
      }
     ],
     "prompt_number": 47
    },
    {
     "cell_type": "code",
     "collapsed": false,
     "input": [
      "import numpy\n",
      "# We'll look at win/loss percent of teams as a function of toss.\n",
      "# get the matches won/lost by each team.\n",
      "# By grouping the DF according to the winning team.\n",
      "bywin = tossTeamDF.groupby('Winner')\n",
      "numWins = bywin.size()\n",
      "# Now we'll need the total number of matches\n",
      "# played by each team. \n",
      "teamList = bywin.groups.keys()\n",
      "# Loop through each team and identify the number of times\n",
      "# the team appears either in the Team1 or Team2 col.\n",
      "# we'll store this data in a seperate DF\n",
      "teamTossWinDF = pandas.DataFrame( columns=('team', 'short_name','matches', 'wins', 'toss', 'toss_wins'),\\\n",
      "                               index=range(len(teamList)) )\n",
      "for n, t in enumerate(teamList):\n",
      "    nGames = tossTeamDF[ (tossTeamDF['Team1'] == t) |\\\n",
      "              (tossTeamDF['Team2'] == t) ]\\\n",
      "            ['Id'].shape[0]\n",
      "    # num of times the team won toss\n",
      "    nToss = tossTeamDF[ ( (tossTeamDF['Team1'] == t) |\\\n",
      "              (tossTeamDF['Team2'] == t) ) & ( tossTeamDF['tossWin'] == t ) ]\\\n",
      "            ['Id'].shape[0]\n",
      "    # num of times the team won the match after winning toss\n",
      "    nTossWins = tossTeamDF[ ( (tossTeamDF['Team1'] == t) |\\\n",
      "              (tossTeamDF['Team2'] == t) ) & ( tossTeamDF['tossWin'] == t ) \\\n",
      "                       & ( tossTeamDF['Winner'] == t ) ]\\\n",
      "            ['Id'].shape[0]\n",
      "    shortName = ''.join( [ x[0] for x in t.split() ] )\n",
      "    teamTossWinDF.ix[n] = [ t, shortName, nGames, numWins[t], nToss, nTossWins ]\n",
      "# Calculate the general win %\n",
      "teamTossWinDF['win_percent'] = (teamTossWinDF['wins']*100./teamTossWinDF['matches'])\\\n",
      "                                .apply(lambda x: round(x, 2))\n",
      "# Calculate the win % after winning/loosing toss\n",
      "teamTossWinDF['win_percent/win_toss'] = (teamTossWinDF['toss_wins']*100./teamTossWinDF['toss'])\\\n",
      "                                .apply(lambda x: round(x, 2))\n",
      "teamTossWinDF['win_percent/loose_toss'] = ( ( teamTossWinDF['wins']-teamTossWinDF['toss_wins'] )\\\n",
      "                                         *100./(teamTossWinDF['matches']-teamTossWinDF['toss']) )\\\n",
      "                                .apply(lambda x: round(x, 2))\n",
      "print teamTossWinDF"
     ],
     "language": "python",
     "metadata": {},
     "outputs": [
      {
       "output_type": "stream",
       "stream": "stdout",
       "text": [
        "                           team short_name matches wins toss toss_wins  \\\n",
        "0   Royal Challengers Bangalore        RCB     107   52   45        22   \n",
        "1         Kolkata Knight Riders        KKR     104   53   55        29   \n",
        "2           Chennai Super Kings        CSK     114   69   56        37   \n",
        "3          Kochi Tuskers Kerala        KTK      14    6    8         4   \n",
        "4               Kings XI Punjab        KXP     106   55   51        25   \n",
        "5              Delhi Daredevils         DD     105   44   51        21   \n",
        "6               Deccan Chargers         DC      75   29   43        19   \n",
        "7           Sunrisers Hyderabad         SH      31   15   14         4   \n",
        "8              Rajasthan Royals         RR     104   54   57        30   \n",
        "9                 Pune Warriors         PW      46   12   20         3   \n",
        "10               Mumbai Indians         MI     110   63   58        33   \n",
        "\n",
        "    win_percent  win_percent/win_toss  win_percent/loose_toss  \n",
        "0         48.60                 48.89                   48.39  \n",
        "1         50.96                 52.73                   48.98  \n",
        "2         60.53                 66.07                   55.17  \n",
        "3         42.86                 50.00                   33.33  \n",
        "4         51.89                 49.02                   54.55  \n",
        "5         41.90                 41.18                   42.59  \n",
        "6         38.67                 44.19                   31.25  \n",
        "7         48.39                 28.57                   64.71  \n",
        "8         51.92                 52.63                   51.06  \n",
        "9         26.09                 15.00                   34.62  \n",
        "10        57.27                 56.90                   57.69  \n"
       ]
      }
     ],
     "prompt_number": 48
    },
    {
     "cell_type": "code",
     "collapsed": false,
     "input": [
      "plotDF3 = teamTossWinDF[ ['short_name', 'win_percent/win_toss','win_percent/loose_toss' ] ]\n",
      "fig = plt.figure(figsize=(8,6))\n",
      "ax = fig.add_subplot(111)\n",
      "# plot total team wins\n",
      "plotDF3[['win_percent/win_toss','win_percent/loose_toss']].\\\n",
      "                                                    plot( kind='bar', use_index=True,\\\n",
      "                                                       ax=ax, alpha=0.75,\\\n",
      "                                                       grid=True, color=['#1E90FF','#DC143C'])\n",
      "ax.set_xlabel( 'Team', fontsize=14 )\n",
      "ax.set_ylabel( 'Win Percent', fontsize=14 )\n",
      "ax.set_title( 'Win percent with toss', fontsize=16 )\n",
      "ax.set_ylim( [0,100] )\n",
      "ax.set_xticklabels(teamTossWinDF['short_name'].values, fontsize=14)\n",
      "ax.tick_params(axis='y', labelsize=14)\n",
      "ax.grid()\n",
      "ax.patch.set_facecolor('gray')\n",
      "ax.patch.set_alpha(0.75)\n",
      "ax.yaxis.grid() #vertical lines\n",
      "ax.xaxis.grid() #horizontal lines"
     ],
     "language": "python",
     "metadata": {},
     "outputs": [
      {
       "metadata": {},
       "output_type": "display_data",
       "png": "[encoded data removed]",
       "text": [
        "<matplotlib.figure.Figure at 0x1071bd550>"
       ]
      }
     ],
     "prompt_number": 49
    },
    {
     "cell_type": "markdown",
     "metadata": {},
     "source": [
      "Influence of batting/fielding first.\n",
      "-----------------------------------"
     ]
    },
    {
     "cell_type": "code",
     "collapsed": false,
     "input": [
      "import numpy\n",
      "# We'll look at win/loss percent of teams as a function of toss.\n",
      "# get the matches won/lost by each team.\n",
      "# By grouping the DF according to the winning team.\n",
      "bywin = tossTeamDF.groupby('Winner')\n",
      "numWins = bywin.size()\n",
      "# Now we'll need the total number of matches\n",
      "# played by each team. \n",
      "teamList = bywin.groups.keys()\n",
      "# Loop through each team and identify the number of times\n",
      "# the team appears either in the Team1 or Team2 col.\n",
      "# we'll store this data in a seperate DF\n",
      "teamBatWinDF = pandas.DataFrame( columns=('team', 'short_name','matches',\\\n",
      "                                          'wins', 'bat_first', 'wins/bat_first',\\\n",
      "                                          'field_first', 'wins/field_first'),\\\n",
      "                               index=range(len(teamList)) )\n",
      "for n, t in enumerate(teamList):\n",
      "    nGames = tossTeamDF[ (tossTeamDF['Team1'] == t) |\\\n",
      "              (tossTeamDF['Team2'] == t) ]\\\n",
      "            ['Id'].shape[0]\n",
      "    # num of times the team batted first and won, this has two parts,\n",
      "    # 1) win toss - bat, 2) loose toss - field\n",
      "    nBatFirstWin1 = tossTeamDF[ ( (tossTeamDF['Team1'] == t) |\\\n",
      "              (tossTeamDF['Team2'] == t) ) & ( tossTeamDF['tossWin'] == t ) \\\n",
      "                       & ( tossTeamDF['tossDec'] == 'bat' ) & ( tossTeamDF['Winner'] == t ) ]\\\n",
      "            ['Id'].shape[0]\n",
      "    nBatFirstWin2 = tossTeamDF[ ( (tossTeamDF['Team1'] == t) |\\\n",
      "              (tossTeamDF['Team2'] == t) ) & ( tossTeamDF['tossWin'] != t ) \\\n",
      "                       & ( tossTeamDF['tossDec'] == 'field' ) & ( tossTeamDF['Winner'] == t ) ]\\\n",
      "            ['Id'].shape[0]\n",
      "    nBatFirstWin = nBatFirstWin1 + nBatFirstWin2\n",
      "    # For % need the number of times the team batted first (irrespective of wins)\n",
      "    nBatFirst1 = tossTeamDF[ ( (tossTeamDF['Team1'] == t) |\\\n",
      "              (tossTeamDF['Team2'] == t) ) & ( tossTeamDF['tossWin'] == t ) \\\n",
      "                       & ( tossTeamDF['tossDec'] == 'bat' ) ]\\\n",
      "            ['Id'].shape[0]\n",
      "    nBatFirst2 = tossTeamDF[ ( (tossTeamDF['Team1'] == t) |\\\n",
      "              (tossTeamDF['Team2'] == t) ) & ( tossTeamDF['tossWin'] != t ) \\\n",
      "                       & ( tossTeamDF['tossDec'] == 'field' ) ]\\\n",
      "            ['Id'].shape[0]\n",
      "    nBatFirst = nBatFirst1 + nBatFirst2\n",
      "    # Same calculations for field first\n",
      "    nFieldFirstWin1 = tossTeamDF[ ( (tossTeamDF['Team1'] == t) |\\\n",
      "              (tossTeamDF['Team2'] == t) ) & ( tossTeamDF['tossWin'] == t ) \\\n",
      "                       & ( tossTeamDF['tossDec'] == 'field' ) & ( tossTeamDF['Winner'] == t ) ]\\\n",
      "            ['Id'].shape[0]\n",
      "    nFieldFirstWin2 = tossTeamDF[ ( (tossTeamDF['Team1'] == t) |\\\n",
      "              (tossTeamDF['Team2'] == t) ) & ( tossTeamDF['tossWin'] != t ) \\\n",
      "                       & ( tossTeamDF['tossDec'] == 'bat' ) & ( tossTeamDF['Winner'] == t ) ]\\\n",
      "            ['Id'].shape[0]\n",
      "    nFieldFirstWin = nFieldFirstWin1 + nFieldFirstWin2\n",
      "    # For % need the number of times the team batted first (irrespective of wins)\n",
      "    nFieldFirst1 = tossTeamDF[ ( (tossTeamDF['Team1'] == t) |\\\n",
      "              (tossTeamDF['Team2'] == t) ) & ( tossTeamDF['tossWin'] == t ) \\\n",
      "                       & ( tossTeamDF['tossDec'] == 'field' ) ]\\\n",
      "            ['Id'].shape[0]\n",
      "    nFieldFirst2 = tossTeamDF[ ( (tossTeamDF['Team1'] == t) |\\\n",
      "              (tossTeamDF['Team2'] == t) ) & ( tossTeamDF['tossWin'] != t ) \\\n",
      "                       & ( tossTeamDF['tossDec'] == 'bat' ) ]\\\n",
      "            ['Id'].shape[0]\n",
      "    nFieldFirst = nFieldFirst1 + nFieldFirst2\n",
      "    shortName = ''.join( [ x[0] for x in t.split() ] )\n",
      "    teamBatWinDF.ix[n] = [ t, shortName, nGames, numWins[t]\\\n",
      "                          , nBatFirst, nBatFirstWin, \\\n",
      "                          nFieldFirst, nFieldFirstWin ]\n",
      "# Calculate the win %\n",
      "teamBatWinDF['win_percent/bat_first'] = (teamBatWinDF['wins/bat_first']*100./teamBatWinDF['bat_first'])\\\n",
      "                                .apply(lambda x: round(x, 2))\n",
      "teamBatWinDF['win_percent/field_first'] = (teamBatWinDF['wins/field_first']*100./teamBatWinDF['field_first'])\\\n",
      "                                .apply(lambda x: round(x, 2))\n",
      "print teamBatWinDF"
     ],
     "language": "python",
     "metadata": {},
     "outputs": [
      {
       "output_type": "stream",
       "stream": "stdout",
       "text": [
        "                           team short_name matches wins bat_first  \\\n",
        "0   Royal Challengers Bangalore        RCB     107   52        46   \n",
        "1         Kolkata Knight Riders        KKR     104   53        51   \n",
        "2           Chennai Super Kings        CSK     114   69        66   \n",
        "3          Kochi Tuskers Kerala        KTK      14    6         7   \n",
        "4               Kings XI Punjab        KXP     106   55        54   \n",
        "5              Delhi Daredevils         DD     105   44        44   \n",
        "6               Deccan Chargers         DC      75   29        43   \n",
        "7           Sunrisers Hyderabad         SH      31   15        19   \n",
        "8              Rajasthan Royals         RR     104   54        49   \n",
        "9                 Pune Warriors         PW      46   12        20   \n",
        "10               Mumbai Indians         MI     110   63        59   \n",
        "\n",
        "   wins/bat_first field_first wins/field_first  win_percent/bat_first  \\\n",
        "0              19          61               33                  41.30   \n",
        "1              23          53               30                  45.10   \n",
        "2              38          48               31                  57.58   \n",
        "3               2           7                4                  28.57   \n",
        "4              23          52               32                  42.59   \n",
        "5              14          61               30                  31.82   \n",
        "6              18          32               11                  41.86   \n",
        "7               7          12                8                  36.84   \n",
        "8              20          55               34                  40.82   \n",
        "9               6          26                6                  30.00   \n",
        "10             34          51               29                  57.63   \n",
        "\n",
        "    win_percent/field_first  \n",
        "0                     54.10  \n",
        "1                     56.60  \n",
        "2                     64.58  \n",
        "3                     57.14  \n",
        "4                     61.54  \n",
        "5                     49.18  \n",
        "6                     34.38  \n",
        "7                     66.67  \n",
        "8                     61.82  \n",
        "9                     23.08  \n",
        "10                    56.86  \n"
       ]
      }
     ],
     "prompt_number": 50
    },
    {
     "cell_type": "code",
     "collapsed": false,
     "input": [
      "plotDF4 = teamBatWinDF[ ['short_name', 'win_percent/bat_first','win_percent/field_first' ] ]\n",
      "fig = plt.figure(figsize=(8,6))\n",
      "ax = fig.add_subplot(111)\n",
      "# plot total team wins\n",
      "plotDF4[['win_percent/bat_first','win_percent/field_first']].\\\n",
      "                                                    plot( kind='bar', use_index=True,\\\n",
      "                                                       ax=ax, alpha=0.75,\\\n",
      "                                                       grid=True, color=['#1E90FF','#DC143C'])\n",
      "ax.set_xlabel( 'Team', fontsize=14 )\n",
      "ax.set_ylabel( 'Win Percent', fontsize=14 )\n",
      "ax.set_title( 'Win percent with toss', fontsize=16 )\n",
      "ax.set_ylim( [0,100] )\n",
      "ax.set_xticklabels(teamBatWinDF['short_name'].values, fontsize=14)\n",
      "ax.tick_params(axis='y', labelsize=14)\n",
      "ax.grid()\n",
      "ax.patch.set_facecolor('gray')\n",
      "ax.patch.set_alpha(0.75)\n",
      "ax.yaxis.grid() #vertical lines\n",
      "ax.xaxis.grid() #horizontal lines"
     ],
     "language": "python",
     "metadata": {},
     "outputs": [
      {
       "metadata": {},
       "output_type": "display_data",
       "png": "[encoded data removed]",
       "text": [
        "<matplotlib.figure.Figure at 0x1071ea150>"
       ]
      }
     ],
     "prompt_number": 51
    },
    {
     "cell_type": "markdown",
     "metadata": {},
     "source": [
      "Build model(s) to predict outcomes.\n",
      "-----------------------------------"
     ]
    },
    {
     "cell_type": "code",
     "collapsed": false,
     "input": [
      "qryMatData = \"\"\"\n",
      "SELECT Game.Id, Game.MatchDate, Game.Venue, Game.Overs,\n",
      "Teams.Team1, Teams.Team2,\n",
      "Outcome.Winner, Outcome.Runs, Outcome.Wickets, Outcome.Result,\n",
      "Toss.Decision as tossDec, Toss.Winner as tossWin\n",
      "FROM Game INNER JOIN Outcome\n",
      "ON Game.Id = OutCome.MatchId\n",
      "INNER JOIN Teams\n",
      "ON Game.Id = Teams.MatchId\n",
      "INNER JOIN Toss\n",
      "ON Game.Id = Toss.MatchId\n",
      "\"\"\"\n",
      "matchDataDF = pandas.read_sql( qryMatData, conn )\n",
      "print matchDataDF.head(2)"
     ],
     "language": "python",
     "metadata": {},
     "outputs": [
      {
       "output_type": "stream",
       "stream": "stdout",
       "text": [
        "       Id           MatchDate                                       Venue  \\\n",
        "0  335982 2008-04-18 00:00:00                       M Chinnaswamy Stadium   \n",
        "1  335983 2008-04-19 00:00:00  Punjab Cricket Association Stadium, Mohali   \n",
        "\n",
        "   Overs                        Team1                  Team2  \\\n",
        "0     20  Royal Challengers Bangalore  Kolkata Knight Riders   \n",
        "1     20              Kings XI Punjab    Chennai Super Kings   \n",
        "\n",
        "                  Winner  Runs  Wickets Result tossDec  \\\n",
        "0  Kolkata Knight Riders   140      NaN   None   field   \n",
        "1    Chennai Super Kings    33      NaN   None     bat   \n",
        "\n",
        "                       tossWin  \n",
        "0  Royal Challengers Bangalore  \n",
        "1          Chennai Super Kings  \n"
       ]
      }
     ],
     "prompt_number": 52
    },
    {
     "cell_type": "markdown",
     "metadata": {},
     "source": [
      "Clean the data -> convert strings (teams, venues) to numbers.\n",
      "-----------------------------------"
     ]
    },
    {
     "cell_type": "code",
     "collapsed": false,
     "input": [
      "def get_bat_first(inputDF):\n",
      "    \"\"\"\n",
      "    Function to get whose batting first\n",
      "    \"\"\"\n",
      "    if inputDF['tossDec'] == 0:\n",
      "        if inputDF['Winner_Id'] == inputDF['Team1_Id']:\n",
      "            return inputDF['Team1_Id']\n",
      "        else:\n",
      "            return inputDF['Team2_Id']\n",
      "    else:\n",
      "        if inputDF['Winner_Id'] == inputDF['Team1_Id']:\n",
      "            return inputDF['Team2_Id']\n",
      "        else:\n",
      "            return inputDF['Team1_Id']\n",
      "\n",
      "matchDataDF = pandas.read_sql( qryMatData, conn )\n",
      "# The sklearn classifier doesn't deal well with strings\n",
      "# so convert the strings to nums, basically we'll\n",
      "# assign an id to the teams and venues and toss Decision\n",
      "# Change toss dec\n",
      "matchDataDF[\"tossDec\"] = matchDataDF[\"tossDec\"].\\\n",
      "apply(lambda tossDec: 0 if tossDec == \"bat\" else 1)\n",
      "# Now we'll use the awesome functions of Pandas to deal with\n",
      "# the teams and venues data. BTW there is a data type called\n",
      "# categorical in Pandas. Look into it.\n",
      "# Need to inner join both team1 and team2 data to make sure\n",
      "# we dont miss any teams\n",
      "allTeams = pandas.Series( \\\n",
      "                         pandas.concat( \\\n",
      "                        [ matchDataDF['Team1'], matchDataDF['Team2'] ] )\\\n",
      "                         .unique() )\n",
      "# use the categorical functions of pandas to convert our\n",
      "# string type teams into numeric values\n",
      "venueIdx = pandas.Index( matchDataDF['Venue'].unique() )\n",
      "cVenue = pandas.Categorical( \\\n",
      "                venueIdx.get_indexer(matchDataDF['Venue']), venueIdx )\n",
      "matchDataDF['Venue_Id'] = cVenue.labels\n",
      "# Teams is a bit complicated as we need the same\n",
      "# team id for 4 different columns\n",
      "teamIdx = pandas.Index( allTeams )\n",
      "cTeam1 = pandas.Categorical( \\\n",
      "                teamIdx.get_indexer(matchDataDF['Team1']), teamIdx )\n",
      "cTeam2 = pandas.Categorical( \\\n",
      "                teamIdx.get_indexer(matchDataDF['Team2']), teamIdx )\n",
      "cWinner = pandas.Categorical( \\\n",
      "                teamIdx.get_indexer(matchDataDF['Winner']), teamIdx )\n",
      "cTossWin = pandas.Categorical( \\\n",
      "                teamIdx.get_indexer(matchDataDF['tossWin']), teamIdx )\n",
      "matchDataDF['Team1_Id'] = cTeam1.labels\n",
      "matchDataDF['Team2_Id'] = cTeam2.labels\n",
      "matchDataDF['Winner_Id'] = cWinner.labels\n",
      "matchDataDF['tossWin_Id'] = cTossWin.labels\n",
      "# We'll add a bat_first column to see if it improves predictions\n",
      "matchDataDF['bat_first'] = matchDataDF.apply( get_bat_first, axis=1 )\n",
      "# drop the columns we dont need\n",
      "matchDataDF = matchDataDF.drop(\\\n",
      "                    ['Winner', 'Team1', 'Team2', 'Venue', 'tossWin'], axis=1 )\n",
      "print matchDataDF.head(5)"
     ],
     "language": "python",
     "metadata": {},
     "outputs": [
      {
       "output_type": "stream",
       "stream": "stdout",
       "text": [
        "       Id           MatchDate  Overs  Runs  Wickets Result  tossDec  Venue_Id  \\\n",
        "0  335982 2008-04-18 00:00:00     20   140      NaN   None        1         0   \n",
        "1  335983 2008-04-19 00:00:00     20    33      NaN   None        0         1   \n",
        "2  335984 2008-04-19 00:00:00     20   NaN        9   None        0         2   \n",
        "3  335985 2008-04-20 00:00:00     20   NaN        5   None        0         3   \n",
        "4  335986 2008-04-20 00:00:00     20   NaN        5   None        0         4   \n",
        "\n",
        "   Team1_Id  Team2_Id  Winner_Id  tossWin_Id  bat_first  \n",
        "0         0         4          4           0          0  \n",
        "1         1         7          7           7          7  \n",
        "2         2         5          2           5          2  \n",
        "3         3         0          0           3          0  \n",
        "4         4         6          4           6          4  \n"
       ]
      }
     ],
     "prompt_number": 53
    },
    {
     "cell_type": "markdown",
     "metadata": {},
     "source": [
      "Random forest classifier.\n",
      "-----------------------------------"
     ]
    },
    {
     "cell_type": "code",
     "collapsed": false,
     "input": [
      "# Import the random forest package\n",
      "import numpy\n",
      "from sklearn.ensemble import RandomForestClassifier \n",
      "# Create the random forest object which will include all the parameters\n",
      "# for the fit\n",
      "forest = RandomForestClassifier(n_estimators = 1000)\n",
      "# Now we need to remove the matches for which there were no winners\n",
      "matchDataDF = matchDataDF[matchDataDF['Winner_Id'] != -1]\n",
      "# Divide into test and training sets\n",
      "matchDataDF['is_train'] = numpy.random.uniform( 0, 1, len(matchDataDF) ) <= .8\n",
      "# Divide the data into training and test sets\n",
      "train, test = matchDataDF[matchDataDF['is_train']==True],\\\n",
      "matchDataDF[matchDataDF['is_train']==False]\n",
      "# The features which we'll take in as inputs\n",
      "features = matchDataDF.columns[ [ 6, 7, 8, 9, 11, 12 ] ]\n",
      "# Fit the data using random forests\n",
      "rfFit = forest.fit( train[features], train['Winner_Id'] )"
     ],
     "language": "python",
     "metadata": {},
     "outputs": [],
     "prompt_number": 54
    },
    {
     "cell_type": "markdown",
     "metadata": {},
     "source": [
      "Test the classifier.\n",
      "-----------------------------------"
     ]
    },
    {
     "cell_type": "code",
     "collapsed": false,
     "input": [
      "# Test the classifier\n",
      "from sklearn.cross_validation import cross_val_score\n",
      "rfTestOut = rfFit.predict(test[features])\n",
      "test['Winner_Id_pred_RF'] = rfTestOut\n",
      "crctPred = test[ test['Winner_Id'] == test['Winner_Id_pred_RF'] ].shape[0]\n",
      "wrngPred = test[ test['Winner_Id'] != test['Winner_Id_pred_RF'] ].shape[0]\n",
      "# Accurate pred. percent\n",
      "percAccrcy = round( crctPred*100./(crctPred+wrngPred), 2 )\n",
      "print \"##### TESTING RANDOM FOREST CLASSIFIER ####\"\n",
      "print \"Accuracy over all test set-->\", percAccrcy, '%'\n",
      "valdtDF = pandas.crosstab(test['Winner_Id'], rfTestOut, \\\n",
      "                      rownames=['actual'], colnames=['preds'])\n",
      "# Now loop through and find accuracy over each team\n",
      "print \"------individual team predictions-------\"\n",
      "for cc in valdtDF.columns:\n",
      "    currDet = valdtDF[cc]\n",
      "    # Correct pred\n",
      "    if cc in currDet:\n",
      "        currPercCrct = \\\n",
      "        round( currDet[cc]*100./currDet.sum(), 2 )\n",
      "    else:\n",
      "        currPercCrct = 0\n",
      "    print teamIdx[cc], '---->', currPercCrct, '%'\n",
      "print \"##### TESTING RANDOM FOREST CLASSIFIER ####\""
     ],
     "language": "python",
     "metadata": {},
     "outputs": [
      {
       "output_type": "stream",
       "stream": "stdout",
       "text": [
        "##### TESTING RANDOM FOREST CLASSIFIER ####\n",
        "Accuracy over all test set--> 69.23 %\n",
        "------individual team predictions-------\n",
        "Royal Challengers Bangalore ----> 66.67 %\n",
        "Kings XI Punjab ----> 75.0 %\n",
        "Delhi Daredevils ----> 46.15 %\n",
        "Mumbai Indians ----> 88.89 %\n",
        "Kolkata Knight Riders ----> 72.73 %\n",
        "Rajasthan Royals ----> 58.33 %\n",
        "Deccan Chargers ----> 66.67 %\n",
        "Chennai Super Kings ----> 80.0 %\n",
        "Sunrisers Hyderabad ----> 0.0 %\n",
        "##### TESTING RANDOM FOREST CLASSIFIER ####\n"
       ]
      }
     ],
     "prompt_number": 55
    },
    {
     "cell_type": "markdown",
     "metadata": {},
     "source": [
      "The most important features.\n",
      "-----------------------------------"
     ]
    },
    {
     "cell_type": "code",
     "collapsed": false,
     "input": [
      "print \" Random Forest Feature Importances \"\n",
      "for nfea, fea in enumerate(features):\n",
      "    print fea, '--->', rfFit.feature_importances_[nfea]\n",
      "print \" Random Forest Feature Importances \""
     ],
     "language": "python",
     "metadata": {},
     "outputs": [
      {
       "output_type": "stream",
       "stream": "stdout",
       "text": [
        " Random Forest Feature Importances \n",
        "tossDec ---> 0.128036711172\n",
        "Venue_Id ---> "
       ]
      },
      {
       "output_type": "stream",
       "stream": "stdout",
       "text": [
        "0.148671698856\n",
        "Team1_Id ---> 0.159167269973\n",
        "Team2_Id ---> "
       ]
      },
      {
       "output_type": "stream",
       "stream": "stdout",
       "text": [
        "0.176963645973\n",
        "tossWin_Id ---> 0.165245937002\n",
        "bat_first ---> "
       ]
      },
      {
       "output_type": "stream",
       "stream": "stdout",
       "text": [
        "0.221914737024\n",
        " Random Forest Feature Importances \n"
       ]
      }
     ],
     "prompt_number": 56
    },
    {
     "cell_type": "markdown",
     "metadata": {},
     "source": [
      "Compare With Naive Bayes Classifier.\n",
      "-----------------------------------"
     ]
    },
    {
     "cell_type": "code",
     "collapsed": false,
     "input": [
      "from sklearn.naive_bayes import GaussianNB\n",
      "# Instantiate the estimator\n",
      "nbClf = GaussianNB()\n",
      "nbFit = nbClf.fit( train[features], train['Winner_Id'] )\n",
      "nbTestOut = nbFit.predict( test[features] )\n",
      "test['Winner_Id_pred_NB'] = nbTestOut\n",
      "crctPredNB = test[ test['Winner_Id'] == test['Winner_Id_pred_NB'] ].shape[0]\n",
      "wrngPredNB = test[ test['Winner_Id'] != test['Winner_Id_pred_NB'] ].shape[0]\n",
      "# Accurate pred. percent\n",
      "percAccrcyNB = round( crctPredNB*100./(crctPredNB+wrngPredNB), 2 )\n",
      "print \"Naive Bayes accuracy over all test set-->\", percAccrcyNB, '%'\n",
      "print \"You can see, why NB is bad. The parameters are very interdependent.\""
     ],
     "language": "python",
     "metadata": {},
     "outputs": [
      {
       "output_type": "stream",
       "stream": "stdout",
       "text": [
        "Naive Bayes accuracy over all test set--> 23.08 %\n",
        "You can see, why NB is bad. The parameters are very interdependent.\n"
       ]
      }
     ],
     "prompt_number": 57
    },
    {
     "cell_type": "markdown",
     "metadata": {},
     "source": [
      "Compare with SVM.\n",
      "-----------------------------------"
     ]
    },
    {
     "cell_type": "code",
     "collapsed": false,
     "input": [
      "from sklearn import svm\n",
      "svmClf = svm.SVC()\n",
      "svmFit = svmClf.fit( train[features], train['Winner_Id'] )\n",
      "svmTestOut = svmFit.predict( test[features] )\n",
      "test['Winner_Id_pred_SVM'] = svmTestOut\n",
      "crctPredSVM = test[ test['Winner_Id'] == test['Winner_Id_pred_SVM'] ].shape[0]\n",
      "wrngPredSVM = test[ test['Winner_Id'] != test['Winner_Id_pred_SVM'] ].shape[0]\n",
      "# Accurate pred. percent\n",
      "percAccrcySVM = round( crctPredSVM*100./(crctPredSVM+wrngPredSVM), 2 )\n",
      "print \"SVM accuracy over all test set-->\", percAccrcySVM, '%'"
     ],
     "language": "python",
     "metadata": {},
     "outputs": [
      {
       "output_type": "stream",
       "stream": "stdout",
       "text": [
        "SVM accuracy over all test set--> 49.45 %\n"
       ]
      }
     ],
     "prompt_number": 58
    }
   ],
   "metadata": {}
  }
 ]
}
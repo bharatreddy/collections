{
 "metadata": {
  "name": "",
  "signature": "sha256:807faa7b9cf8f53c4bb167a0101adc61b9de1910f72012700f04860decacdad2"
 },
 "nbformat": 3,
 "nbformat_minor": 0,
 "worksheets": [
  {
   "cells": [
    {
     "cell_type": "markdown",
     "metadata": {},
     "source": [
      "> Set up connections to the SQL DB through Pandas"
     ]
    },
    {
     "cell_type": "code",
     "collapsed": false,
     "input": [
      "import pandas\n",
      "import mysql.connector\n",
      "# set up connections to the DB\n",
      "conn = mysql.connector.Connect(host='localhost',user='root',\\\n",
      "                        password='',database='cricdata')"
     ],
     "language": "python",
     "metadata": {},
     "outputs": [],
     "prompt_number": 1
    },
    {
     "cell_type": "markdown",
     "metadata": {},
     "source": [
      "> Retreive necessary data from the DB"
     ]
    },
    {
     "cell_type": "code",
     "collapsed": false,
     "input": [
      "# Retreive Data teams, Outcome data from the DB\n",
      "qryTeamWin = \"\"\"\n",
      "                SELECT Game.Id, Game.MatchDate, Game.Venue, Game.Overs,\n",
      "                    Teams.Team1, Teams.Team2,\n",
      "                    Outcome.Winner, Outcome.Runs, Outcome.Wickets, Outcome.Result,\n",
      "                    Outcome.Eliminator, Outcome.Method\n",
      "                FROM Game INNER JOIN Outcome\n",
      "                    ON Game.Id = OutCome.MatchId\n",
      "                INNER JOIN Teams\n",
      "                    ON Game.Id = Teams.MatchId\n",
      "             \"\"\"\n",
      "winTeamDF = pandas.read_sql( qryTeamWin, conn )\n",
      "# print a sample of the data\n",
      "print winTeamDF.head(5)"
     ],
     "language": "python",
     "metadata": {},
     "outputs": [
      {
       "output_type": "stream",
       "stream": "stdout",
       "text": [
        "       Id           MatchDate                                       Venue  \\\n",
        "0  335982 2008-04-18 00:00:00                       M Chinnaswamy Stadium   \n",
        "1  335983 2008-04-19 00:00:00  Punjab Cricket Association Stadium, Mohali   \n",
        "2  335984 2008-04-19 00:00:00                            Feroz Shah Kotla   \n",
        "3  335985 2008-04-20 00:00:00                            Wankhede Stadium   \n",
        "4  335986 2008-04-20 00:00:00                                Eden Gardens   \n",
        "\n",
        "   Overs                        Team1                        Team2  \\\n",
        "0     20  Royal Challengers Bangalore        Kolkata Knight Riders   \n",
        "1     20              Kings XI Punjab          Chennai Super Kings   \n",
        "2     20             Delhi Daredevils             Rajasthan Royals   \n",
        "3     20               Mumbai Indians  Royal Challengers Bangalore   \n",
        "4     20        Kolkata Knight Riders              Deccan Chargers   \n",
        "\n",
        "                        Winner  Runs  Wickets Result Eliminator Method  \n",
        "0        Kolkata Knight Riders   140      NaN   None       None   None  \n",
        "1          Chennai Super Kings    33      NaN   None       None   None  \n",
        "2             Delhi Daredevils   NaN        9   None       None   None  \n",
        "3  Royal Challengers Bangalore   NaN        5   None       None   None  \n",
        "4        Kolkata Knight Riders   NaN        5   None       None   None  \n"
       ]
      }
     ],
     "prompt_number": 2
    },
    {
     "cell_type": "markdown",
     "metadata": {},
     "source": [
      "> Get some basic stats - like win/loss percentage by team, stadium and toss."
     ]
    },
    {
     "cell_type": "code",
     "collapsed": false,
     "input": [
      "import numpy\n",
      "# We'll begin with the win/loss percent of teams.\n",
      "# get the matches won/lost by each team.\n",
      "# By grouping the DF according to the winning team.\n",
      "bywinner = winTeamDF.groupby('Winner')\n",
      "numWins = bywinner.size()\n",
      "# Now we'll need the total number of matches\n",
      "# played by each team. \n",
      "teamList = bywinner.groups.keys()\n",
      "# Loop through each team and identify the number of times\n",
      "# the team appears either in the Team1 or Team2 col.\n",
      "# we'll store this data in a seperate DF\n",
      "teamMatchDF = pandas.DataFrame( columns=('team', 'short_name','matches', 'wins'),\\\n",
      "                               index=range(len(teamList)) )\n",
      "for n, t in enumerate(teamList):\n",
      "    nGames = winTeamDF[ (winTeamDF['Team1'] == t) |\\\n",
      "              (winTeamDF['Team2'] == t) ]\\\n",
      "            ['Id'].shape[0]\n",
      "    # get the short name for plotting purposes\n",
      "    shortName = ''.join( [ x[0] for x in t.split() ] )\n",
      "    teamMatchDF.ix[n] = [ t, shortName, nGames, numWins[t] ]\n",
      "# We now have the DF with team, num of matches and wins\n",
      "# we'll now add an additional column win_percent\n",
      "teamMatchDF['win_percent'] = (teamMatchDF['wins']*100./teamMatchDF['matches'])\\\n",
      "                                .apply(lambda x: round(x, 2))\n",
      "print \"--------------- Total team wins ------------------\"\n",
      "print teamMatchDF.sort( 'win_percent', ascending=False ).reset_index(drop=True)\n",
      "print \"--------------- Total team wins ------------------\"\n",
      "# Lets get the wins of each team by year\n",
      "# we'll get the year from the MatchDate col\n",
      "winTeamDF['year'] = pandas.DatetimeIndex( winTeamDF['MatchDate'] ).year\n",
      "byYearWinner = winTeamDF.groupby( ['Winner','year'] )\n",
      "numWinsYear = byYearWinner.size()\n",
      "# we'll use a different DF to store wins by year.\n",
      "teamYearList = byYearWinner.groups.keys()\n",
      "teamWinYearDF = pandas.DataFrame( columns=('team', 'short_name', 'year', 'matches', 'wins'),\\\n",
      "                               index=range(len(teamYearList)) )\n",
      "# Loop through the data populate the DB\n",
      "for ny, ty in enumerate(teamYearList):\n",
      "    # skip some None's\n",
      "    if ty[0] is None:\n",
      "        continue\n",
      "    nGames = winTeamDF[ ( (winTeamDF['Team1'] == ty[0]) |\\\n",
      "              (winTeamDF['Team2'] == ty[0]) ) & ( winTeamDF['year'] == ty[1] )]\\\n",
      "            ['Id'].shape[0]\n",
      "    shortName = ''.join( [ x[0] for x in ty[0].split() ] )\n",
      "    teamWinYearDF.ix[ny] = [ ty[0], shortName, ty[1], nGames, numWinsYear[ty] ]\n",
      "# get the win percent\n",
      "print \n",
      "print \"--------------- Team wins by year ------------------\"\n",
      "teamWinYearDF['win_percent'] = (teamWinYearDF['wins']*100./teamWinYearDF['matches'])\\\n",
      "                                .apply(lambda x: round(x, 2))\n",
      "# Drop NaN Vals\n",
      "teamWinYearDF = teamWinYearDF[ numpy.isfinite( teamWinYearDF['win_percent'] ) ]\n",
      "print teamWinYearDF.sort( 'win_percent', ascending=False ).reset_index(drop=True).head(10)\n",
      "print \"--------------- Team wins by year ------------------\""
     ],
     "language": "python",
     "metadata": {},
     "outputs": [
      {
       "output_type": "stream",
       "stream": "stdout",
       "text": [
        "--------------- Toal team wins ------------------\n",
        "                           team short_name matches wins  win_percent\n",
        "0           Chennai Super Kings        CSK     114   69        60.53\n",
        "1                Mumbai Indians         MI     110   63        57.27\n",
        "2              Rajasthan Royals         RR     104   54        51.92\n",
        "3               Kings XI Punjab        KXP     106   55        51.89\n",
        "4         Kolkata Knight Riders        KKR     104   53        50.96\n",
        "5   Royal Challengers Bangalore        RCB     107   52        48.60\n",
        "6           Sunrisers Hyderabad         SH      31   15        48.39\n",
        "7          Kochi Tuskers Kerala        KTK      14    6        42.86\n",
        "8              Delhi Daredevils         DD     105   44        41.90\n",
        "9               Deccan Chargers         DC      75   29        38.67\n",
        "10                Pune Warriors         PW      46   12        26.09\n",
        "--------------- Toal team wins ------------------\n",
        "\n"
       ]
      },
      {
       "output_type": "stream",
       "stream": "stdout",
       "text": [
        "--------------- Team wins by year ------------------\n",
        "                    team short_name  year matches wins  win_percent\n",
        "0       Rajasthan Royals         RR  2008      16   13        81.25\n",
        "1        Kings XI Punjab        KXP  2014      17   12        70.59\n",
        "2  Kolkata Knight Riders        KKR  2012      17   12        70.59\n",
        "3  Kolkata Knight Riders        KKR  2014      16   11        68.75\n",
        "4    Chennai Super Kings        CSK  2011      16   11        68.75\n",
        "5         Mumbai Indians         MI  2010      16   11        68.75\n",
        "6         Mumbai Indians         MI  2013      19   13        68.42\n",
        "7        Kings XI Punjab        KXP  2008      15   10        66.67\n",
        "8    Chennai Super Kings        CSK  2013      18   12        66.67\n",
        "9       Delhi Daredevils         DD  2009      15   10        66.67\n",
        "--------------- Team wins by year ------------------\n"
       ]
      }
     ],
     "prompt_number": 17
    },
    {
     "cell_type": "markdown",
     "metadata": {},
     "source": [
      "> Get some basic plots."
     ]
    },
    {
     "cell_type": "code",
     "collapsed": false,
     "input": [
      "import matplotlib.pyplot as plt\n",
      "import datetime\n",
      "fig = plt.figure(figsize=(8,6))\n",
      "ax1 = fig.add_subplot(111)\n",
      "# plot total team wins\n",
      "ax1 = teamMatchDF.plot(x='short_name', y='win_percent', kind='bar',\\\n",
      "                 ylim=[0,100], fontsize = 14, color='#1E90FF' )\n",
      "ax1.set_ylabel( 'Win Percent', fontsize=16 )\n",
      "yticks = [20, 40, 60, 80, 100]\n",
      "ax1.yaxis.set_ticks(yticks)\n",
      "ax1.set_yticklabels(yticks, fontsize=14)\n",
      "ax1.set_xlabel( 'Team', fontsize=14 )\n",
      "ax1.set_title( 'Win percent by teams', fontsize=16 )\n",
      "ax1.patch.set_facecolor('gray')\n",
      "ax1.patch.set_alpha(0.75)"
     ],
     "language": "python",
     "metadata": {},
     "outputs": [
      {
       "metadata": {},
       "output_type": "display_data",
       "png": "[encoded data removed]",
       "text": [
        "<matplotlib.figure.Figure at 0x1098df7d0>"
       ]
      }
     ],
     "prompt_number": 89
    },
    {
     "cell_type": "code",
     "collapsed": false,
     "input": [
      "import numpy\n",
      "fig = plt.figure(figsize=(8,6))\n",
      "ax2 = fig.add_subplot(111)\n",
      "# Set different colors\n",
      "colormap = plt.cm.jet\n",
      "plt.gca().set_color_cycle([colormap(i) for i in np.linspace(0, 0.9, len(teamList))])\n",
      "labList = []\n",
      "meanList = []\n",
      "stdList = []\n",
      "xDataList = [] # Holder for xaxis\n",
      "for n, t in enumerate(teamList):\n",
      "    currYears = list( teamWinYearDF[ teamWinYearDF['team'] == t ]['year'] )\n",
      "    shortName = list( teamWinYearDF[ teamWinYearDF['team'] == t ]['short_name'] )[0]\n",
      "    currDate = [ datetime.datetime.strptime(str(c), '%Y') for  c in currYears ]\n",
      "    # Need to sort both date and win_percent according to date\n",
      "    # We'll do it by zipping the values\n",
      "    currWinPercnt = list( teamWinYearDF[ teamWinYearDF['team'] == t ]['win_percent'] )\n",
      "    wdSort = zip( currDate, currWinPercnt )\n",
      "    wdSort.sort()\n",
      "    currDate = [y for y, x in wdSort]\n",
      "    currWinPercnt = [x for y, x in wdSort]\n",
      "    stats = numpy.array( currWinPercnt )\n",
      "    labList.append( shortName )\n",
      "    meanList.append( numpy.mean(stats) )\n",
      "    stdList.append( numpy.std(stats) )\n",
      "    xDataList.append( n )\n",
      "# Plot the means, Std.Dev\n",
      "ax2.errorbar(xDataList, meanList, yerr=stdList,\\\n",
      "             linestyle='None', marker='x', linewidth=3, \\\n",
      "             markersize=12, mew=2, color='#1E90FF')\n",
      "#     ax2.plot( currDate, currWinPercnt, linewidth=2, label=t )\n",
      "ax2.set_ylabel( 'Win Percent', fontsize=14 )\n",
      "ax2.set_xlabel( 'Team', fontsize=14 )\n",
      "ax2.set_title( 'Avg wins/year', fontsize=16 )\n",
      "ax2.set_ylim( [0,100] )\n",
      "ax2.set_xlim( [-1,11] )\n",
      "ax2.xaxis.set_ticks(arange(11))\n",
      "ax2.set_xticklabels(labList)\n",
      "ax2.grid()\n",
      "ax2.patch.set_facecolor('gray')\n",
      "ax2.patch.set_alpha(0.75)"
     ],
     "language": "python",
     "metadata": {},
     "outputs": [
      {
       "metadata": {},
       "output_type": "display_data",
       "png": "[encoded data removed]",
       "text": [
        "<matplotlib.figure.Figure at 0x1110dfd90>"
       ]
      }
     ],
     "prompt_number": 186
    },
    {
     "cell_type": "markdown",
     "metadata": {},
     "source": [
      "> Stats by Venues"
     ]
    },
    {
     "cell_type": "code",
     "collapsed": false,
     "input": [
      "byVenueWinner = winTeamDF.groupby( ['Winner','Venue'] )\n",
      "numWinsVenue = byVenueWinner.size()\n",
      "# we'll use a different DF to store wins by year.\n",
      "teamVenueList = byVenueWinner.groups.keys()\n",
      "teamWinVenueDF = pandas.DataFrame( columns=('team', 'short_name', 'venue', 'matches', 'wins'),\\\n",
      "                               index=range(len(teamVenueList)) )\n",
      "# we'll have a DF to just store home results (automatically identified by num matches)\n",
      "homeAdvDF = pandas.DataFrame( columns=('team', 'short_name', 'home_venue', 'home_matches', 'home_wins'),\\\n",
      "                               index=range(len(teamVenueList)) )\n",
      "# Loop through the data populate the DB\n",
      "for ny, ty in enumerate(teamVenueList):\n",
      "    # skip some None's\n",
      "    if ty[0] is None:\n",
      "        continue\n",
      "    nGames = winTeamDF[ ( (winTeamDF['Team1'] == ty[0]) |\\\n",
      "              (winTeamDF['Team2'] == ty[0]) ) & ( winTeamDF['Venue'] == ty[1] )]\\\n",
      "            ['Id'].shape[0]\n",
      "    shortName = ''.join( [ x[0] for x in ty[0].split() ] )\n",
      "    teamWinVenueDF.ix[ny] = [ ty[0], shortName, ty[1], nGames, numWinsVenue[ty] ]\n",
      "    # Get the home adv factor\n",
      "    if nGames > 10:\n",
      "        homeAdvDF.ix[ny] = [ ty[0], shortName, ty[1], nGames, numWinsVenue[ty] ]\n",
      "# get the win percent\n",
      "teamWinVenueDF['win_percent'] = (teamWinVenueDF['wins']*100./teamWinVenueDF['matches'])\\\n",
      "                                .apply(lambda x: round(x, 2))\n",
      "homeAdvDF['home_win_percent'] = (homeAdvDF['home_wins']*100./homeAdvDF['home_matches'])\\\n",
      "                                .apply(lambda x: round(x, 2))\n",
      "# Drop NaN Vals\n",
      "teamWinVenueDF = teamWinVenueDF[ numpy.isfinite( teamWinVenueDF['win_percent'] ) ]\n",
      "homeAdvDF = homeAdvDF[ numpy.isfinite( homeAdvDF['home_win_percent'] ) ]\n",
      "print \"--------------- Team wins by Venue ------------------\"\n",
      "print homeAdvDF.sort( 'home_win_percent', ascending=False ).reset_index(drop=True).head(10)\n",
      "print \"--------------- Team wins by Venue ------------------\""
     ],
     "language": "python",
     "metadata": {},
     "outputs": [
      {
       "output_type": "stream",
       "stream": "stdout",
       "text": [
        "\n",
        "--------------- Team wins by Venue ------------------\n",
        "                          team short_name  \\\n",
        "0             Rajasthan Royals         RR   \n",
        "1          Chennai Super Kings        CSK   \n",
        "2               Mumbai Indians         MI   \n",
        "3        Kolkata Knight Riders        KKR   \n",
        "4          Sunrisers Hyderabad         SH   \n",
        "5              Kings XI Punjab        KXP   \n",
        "6  Royal Challengers Bangalore        RCB   \n",
        "7             Delhi Daredevils         DD   \n",
        "8                Pune Warriors         PW   \n",
        "9              Deccan Chargers         DC   \n",
        "\n",
        "                                   home_venue home_matches home_wins  \\\n",
        "0                      Sawai Mansingh Stadium           33        24   \n",
        "1             MA Chidambaram Stadium, Chepauk           40        27   \n",
        "2                            Wankhede Stadium           33        22   \n",
        "3                                Eden Gardens           38        24   \n",
        "4   Rajiv Gandhi International Stadium, Uppal           12         7   \n",
        "5  Punjab Cricket Association Stadium, Mohali           31        17   \n",
        "6                       M Chinnaswamy Stadium           40        21   \n",
        "7                            Feroz Shah Kotla           39        14   \n",
        "8                  Subrata Roy Sahara Stadium           16         4   \n",
        "9   Rajiv Gandhi International Stadium, Uppal           18         3   \n",
        "\n",
        "   home_win_percent  \n",
        "0             72.73  \n",
        "1             67.50  \n",
        "2             66.67  \n",
        "3             63.16  \n",
        "4             58.33  \n",
        "5             54.84  \n",
        "6             52.50  \n",
        "7             35.90  \n",
        "8             25.00  \n",
        "9             16.67  \n",
        "--------------- Team wins by Venue ------------------\n"
       ]
      }
     ],
     "prompt_number": 201
    },
    {
     "cell_type": "code",
     "collapsed": false,
     "input": [],
     "language": "python",
     "metadata": {},
     "outputs": []
    }
   ],
   "metadata": {}
  }
 ]
}
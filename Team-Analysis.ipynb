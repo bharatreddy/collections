{
 "metadata": {
  "name": "",
  "signature": "sha256:853ab1e307b5792057019869c9b09876bfb0f9621b98c2c8ff4ebe6f27fc6798"
 },
 "nbformat": 3,
 "nbformat_minor": 0,
 "worksheets": [
  {
   "cells": [
    {
     "cell_type": "markdown",
     "metadata": {},
     "source": [
      "> Set up connections to the SQL DB through Pandas"
     ]
    },
    {
     "cell_type": "code",
     "collapsed": false,
     "input": [
      "import pandas\n",
      "import mysql.connector\n",
      "# set up connections to the DB\n",
      "conn = mysql.connector.Connect(host='localhost',user='root',\\\n",
      "                        password='',database='cricdata')"
     ],
     "language": "python",
     "metadata": {},
     "outputs": [],
     "prompt_number": 1
    },
    {
     "cell_type": "markdown",
     "metadata": {},
     "source": [
      "> Retreive necessary data from the DB"
     ]
    },
    {
     "cell_type": "code",
     "collapsed": false,
     "input": [
      "# Retreive Data teams, Outcome data from the DB\n",
      "qryTeamWin = \"\"\"\n",
      "                SELECT Game.Id, Game.MatchDate, Game.Venue, Game.Overs,\n",
      "                    Teams.Team1, Teams.Team2,\n",
      "                    Outcome.Winner, Outcome.Runs, Outcome.Wickets, Outcome.Result,\n",
      "                    Outcome.Eliminator, Outcome.Method\n",
      "                FROM Game INNER JOIN Outcome\n",
      "                    ON Game.Id = OutCome.MatchId\n",
      "                INNER JOIN Teams\n",
      "                    ON Game.Id = Teams.MatchId\n",
      "             \"\"\"\n",
      "winTeamDF = pandas.read_sql( qryTeamWin, conn )\n",
      "# print a sample of the data\n",
      "print winTeamDF.head(5)"
     ],
     "language": "python",
     "metadata": {},
     "outputs": [
      {
       "output_type": "stream",
       "stream": "stdout",
       "text": [
        "       Id           MatchDate                                       Venue  \\\n",
        "0  335982 2008-04-18 00:00:00                       M Chinnaswamy Stadium   \n",
        "1  335983 2008-04-19 00:00:00  Punjab Cricket Association Stadium, Mohali   \n",
        "2  335984 2008-04-19 00:00:00                            Feroz Shah Kotla   \n",
        "3  335985 2008-04-20 00:00:00                            Wankhede Stadium   \n",
        "4  335986 2008-04-20 00:00:00                                Eden Gardens   \n",
        "\n",
        "   Overs                        Team1                        Team2  \\\n",
        "0     20  Royal Challengers Bangalore        Kolkata Knight Riders   \n",
        "1     20              Kings XI Punjab          Chennai Super Kings   \n",
        "2     20             Delhi Daredevils             Rajasthan Royals   \n",
        "3     20               Mumbai Indians  Royal Challengers Bangalore   \n",
        "4     20        Kolkata Knight Riders              Deccan Chargers   \n",
        "\n",
        "                        Winner  Runs  Wickets Result Eliminator Method  \n",
        "0        Kolkata Knight Riders   140      NaN   None       None   None  \n",
        "1          Chennai Super Kings    33      NaN   None       None   None  \n",
        "2             Delhi Daredevils   NaN        9   None       None   None  \n",
        "3  Royal Challengers Bangalore   NaN        5   None       None   None  \n",
        "4        Kolkata Knight Riders   NaN        5   None       None   None  \n"
       ]
      }
     ],
     "prompt_number": 2
    },
    {
     "cell_type": "markdown",
     "metadata": {},
     "source": [
      "> Get some basic stats - like win/loss percentage by team, stadium and toss."
     ]
    },
    {
     "cell_type": "code",
     "collapsed": false,
     "input": [
      "import numpy\n",
      "# We'll begin with the win/loss percent of teams.\n",
      "# get the matches won/lost by each team.\n",
      "# By grouping the DF according to the winning team.\n",
      "bywinner = winTeamDF.groupby('Winner')\n",
      "numWins = bywinner.size()\n",
      "# Now we'll need the total number of matches\n",
      "# played by each team. \n",
      "teamList = bywinner.groups.keys()\n",
      "# Loop through each team and identify the number of times\n",
      "# the team appears either in the Team1 or Team2 col.\n",
      "# we'll store this data in a seperate DF\n",
      "teamMatchDF = pandas.DataFrame( columns=('team', 'short_name','matches', 'wins'),\\\n",
      "                               index=range(len(teamList)) )\n",
      "for n, t in enumerate(teamList):\n",
      "    nGames = winTeamDF[ (winTeamDF['Team1'] == t) |\\\n",
      "              (winTeamDF['Team2'] == t) ]\\\n",
      "            ['Id'].shape[0]\n",
      "    # get the short name for plotting purposes\n",
      "    shortName = ''.join( [ x[0] for x in t.split() ] )\n",
      "    teamMatchDF.ix[n] = [ t, shortName, nGames, numWins[t] ]\n",
      "# We now have the DF with team, num of matches and wins\n",
      "# we'll now add an additional column win_percent\n",
      "teamMatchDF['win_percent'] = (teamMatchDF['wins']*100./teamMatchDF['matches'])\\\n",
      "                                .apply(lambda x: round(x, 2))\n",
      "print \"--------------- Toal team wins ------------------\"\n",
      "print teamMatchDF.sort( 'win_percent', ascending=False ).reset_index(drop=True)\n",
      "print \"--------------- Toal team wins ------------------\"\n",
      "# Lets get the wins of each team by year\n",
      "# we'll get the year from the MatchDate col\n",
      "winTeamDF['year'] = pandas.DatetimeIndex( winTeamDF['MatchDate'] ).year\n",
      "byYearWinner = winTeamDF.groupby( ['Winner','year'] )\n",
      "numWinsYear = byYearWinner.size()\n",
      "# we'll use a different DF to store wins by year.\n",
      "teamYearList = byYearWinner.groups.keys()\n",
      "teamWinYearDF = pandas.DataFrame( columns=('team', 'short_name', 'year', 'matches', 'wins'),\\\n",
      "                               index=range(len(teamYearList)) )\n",
      "# Loop through the data populate the DB\n",
      "for ny, ty in enumerate(teamYearList):\n",
      "    # skip some None's\n",
      "    if ty[0] is None:\n",
      "        continue\n",
      "    nGames = winTeamDF[ ( (winTeamDF['Team1'] == ty[0]) |\\\n",
      "              (winTeamDF['Team2'] == ty[0]) ) & ( winTeamDF['year'] == ty[1] )]\\\n",
      "            ['Id'].shape[0]\n",
      "    shortName = ''.join( [ x[0] for x in ty[0].split() ] )\n",
      "    teamWinYearDF.ix[ny] = [ ty[0], shortName, ty[1], nGames, numWinsYear[ty] ]\n",
      "# get the win percent\n",
      "print \n",
      "print \"--------------- Team wins by year ------------------\"\n",
      "teamWinYearDF['win_percent'] = (teamWinYearDF['wins']*100./teamWinYearDF['matches'])\\\n",
      "                                .apply(lambda x: round(x, 2))\n",
      "# Drop NaN Vals\n",
      "teamWinYearDF = teamWinYearDF[ numpy.isfinite( teamWinYearDF['win_percent'] ) ]\n",
      "print teamWinYearDF.sort( 'win_percent', ascending=False ).reset_index(drop=True).head(10)\n",
      "print \"--------------- Team wins by year ------------------\""
     ],
     "language": "python",
     "metadata": {},
     "outputs": [
      {
       "output_type": "stream",
       "stream": "stdout",
       "text": [
        "--------------- Toal team wins ------------------\n",
        "                           team short_name matches wins  win_percent\n",
        "0           Chennai Super Kings        CSK     114   69        60.53\n",
        "1                Mumbai Indians         MI     110   63        57.27\n",
        "2              Rajasthan Royals         RR     104   54        51.92\n",
        "3               Kings XI Punjab        KXP     106   55        51.89\n",
        "4         Kolkata Knight Riders        KKR     104   53        50.96\n",
        "5   Royal Challengers Bangalore        RCB     107   52        48.60\n",
        "6           Sunrisers Hyderabad         SH      31   15        48.39\n",
        "7          Kochi Tuskers Kerala        KTK      14    6        42.86\n",
        "8              Delhi Daredevils         DD     105   44        41.90\n",
        "9               Deccan Chargers         DC      75   29        38.67\n",
        "10                Pune Warriors         PW      46   12        26.09\n",
        "--------------- Toal team wins ------------------\n",
        "\n"
       ]
      },
      {
       "output_type": "stream",
       "stream": "stdout",
       "text": [
        "--------------- Team wins by year ------------------\n",
        "                    team short_name  year matches wins  win_percent\n",
        "0       Rajasthan Royals         RR  2008      16   13        81.25\n",
        "1        Kings XI Punjab        KXP  2014      17   12        70.59\n",
        "2  Kolkata Knight Riders        KKR  2012      17   12        70.59\n",
        "3  Kolkata Knight Riders        KKR  2014      16   11        68.75\n",
        "4    Chennai Super Kings        CSK  2011      16   11        68.75\n",
        "5         Mumbai Indians         MI  2010      16   11        68.75\n",
        "6         Mumbai Indians         MI  2013      19   13        68.42\n",
        "7        Kings XI Punjab        KXP  2008      15   10        66.67\n",
        "8    Chennai Super Kings        CSK  2013      18   12        66.67\n",
        "9       Delhi Daredevils         DD  2009      15   10        66.67\n",
        "--------------- Team wins by year ------------------\n"
       ]
      }
     ],
     "prompt_number": 17
    },
    {
     "cell_type": "markdown",
     "metadata": {},
     "source": [
      "> Get some basic plots."
     ]
    },
    {
     "cell_type": "code",
     "collapsed": false,
     "input": [
      "\n",
      "ax = teamMatchDF.plot(x='short_name', y='win_percent', kind='bar',\\\n",
      "                 ylim=[0,100], figsize=(8, 6), fontsize = 14 )\n",
      "ax.set_ylabel( 'Win Percent', fontsize=16 )\n",
      "yticks = [20, 40, 60, 80, 100]\n",
      "ax.yaxis.set_ticks(yticks)\n",
      "ax.set_yticklabels(yticks, fontsize=14)\n",
      "ax.set_xlabel( 'Team', fontsize=16 )\n",
      "ax.set_title( 'Win percent by teams', fontsize=16 )\n",
      "ax.patch.set_facecolor('gray')\n",
      "ax.patch.set_alpha(0.75)"
     ],
     "language": "python",
     "metadata": {},
     "outputs": [
      {
       "metadata": {},
       "output_type": "display_data",
       "png": "[encoded data removed]",
       "text": [
        "<matplotlib.figure.Figure at 0x107161b50>"
       ]
      }
     ],
     "prompt_number": 18
    },
    {
     "cell_type": "code",
     "collapsed": false,
     "input": [],
     "language": "python",
     "metadata": {},
     "outputs": [],
     "prompt_number": 4
    }
   ],
   "metadata": {}
  }
 ]
}
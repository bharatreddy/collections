{
 "metadata": {
  "name": "",
  "signature": "sha256:0ea1c4f2749a9ed1657a43243ff355bbcef826acc2eec773ea5940ddf317b640"
 },
 "nbformat": 3,
 "nbformat_minor": 0,
 "worksheets": [
  {
   "cells": [
    {
     "cell_type": "markdown",
     "metadata": {},
     "source": [
      "Setup connection with MySQL.\n",
      "----------------------------"
     ]
    },
    {
     "cell_type": "code",
     "collapsed": false,
     "input": [
      "import pandas\n",
      "import mysql.connector\n",
      "# set up connections to the DB\n",
      "conn = mysql.connector.Connect(host='localhost',user='root',\\\n",
      "                        password='',database='cricdata')"
     ],
     "language": "python",
     "metadata": {},
     "outputs": [],
     "prompt_number": 1
    },
    {
     "cell_type": "markdown",
     "metadata": {},
     "source": [
      "Player of match analysis.\n",
      "------------------------"
     ]
    },
    {
     "cell_type": "code",
     "collapsed": false,
     "input": [
      "# Retreive matchId, team, year, playerofmatch data\n",
      "qryPoM = \"\"\"\n",
      "          SELECT Game.Id, Game.MatchDate,\n",
      "              PlayerOfMatch.Player\n",
      "          FROM Game\n",
      "          INNER JOIN PlayerOfMatch\n",
      "              ON PlayerOfMatch.MatchId = Game.Id\n",
      "         \"\"\"\n",
      "pomDF = pandas.read_sql( qryPoM, conn )\n",
      "# Add an additional year column\n",
      "pomDF['year'] = pandas.DatetimeIndex( pomDF['MatchDate'] ).year\n",
      "# Groupby the players and check who won max awards\n",
      "pomGroups = pomDF.groupby(\"Player\").size().order( ascending=False )\n",
      "print \"######## Top 10 player of match winners (all years) ########\"\n",
      "print pomGroups.head(10)\n",
      "print \"######## Top 10 player of match winners (all years) ########\"\n",
      "# Groupby the players and year\n",
      "pomYearGrp = pomDF.groupby( [ \"Player\", \"year\" ] ).size().order( ascending=False )\n",
      "print \"######## Top 10 player of match winners by year ########\"\n",
      "print pomYearGrp.head(10)\n",
      "print \"######## Top 10 player of match winners by year ########\""
     ],
     "language": "python",
     "metadata": {},
     "outputs": [
      {
       "output_type": "stream",
       "stream": "stdout",
       "text": [
        "######## Top 10 player of match winners (all years) ########\n",
        "Player\n",
        "CH Gayle          15\n",
        "YK Pathan         14\n",
        "MEK Hussey        12\n",
        "V Sehwag          11\n",
        "MS Dhoni          11\n",
        "G Gambhir         11\n",
        "SK Raina          10\n",
        "JH Kallis         10\n",
        "AB de Villiers     9\n",
        "SR Watson          8\n",
        "dtype: int64"
       ]
      },
      {
       "output_type": "stream",
       "stream": "stdout",
       "text": [
        "\n",
        "######## Top 10 player of match winners (all years) ########\n",
        "######## Top 10 player of match winners by year ########\n",
        "Player        year\n",
        "CH Gayle      2011    6\n",
        "SE Marsh      2008    5\n",
        "MEK Hussey    2013    5\n",
        "CH Gayle      2012    5\n",
        "YK Pathan     2008    4\n",
        "SR Watson     2008    4\n",
        "SR Tendulkar  2010    4\n",
        "GJ Maxwell    2014    4\n",
        "A Mishra      2013    4\n",
        "YK Pathan     2009    3\n",
        "dtype: int64\n",
        "######## Top 10 player of match winners by year ########\n"
       ]
      }
     ],
     "prompt_number": 2
    },
    {
     "cell_type": "markdown",
     "metadata": {},
     "source": [
      "Print score cards of a given match.\n",
      "----------------------------------\n",
      "\n",
      "> We'll have a breif overview scorecard and a more detailed one."
     ]
    },
    {
     "cell_type": "code",
     "collapsed": false,
     "input": [
      "# Get all the match Data from Deliveries, Innings and Outcome data\n",
      "selMatchId = 335982\n",
      "qryMatchDet = \"\"\"\n",
      "                SELECT * FROM Deliveries\n",
      "                WHERE MatchId = \n",
      "              \"\"\"\n",
      "qryInn = \"\"\"\n",
      "            SELECT Team, InningsNum as InnNum FROM Innings\n",
      "            WHERE MatchId =\n",
      "         \"\"\"\n",
      "qryOutcm = \"\"\"\n",
      "            SELECT * FROM Outcome\n",
      "            WHERE MatchId =\n",
      "         \"\"\"\n",
      "qryMatchDet += str(selMatchId)\n",
      "qryInn += str(selMatchId)\n",
      "qryOutcm += str(selMatchId)\n",
      "mtchDetDF = pandas.read_sql( qryMatchDet, conn )\n",
      "innDF = pandas.read_sql( qryInn, conn )\n",
      "# get the outcome\n",
      "outcmDF = pandas.read_sql( qryOutcm, conn )\n",
      "# We'll just use 1 DF for simplicity, \n",
      "# merge both match and innings DFs\n",
      "mtchDetDF = pandas.merge( \\\n",
      "                mtchDetDF, innDF, how='inner', on='InnNum' )\\\n",
      "                .reset_index( drop=True )\n",
      "# Get the scores and outcome, group by the team\n",
      "grpTeams = mtchDetDF.groupby(\"Team\")\n",
      "totalRuns = grpTeams.BatsmanRuns.sum() + grpTeams.ExtraRuns.sum()\n",
      "print \"########### Result ###########\"\n",
      "print 'Winner-->', outcmDF['Winner'][0]\n",
      "print 'Player of the match-->', pomDF[ pomDF['Id']==selMatchId ]['Player'][0]\n",
      "print \"########### Result ###########\"\n",
      "print \"########### Score summary ###########\"\n",
      "print totalRuns\n",
      "print \"########### Score summary ###########\""
     ],
     "language": "python",
     "metadata": {},
     "outputs": [
      {
       "output_type": "stream",
       "stream": "stdout",
       "text": [
        "########### Result ###########\n",
        "Winner--> Kolkata Knight Riders\n",
        "Player of the match--> BB McCullum\n",
        "########### Result ###########\n",
        "########### Score summary ###########\n",
        "Team\n",
        "Kolkata Knight Riders          222\n",
        "Royal Challengers Bangalore     82\n",
        "dtype: int64\n",
        "########### Score summary ###########\n"
       ]
      }
     ],
     "prompt_number": 3
    },
    {
     "cell_type": "markdown",
     "metadata": {},
     "source": [
      "Runs scored by batsman\n",
      "----------------------"
     ]
    },
    {
     "cell_type": "code",
     "collapsed": false,
     "input": [
      "# Groupby player and team for a more detailed scorecard\n",
      "extraRuns = mtchDetDF.groupby(\"Team\").ExtraRuns.sum()\n",
      "# get the names of teams\n",
      "teamList = extraRuns.keys().tolist()\n",
      "batsmanGroupTeam1 = mtchDetDF[ mtchDetDF[\"Team\"] == teamList[0] ]\\\n",
      "                .groupby( [ \"Batsman\", \"Team\" ] )\n",
      "batsmanGroupTeam2 = mtchDetDF[ mtchDetDF[\"Team\"] == teamList[1] ]\\\n",
      "                .groupby( [ \"Batsman\", \"Team\" ] )\n",
      "batsmanRunsTeam1 = pandas.DataFrame( batsmanGroupTeam1.BatsmanRuns.sum() ).reset_index()\n",
      "batsmanRunsTeam2 = pandas.DataFrame( batsmanGroupTeam2.BatsmanRuns.sum() ).reset_index()\n",
      "# Remove the count of wides and noballs to get balls played by a batsman\n",
      "extras = [ 'wides', 'noballs' ]\n",
      "noExtrasDF = mtchDetDF[ ~mtchDetDF['Extra'].isin(extras) ].head(10)\n",
      "numBallsGroupTeam1 = noExtrasDF[ noExtrasDF[\"Team\"] == teamList[0] ]\\\n",
      "                .groupby( [ \"Batsman\", \"Team\" ] )\n",
      "numBallsGroupTeam2 = noExtrasDF[ noExtrasDF[\"Team\"] == teamList[1] ]\\\n",
      "                .groupby( [ \"Batsman\", \"Team\" ] )\n",
      "batsmanBallsTeam1 = pandas.DataFrame( batsmanGroupTeam1.BatsmanRuns.size() ).reset_index()\n",
      "batsmanBallsTeam2 = pandas.DataFrame( batsmanGroupTeam2.BatsmanRuns.size() ).reset_index()\n",
      "# Merge the num Balls played, scores DFs\n",
      "batsmanRunsTeam1 = pandas.merge( batsmanRunsTeam1, batsmanBallsTeam1,\\\n",
      "                                on=['Batsman','Team'], how='inner' )\n",
      "batsmanRunsTeam2 = pandas.merge( batsmanRunsTeam2, batsmanBallsTeam2,\\\n",
      "                                on=['Batsman','Team'], how='inner' )\n",
      "print \"###### RUNS ->\",str(teamList[0]), \" ######\"\n",
      "print batsmanRunsTeam1\n",
      "print \"###### RUNS ->\",str(teamList[0]), \" ######\"\n",
      "print\n",
      "print \"###### RUNS ->\",str(teamList[1]), \" ######\"\n",
      "print batsmanRunsTeam2\n",
      "print \"###### RUNS ->\",str(teamList[1]), \" ######\""
     ],
     "language": "python",
     "metadata": {},
     "outputs": [
      {
       "output_type": "stream",
       "stream": "stdout",
       "text": [
        "###### RUNS -> Kolkata Knight Riders  ######\n",
        "           Batsman                   Team  BatsmanRuns   0\n",
        "0      BB McCullum  Kolkata Knight Riders          158  77\n",
        "1        DJ Hussey  Kolkata Knight Riders           12  12\n",
        "2  Mohammad Hafeez  Kolkata Knight Riders            5   3\n",
        "3       RT Ponting  Kolkata Knight Riders           20  20\n",
        "4       SC Ganguly  Kolkata Knight Riders           10  12\n",
        "###### RUNS -> Kolkata Knight Riders  ######\n",
        "\n",
        "###### RUNS -> Royal Challengers Bangalore  ######\n",
        "       Batsman                         Team  BatsmanRuns   0\n",
        "0    AA Noffke  Royal Challengers Bangalore            9  12\n",
        "1      B Akhil  Royal Challengers Bangalore            0   2\n",
        "2     CL White  Royal Challengers Bangalore            6  10\n",
        "3    JH Kallis  Royal Challengers Bangalore            8   7\n",
        "4   MV Boucher  Royal Challengers Bangalore            7  11\n",
        "5      P Kumar  Royal Challengers Bangalore           18  17\n",
        "6     R Dravid  Royal Challengers Bangalore            2   3\n",
        "7     SB Joshi  Royal Challengers Bangalore            3   8\n",
        "8      V Kohli  Royal Challengers Bangalore            1   5\n",
        "9     W Jaffer  Royal Challengers Bangalore            6  18\n",
        "10      Z Khan  Royal Challengers Bangalore            3   8\n",
        "###### RUNS -> Royal Challengers Bangalore  ######\n"
       ]
      }
     ],
     "prompt_number": 4
    },
    {
     "cell_type": "code",
     "collapsed": false,
     "input": [
      "wicketNotCnt = [ 'run out', 'retired hurt', 'obstructing the field' ]\n",
      "wicketsDF = mtchDetDF[ ~pandas.isnull(mtchDetDF['Wicket']) ]\n",
      "wicketsTeam1DF = wicketsDF[ wicketsDF[\"Team\"] == teamList[0] ]\n",
      "wicketsTeam2DF = wicketsDF[ wicketsDF[\"Team\"] == teamList[1] ]\n",
      "# Now rememnber wicket takers in innings 1 \n",
      "# belong to team batting in innings 2\n",
      "bowlerTeam1DF = pandas.DataFrame( \\\n",
      "                                 wicketsTeam2DF[ ~wicketsTeam2DF['WicketKind']\\\n",
      "                                .isin(wicketNotCnt) ] ).reset_index()\n",
      "\n",
      "bowlerTeam2DF = pandas.DataFrame( \\\n",
      "                                 wicketsTeam1DF[ ~wicketsTeam1DF['WicketKind']\\\n",
      "                                .isin(wicketNotCnt) ] ).reset_index()\n",
      "bowlerTeam1Grps = bowlerTeam1DF.groupby( [\"Bowler\"] )\n",
      "\n",
      "bowlerTeam2Grps = bowlerTeam2DF.groupby( [\"Bowler\"] )\n",
      "print \"######## wickets Team-->\", teamList[0], \" ######\"\n",
      "print bowlerTeam1Grps.Wicket.size()\n",
      "print \"######## wickets Team-->\", teamList[0], \" ######\"\n",
      "print \"######## wickets Team-->\", teamList[1], \" ######\"\n",
      "print bowlerTeam2Grps.Wicket.size()\n",
      "print \"######## wickets Team-->\", teamList[1], \" ######\""
     ],
     "language": "python",
     "metadata": {},
     "outputs": [
      {
       "output_type": "stream",
       "stream": "stdout",
       "text": [
        "######## wickets Team--> Kolkata Knight Riders  ######\n",
        "Bowler\n",
        "AB Agarkar    3\n",
        "AB Dinda      2\n",
        "I Sharma      1\n",
        "LR Shukla     1\n",
        "SC Ganguly    2\n",
        "dtype: int64\n",
        "######## wickets Team--> Kolkata Knight Riders  ######\n",
        "######## wickets Team--> Royal Challengers Bangalore  ######\n",
        "Bowler\n",
        "AA Noffke    1\n",
        "JH Kallis    1\n",
        "Z Khan       1\n",
        "dtype: int64\n",
        "######## wickets Team--> Royal Challengers Bangalore  ######\n"
       ]
      }
     ],
     "prompt_number": 31
    }
   ],
   "metadata": {}
  }
 ]
}
{
 "metadata": {
  "name": "",
  "signature": "sha256:b6bf27442d96ea53a23aa0d370e42b468b8227c1368865f41977e714308dbeec"
 },
 "nbformat": 3,
 "nbformat_minor": 0,
 "worksheets": [
  {
   "cells": [
    {
     "cell_type": "markdown",
     "metadata": {},
     "source": [
      "Setup connection with MySQL.\n",
      "----------------------------"
     ]
    },
    {
     "cell_type": "code",
     "collapsed": false,
     "input": [
      "import pandas\n",
      "import mysql.connector\n",
      "# set up connections to the DB\n",
      "conn = mysql.connector.Connect(host='localhost',user='root',\\\n",
      "                        password='',database='cricdata')"
     ],
     "language": "python",
     "metadata": {},
     "outputs": [],
     "prompt_number": 1
    },
    {
     "cell_type": "markdown",
     "metadata": {},
     "source": [
      "Player of match analysis.\n",
      "------------------------"
     ]
    },
    {
     "cell_type": "code",
     "collapsed": false,
     "input": [
      "# Retreive matchId, team, year, playerofmatch data\n",
      "qryPoM = \"\"\"\n",
      "          SELECT Game.Id, Game.MatchDate,\n",
      "              PlayerOfMatch.Player\n",
      "          FROM Game\n",
      "          INNER JOIN PlayerOfMatch\n",
      "              ON PlayerOfMatch.MatchId = Game.Id\n",
      "         \"\"\"\n",
      "pomDF = pandas.read_sql( qryPoM, conn )\n",
      "# Add an additional year column\n",
      "pomDF['year'] = pandas.DatetimeIndex( pomDF['MatchDate'] ).year\n",
      "# Groupby the players and check who won max awards\n",
      "pomGroups = pomDF.groupby(\"Player\").size().order( ascending=False )\n",
      "print \"######## Top 10 player of match winners (all years) ########\"\n",
      "print pomGroups.head(10)\n",
      "print \"######## Top 10 player of match winners (all years) ########\"\n",
      "# Groupby the players and year\n",
      "pomYearGrp = pomDF.groupby( [ \"Player\", \"year\" ] ).size().order( ascending=False )\n",
      "print \"######## Top 10 player of match winners by year ########\"\n",
      "print pomYearGrp.head(10)\n",
      "print \"######## Top 10 player of match winners by year ########\""
     ],
     "language": "python",
     "metadata": {},
     "outputs": [
      {
       "output_type": "stream",
       "stream": "stdout",
       "text": [
        "######## Top 10 player of match winners (all years) ########\n",
        "Player\n",
        "CH Gayle          15\n",
        "YK Pathan         14\n",
        "MEK Hussey        12\n",
        "V Sehwag          11\n",
        "MS Dhoni          11\n",
        "G Gambhir         11\n",
        "SK Raina          10\n",
        "JH Kallis         10\n",
        "AB de Villiers     9\n",
        "SR Watson          8\n",
        "dtype: int64"
       ]
      },
      {
       "output_type": "stream",
       "stream": "stdout",
       "text": [
        "\n",
        "######## Top 10 player of match winners (all years) ########\n",
        "######## Top 10 player of match winners by year ########\n",
        "Player        year\n",
        "CH Gayle      2011    6\n",
        "SE Marsh      2008    5\n",
        "MEK Hussey    2013    5\n",
        "CH Gayle      2012    5\n",
        "YK Pathan     2008    4\n",
        "SR Watson     2008    4\n",
        "SR Tendulkar  2010    4\n",
        "GJ Maxwell    2014    4\n",
        "A Mishra      2013    4\n",
        "YK Pathan     2009    3\n",
        "dtype: int64\n",
        "######## Top 10 player of match winners by year ########\n"
       ]
      }
     ],
     "prompt_number": 2
    },
    {
     "cell_type": "markdown",
     "metadata": {},
     "source": [
      "Print score cards of a given match.\n",
      "----------------------------------\n",
      "\n",
      "> We'll have a breif overview scorecard and a more detailed one."
     ]
    },
    {
     "cell_type": "code",
     "collapsed": false,
     "input": [
      "# Get all the match Data from Deliveries, Innings and Outcome data\n",
      "selMatchId = 335982\n",
      "qryMatchDet = \"\"\"\n",
      "                SELECT * FROM Deliveries\n",
      "                WHERE MatchId = \n",
      "              \"\"\"\n",
      "qryInn = \"\"\"\n",
      "            SELECT Team, InningsNum as InnNum FROM Innings\n",
      "            WHERE MatchId =\n",
      "         \"\"\"\n",
      "qryOutcm = \"\"\"\n",
      "            SELECT * FROM Outcome\n",
      "            WHERE MatchId =\n",
      "         \"\"\"\n",
      "qryMatchDet += str(selMatchId)\n",
      "qryInn += str(selMatchId)\n",
      "qryOutcm += str(selMatchId)\n",
      "mtchDetDF = pandas.read_sql( qryMatchDet, conn )\n",
      "innDF = pandas.read_sql( qryInn, conn )\n",
      "# get the outcome\n",
      "outcmDF = pandas.read_sql( qryOutcm, conn )\n",
      "# We'll just use 1 DF for simplicity, \n",
      "# merge both match and innings DFs\n",
      "mtchDetDF = pandas.merge( \\\n",
      "                mtchDetDF, innDF, how='inner', on='InnNum' )\\\n",
      "                .reset_index( drop=True )\n",
      "# Get the scores and outcome, group by the team\n",
      "grpTeams = mtchDetDF.groupby(\"Team\")\n",
      "totalRuns = grpTeams.BatsmanRuns.sum() + grpTeams.ExtraRuns.sum()\n",
      "print \"########### Result ###########\"\n",
      "print 'Winner-->', outcmDF['Winner'][0]\n",
      "print 'Player of the match-->', pomDF[ pomDF['Id']==selMatchId ]['Player'][0]\n",
      "print \"########### Result ###########\"\n",
      "print \"########### Score summary ###########\"\n",
      "print totalRuns\n",
      "print \"########### Score summary ###########\""
     ],
     "language": "python",
     "metadata": {},
     "outputs": [
      {
       "output_type": "stream",
       "stream": "stdout",
       "text": [
        "########### Result ###########\n",
        "Winner--> Kolkata Knight Riders\n",
        "Player of the match--> BB McCullum\n",
        "########### Result ###########\n",
        "########### Score summary ###########\n",
        "Team\n",
        "Kolkata Knight Riders          222\n",
        "Royal Challengers Bangalore     82\n",
        "dtype: int64\n",
        "########### Score summary ###########\n"
       ]
      }
     ],
     "prompt_number": 40
    },
    {
     "cell_type": "markdown",
     "metadata": {},
     "source": [
      "> Detailed match report"
     ]
    },
    {
     "cell_type": "code",
     "collapsed": false,
     "input": [
      "# Groupby player and team for a more detailed scorecard\n",
      "extraRuns = mtchDetDF.groupby(\"Team\").ExtraRuns.sum()\n",
      "# get the names of teams\n",
      "teamList = extraRuns.keys().tolist()\n",
      "batsmanGroupTeam1 = mtchDetDF[ mtchDetDF[\"Team\"] == teamList[0] ]\\\n",
      "                .groupby( [ \"Batsman\", \"Team\" ] )\n",
      "batsmanGroupTeam2 = mtchDetDF[ mtchDetDF[\"Team\"] == teamList[1] ]\\\n",
      "                .groupby( [ \"Batsman\", \"Team\" ] )\n",
      "batsmanRunsTeam1 = batsmanGroupTeam1.BatsmanRuns.sum()\n",
      "batsmanRunsTeam2 = batsmanGroupTeam2.BatsmanRuns.sum()\n",
      "print \"###### RUNS ->\",str(teamList[0]), \" ######\"\n",
      "print batsmanRunsTeam1.order( ascending=False )\n",
      "print \"###### RUNS ->\",str(teamList[0]), \" ######\"\n",
      "print\n",
      "print \"###### RUNS ->\",str(teamList[1]), \" ######\"\n",
      "print batsmanRunsTeam2.order( ascending=False )\n",
      "print \"###### RUNS ->\",str(teamList[1]), \" ######\""
     ],
     "language": "python",
     "metadata": {},
     "outputs": [
      {
       "output_type": "stream",
       "stream": "stdout",
       "text": [
        "###### RUNS -> Kolkata Knight Riders  ######\n",
        "Batsman          Team                 \n",
        "BB McCullum      Kolkata Knight Riders    158\n",
        "RT Ponting       Kolkata Knight Riders     20\n",
        "DJ Hussey        Kolkata Knight Riders     12\n",
        "SC Ganguly       Kolkata Knight Riders     10\n",
        "Mohammad Hafeez  Kolkata Knight Riders      5\n",
        "Name: BatsmanRuns, dtype: int64\n",
        "###### RUNS -> Kolkata Knight Riders  ######\n",
        "\n",
        "###### RUNS -> Royal Challengers Bangalore  ######\n",
        "Batsman     Team                       \n",
        "P Kumar     Royal Challengers Bangalore    18\n",
        "AA Noffke   Royal Challengers Bangalore     9\n",
        "JH Kallis   Royal Challengers Bangalore     8\n",
        "MV Boucher  Royal Challengers Bangalore     7\n",
        "W Jaffer    Royal Challengers Bangalore     6\n",
        "CL White    Royal Challengers Bangalore     6\n",
        "Z Khan      Royal Challengers Bangalore     3\n",
        "SB Joshi    Royal Challengers Bangalore     3\n",
        "R Dravid    Royal Challengers Bangalore     2\n",
        "V Kohli     Royal Challengers Bangalore     1\n",
        "B Akhil     Royal Challengers Bangalore     0\n",
        "Name: BatsmanRuns, dtype: int64\n",
        "###### RUNS -> Royal Challengers Bangalore  ######\n"
       ]
      }
     ],
     "prompt_number": 59
    },
    {
     "cell_type": "code",
     "collapsed": false,
     "input": [
      "print mtchDetDF.head(5)"
     ],
     "language": "python",
     "metadata": {},
     "outputs": [
      {
       "output_type": "stream",
       "stream": "stdout",
       "text": [
        "   MatchId  InnNum  Over      Batsman   NonStriker   Bowler  BatsmanRuns  \\\n",
        "0   335982       1   0.1   SC Ganguly  BB McCullum  P Kumar            0   \n",
        "1   335982       1   0.2  BB McCullum   SC Ganguly  P Kumar            0   \n",
        "2   335982       1   0.3  BB McCullum   SC Ganguly  P Kumar            0   \n",
        "3   335982       1   0.4  BB McCullum   SC Ganguly  P Kumar            0   \n",
        "4   335982       1   0.5  BB McCullum   SC Ganguly  P Kumar            0   \n",
        "\n",
        "   ExtraRuns NonBoundary Substitution Wicket WicketFielder WicketKind  \\\n",
        "0          1        None         None   None          None       None   \n",
        "1          0        None         None   None          None       None   \n",
        "2          1        None         None   None          None       None   \n",
        "3          0        None         None   None          None       None   \n",
        "4          0        None         None   None          None       None   \n",
        "\n",
        "  WicketPlayerOut    Extra                   Team  \n",
        "0            None  legbyes  Kolkata Knight Riders  \n",
        "1            None     None  Kolkata Knight Riders  \n",
        "2            None    wides  Kolkata Knight Riders  \n",
        "3            None     None  Kolkata Knight Riders  \n",
        "4            None     None  Kolkata Knight Riders  \n"
       ]
      }
     ],
     "prompt_number": 43
    },
    {
     "cell_type": "code",
     "collapsed": false,
     "input": [],
     "language": "python",
     "metadata": {},
     "outputs": []
    }
   ],
   "metadata": {}
  }
 ]
}
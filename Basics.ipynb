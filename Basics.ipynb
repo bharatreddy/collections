{
 "metadata": {
  "name": "",
  "signature": "sha256:cca6d2264411bb36ffaa2f717cb9dc62bc7135133435cde2c94b984c996c7976"
 },
 "nbformat": 3,
 "nbformat_minor": 0,
 "worksheets": [
  {
   "cells": [
    {
     "cell_type": "markdown",
     "metadata": {},
     "source": [
      "Setup connection with MySQL.\n",
      "----------------------------"
     ]
    },
    {
     "cell_type": "code",
     "collapsed": false,
     "input": [
      "import pandas\n",
      "import mysql.connector\n",
      "# set up connections to the DB\n",
      "conn = mysql.connector.Connect(host='localhost',user='root',\\\n",
      "                        password='',database='cricdata')"
     ],
     "language": "python",
     "metadata": {},
     "outputs": [],
     "prompt_number": 4
    },
    {
     "cell_type": "markdown",
     "metadata": {},
     "source": [
      "Player of match analysis.\n",
      "------------------------"
     ]
    },
    {
     "cell_type": "code",
     "collapsed": false,
     "input": [
      "# Retreive matchId, team, year, playerofmatch data\n",
      "qryPoM = \"\"\"\n",
      "          SELECT Game.Id, Game.MatchDate,\n",
      "              PlayerOfMatch.Player\n",
      "          FROM Game\n",
      "          INNER JOIN PlayerOfMatch\n",
      "              ON PlayerOfMatch.MatchId = Game.Id\n",
      "         \"\"\"\n",
      "pomDF = pandas.read_sql( qryPoM, conn )\n",
      "# Add an additional year column\n",
      "pomDF['year'] = pandas.DatetimeIndex( pomDF['MatchDate'] ).year\n",
      "# Groupby the players and check who won max awards\n",
      "pomGroups = pomDF.groupby(\"Player\").size().order( ascending=False )\n",
      "print \"######## Top 10 player of match winners (all years) ########\"\n",
      "print pomGroups.head(10)\n",
      "print \"######## Top 10 player of match winners (all years) ########\"\n",
      "# Groupby the players and year\n",
      "pomYearGrp = pomDF.groupby( [ \"Player\", \"year\" ] ).size().order( ascending=False )\n",
      "print \"######## Top 10 player of match winners by year ########\"\n",
      "print pomYearGrp.head(10)\n",
      "print \"######## Top 10 player of match winners by year ########\""
     ],
     "language": "python",
     "metadata": {},
     "outputs": [
      {
       "output_type": "stream",
       "stream": "stdout",
       "text": [
        "######## Top 10 player of match winners (all years) ########\n",
        "Player\n",
        "CH Gayle          15\n",
        "YK Pathan         14\n",
        "MEK Hussey        12\n",
        "V Sehwag          11\n",
        "MS Dhoni          11\n",
        "G Gambhir         11\n",
        "SK Raina          10\n",
        "JH Kallis         10\n",
        "AB de Villiers     9\n",
        "SR Watson          8\n",
        "dtype: int64"
       ]
      },
      {
       "output_type": "stream",
       "stream": "stdout",
       "text": [
        "\n",
        "######## Top 10 player of match winners (all years) ########\n",
        "######## Top 10 player of match winners by year ########\n",
        "Player        year\n",
        "CH Gayle      2011    6\n",
        "SE Marsh      2008    5\n",
        "MEK Hussey    2013    5\n",
        "CH Gayle      2012    5\n",
        "YK Pathan     2008    4\n",
        "SR Watson     2008    4\n",
        "SR Tendulkar  2010    4\n",
        "GJ Maxwell    2014    4\n",
        "A Mishra      2013    4\n",
        "YK Pathan     2009    3\n",
        "dtype: int64\n",
        "######## Top 10 player of match winners by year ########\n"
       ]
      }
     ],
     "prompt_number": 5
    },
    {
     "cell_type": "markdown",
     "metadata": {},
     "source": [
      "Print score cards of a given match.\n",
      "----------------------------------\n",
      "\n",
      "> We'll have a breif overview scorecard and a more detailed one."
     ]
    },
    {
     "cell_type": "code",
     "collapsed": false,
     "input": [
      "# Get all the match Data from Deliveries and Innings data\n",
      "selMatchId = 335982\n",
      "qryMatchDet = \"\"\"\n",
      "                SELECT * FROM Deliveries\n",
      "                WHERE MatchId = \n",
      "              \"\"\"\n",
      "qryInn = \"\"\"\n",
      "            SELECT Team, InningsNum as InnNum FROM Innings\n",
      "            WHERE MatchId =\n",
      "         \"\"\"\n",
      "qryMatchDet += str(selMatchId)\n",
      "qryInn += str(selMatchId)\n",
      "mtchDetDF = pandas.read_sql( qryMatchDet, conn )\n",
      "innDF = pandas.read_sql( qryInn, conn )\n",
      "# We'll just use 1 DF for simplicity, merge both match and innings DFs\n",
      "mtchDetDF = pandas.merge( \\\n",
      "                mtchDetDF, innDF, how='inner', on='InnNum' )\\\n",
      "                .reset_index( drop=True )\n",
      "print mtchDetDF.head(5)"
     ],
     "language": "python",
     "metadata": {},
     "outputs": [
      {
       "output_type": "stream",
       "stream": "stdout",
       "text": [
        "   MatchId  InnNum  Over      Batsman   NonStriker   Bowler  BatsmanRuns  \\\n",
        "0   335982       1   0.1   SC Ganguly  BB McCullum  P Kumar            0   \n",
        "1   335982       1   0.2  BB McCullum   SC Ganguly  P Kumar            0   \n",
        "2   335982       1   0.3  BB McCullum   SC Ganguly  P Kumar            0   \n",
        "3   335982       1   0.4  BB McCullum   SC Ganguly  P Kumar            0   \n",
        "4   335982       1   0.5  BB McCullum   SC Ganguly  P Kumar            0   \n",
        "\n",
        "   ExtraRuns NonBoundary Substitution Wicket WicketFielder WicketKind  \\\n",
        "0          1        None         None   None          None       None   \n",
        "1          0        None         None   None          None       None   \n",
        "2          1        None         None   None          None       None   \n",
        "3          0        None         None   None          None       None   \n",
        "4          0        None         None   None          None       None   \n",
        "\n",
        "  WicketPlayerOut    Extra                   Team  \n",
        "0            None  legbyes  Kolkata Knight Riders  \n",
        "1            None     None  Kolkata Knight Riders  \n",
        "2            None    wides  Kolkata Knight Riders  \n",
        "3            None     None  Kolkata Knight Riders  \n",
        "4            None     None  Kolkata Knight Riders  \n"
       ]
      }
     ],
     "prompt_number": 12
    },
    {
     "cell_type": "code",
     "collapsed": false,
     "input": [],
     "language": "python",
     "metadata": {},
     "outputs": [],
     "prompt_number": 6
    }
   ],
   "metadata": {}
  }
 ]
}